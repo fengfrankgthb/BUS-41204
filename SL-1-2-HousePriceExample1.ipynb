{
  "cells": [
    {
      "cell_type": "markdown",
      "metadata": {
        "id": "view-in-github",
        "colab_type": "text"
      },
      "source": [
        "<a href=\"https://colab.research.google.com/github/fengfrankgthb/BUS-41204/blob/main/SL-1-2-HousePriceExample1.ipynb\" target=\"_parent\"><img src=\"https://colab.research.google.com/assets/colab-badge.svg\" alt=\"Open In Colab\"/></a>"
      ]
    },
    {
      "cell_type": "markdown",
      "metadata": {
        "id": "qQYHn_ZA43WQ"
      },
      "source": [
        "# House Price Prediction\n",
        "\n",
        "Let's look at supervised learning in a classic ML course example: predicting house prices.\n",
        "\n",
        "Our goal is going to build a prediction model to predict the sale price of a house based on easily observed features. The data are from the Seattle, WA area for a few months in 2014.\n",
        "\n"
      ]
    },
    {
      "cell_type": "markdown",
      "source": [
        "**------self note------**\n",
        "* **formulaic**: The Python library that provides a formula-based API for describing statistical models, particularly for use with libraries like Patsy and statistical modeling packages in Python (e.g., statsmodels).\n",
        "      \n",
        "      # Create a design matrix predicting income from the\n",
        "      # different levels of education (as dummy variables), and interaction\n",
        "      # terms between age and the different levels of education.\n",
        "      import pandas as pd\n",
        "      from formulaic import model_matrix\n",
        "\n",
        "      data = pd.DataFrame({\n",
        "        'income': [20000, 30000, 40000, 50000],\n",
        "        'education': ['High School', 'Bachelor', 'Master', 'PhD'],\n",
        "        'age': [25, 35, 45, 55],\n",
        "        'spending': [500, 800, 1200, 1500]\n",
        "      })\n",
        "\n",
        "      # Define a formula\n",
        "      formula = 'spending ~ income + education + age:education'\n",
        "\n",
        "      # Generate the design matrix using formulaic\n",
        "      design_matrix = model_matrix(formula, data)\n",
        "\n",
        "      print(design_matrix)\n",
        "\n",
        "\n",
        "* **matplotlib.pyplot**: the collection of functions in the Matplotlib library that provide a MATLAB-like way of plotting static, interactive, and animated plots in Python. Plots styles includes: line, scatter, bar, histo, pie, box, violin, image...\n",
        "* **seaborn**: a Python data visualization library built on top of Matplotlib for creating statistical graphics such as distribution plots, relational plots, matrix plot, regression plots, and categorical plots.\n",
        "\n",
        "      # Create a scatter plot\n",
        "      sns.scatterplot(x='sepal_length', y='sepal_width', hue='species', data=iris)\n",
        "      plt.title('Sepal Length vs. Sepal Width by Species')\n",
        "      plt.show()\n",
        "\n",
        "      # Create a histogram\n",
        "      sns.histplot(iris['petal_length'], kde=True)\n",
        "      plt.title('Distribution of Petal Length')\n",
        "      plt.show()\n",
        "\n",
        "**------end note------**\n"
      ],
      "metadata": {
        "id": "HTHumNG81jrz"
      }
    },
    {
      "cell_type": "markdown",
      "metadata": {
        "id": "hVwPwD_75j3o"
      },
      "source": [
        "We start by importing packages we will be using. See [our first example](https://colab.research.google.com/github/chansen776/MBA-ML-Course-Materials/blob/main/Code/BiasVarianceExample1.ipynb).\n"
      ]
    },
    {
      "cell_type": "code",
      "execution_count": 1,
      "metadata": {
        "id": "CUO7PPC342qq",
        "outputId": "1f434587-376a-4743-c11c-b13091a9d31b",
        "colab": {
          "base_uri": "https://localhost:8080/"
        }
      },
      "outputs": [
        {
          "output_type": "stream",
          "name": "stdout",
          "text": [
            "Collecting formulaic\n",
            "  Downloading formulaic-1.1.1-py3-none-any.whl.metadata (6.9 kB)\n",
            "Collecting interface-meta>=1.2.0 (from formulaic)\n",
            "  Downloading interface_meta-1.3.0-py3-none-any.whl.metadata (6.7 kB)\n",
            "Requirement already satisfied: numpy>=1.16.5 in /usr/local/lib/python3.11/dist-packages (from formulaic) (2.0.2)\n",
            "Requirement already satisfied: pandas>=1.0 in /usr/local/lib/python3.11/dist-packages (from formulaic) (2.2.2)\n",
            "Requirement already satisfied: scipy>=1.6 in /usr/local/lib/python3.11/dist-packages (from formulaic) (1.14.1)\n",
            "Requirement already satisfied: typing-extensions>=4.2.0 in /usr/local/lib/python3.11/dist-packages (from formulaic) (4.13.1)\n",
            "Requirement already satisfied: wrapt>=1.0 in /usr/local/lib/python3.11/dist-packages (from formulaic) (1.17.2)\n",
            "Requirement already satisfied: python-dateutil>=2.8.2 in /usr/local/lib/python3.11/dist-packages (from pandas>=1.0->formulaic) (2.8.2)\n",
            "Requirement already satisfied: pytz>=2020.1 in /usr/local/lib/python3.11/dist-packages (from pandas>=1.0->formulaic) (2025.2)\n",
            "Requirement already satisfied: tzdata>=2022.7 in /usr/local/lib/python3.11/dist-packages (from pandas>=1.0->formulaic) (2025.2)\n",
            "Requirement already satisfied: six>=1.5 in /usr/local/lib/python3.11/dist-packages (from python-dateutil>=2.8.2->pandas>=1.0->formulaic) (1.17.0)\n",
            "Downloading formulaic-1.1.1-py3-none-any.whl (115 kB)\n",
            "\u001b[2K   \u001b[90m━━━━━━━━━━━━━━━━━━━━━━━━━━━━━━━━━━━━━━━━\u001b[0m \u001b[32m115.7/115.7 kB\u001b[0m \u001b[31m3.3 MB/s\u001b[0m eta \u001b[36m0:00:00\u001b[0m\n",
            "\u001b[?25hDownloading interface_meta-1.3.0-py3-none-any.whl (14 kB)\n",
            "Installing collected packages: interface-meta, formulaic\n",
            "Successfully installed formulaic-1.1.1 interface-meta-1.3.0\n"
          ]
        }
      ],
      "source": [
        "# Install extra libraries\n",
        "!pip install formulaic\n",
        "from formulaic import model_matrix\n",
        "\n",
        "# Import relevant packages\n",
        "import pandas as pd\n",
        "import numpy as np\n",
        "import matplotlib.pyplot as plt\n",
        "import seaborn as sns\n",
        "import statsmodels.api as sm\n",
        "import statsmodels.formula.api as smf\n",
        "from sklearn.metrics import make_scorer\n",
        "from sklearn.base import BaseEstimator, RegressorMixin\n",
        "from sklearn.model_selection import KFold, GridSearchCV\n",
        "from sklearn.model_selection import cross_validate, cross_val_score\n",
        "from sklearn.linear_model import LinearRegression\n",
        "from sklearn.linear_model import QuantileRegressor\n",
        "from sklearn.pipeline import make_pipeline\n",
        "from sklearn.preprocessing import StandardScaler\n",
        "from sklearn.linear_model import Lasso\n",
        "from sklearn.tree import DecisionTreeRegressor\n",
        "from sklearn.tree import plot_tree\n",
        "\n",
        "# Not the best practice, but we're going to suppress warnings for ease of display\n",
        "# if we're looking at things during teaching\n",
        "import warnings\n",
        "warnings.filterwarnings(\"ignore\") # drop warning messages that don't stop model processing\n",
        "\n",
        "# Seed we will use for random number generators\n",
        "rng = 713\n"
      ]
    },
    {
      "cell_type": "markdown",
      "metadata": {
        "id": "HGTjeNS_5r_P"
      },
      "source": [
        "# Load and examine the data\n",
        "\n",
        "We need to load the data. We will do this directly from a github repository for the course."
      ]
    },
    {
      "cell_type": "code",
      "execution_count": 2,
      "metadata": {
        "id": "HZ7XYfNl5wIY",
        "outputId": "07a7aa16-2412-40c2-be16-8912c51402ed",
        "colab": {
          "base_uri": "https://localhost:8080/"
        }
      },
      "outputs": [
        {
          "output_type": "execute_result",
          "data": {
            "text/plain": [
              "(4551, 18)"
            ]
          },
          "metadata": {},
          "execution_count": 2
        }
      ],
      "source": [
        "file = \"https://raw.githubusercontent.com/chansen776/MBA-ML-Course-Materials/main/Data/WAHousePrice.xlsx\"\n",
        "data = pd.read_excel(file)\n",
        "data.shape  # See size of dataset"
      ]
    },
    {
      "cell_type": "markdown",
      "metadata": {
        "id": "Uawq8W9i6NF-"
      },
      "source": [
        "Let's take a look at what's in the data"
      ]
    },
    {
      "cell_type": "code",
      "execution_count": 3,
      "metadata": {
        "id": "WOd_qOmg6Nwz",
        "outputId": "ad2c460b-8f01-4e8d-f19e-c03e231d5876",
        "colab": {
          "base_uri": "https://localhost:8080/"
        }
      },
      "outputs": [
        {
          "output_type": "execute_result",
          "data": {
            "text/plain": [
              "Index(['date', 'price', 'bathrooms', 'bedrooms', 'sqft_living', 'sqft_lot',\n",
              "       'floors', 'waterfront', 'view', 'condition', 'sqft_above',\n",
              "       'sqft_basement', 'yr_built', 'yr_renovated', 'street', 'city',\n",
              "       'statezip', 'country'],\n",
              "      dtype='object')"
            ]
          },
          "metadata": {},
          "execution_count": 3
        }
      ],
      "source": [
        "data.columns"
      ]
    },
    {
      "cell_type": "code",
      "execution_count": 4,
      "metadata": {
        "id": "NNBQ2oc66VdH",
        "outputId": "bfd24d96-a52c-4b07-b8f8-c65f81346174",
        "colab": {
          "base_uri": "https://localhost:8080/",
          "height": 424
        }
      },
      "outputs": [
        {
          "output_type": "execute_result",
          "data": {
            "text/plain": [
              "                                date         price    bathrooms     bedrooms  \\\n",
              "count                           4551  4.551000e+03  4551.000000  4551.000000   \n",
              "mean   2014-06-07 03:59:12.537903872  5.579059e+05     2.155021     3.394639   \n",
              "min              2014-05-02 00:00:00  7.800000e+03     0.000000     0.000000   \n",
              "25%              2014-05-21 00:00:00  3.262643e+05     1.750000     3.000000   \n",
              "50%              2014-06-09 00:00:00  4.650000e+05     2.250000     3.000000   \n",
              "75%              2014-06-24 00:00:00  6.575000e+05     2.500000     4.000000   \n",
              "max              2014-07-10 00:00:00  2.659000e+07     8.000000     9.000000   \n",
              "std                              NaN  5.639299e+05     0.776351     0.904595   \n",
              "\n",
              "        sqft_living      sqft_lot       floors   waterfront         view  \\\n",
              "count   4551.000000  4.551000e+03  4551.000000  4551.000000  4551.000000   \n",
              "mean    2132.372226  1.483528e+04     1.512195     0.006592     0.234674   \n",
              "min      370.000000  6.380000e+02     1.000000     0.000000     0.000000   \n",
              "25%     1460.000000  5.000000e+03     1.000000     0.000000     0.000000   \n",
              "50%     1970.000000  7.680000e+03     1.500000     0.000000     0.000000   \n",
              "75%     2610.000000  1.097800e+04     2.000000     0.000000     0.000000   \n",
              "max    13540.000000  1.074218e+06     3.500000     1.000000     4.000000   \n",
              "std      955.949708  3.596408e+04     0.538531     0.080932     0.765373   \n",
              "\n",
              "         condition   sqft_above  sqft_basement     yr_built  yr_renovated  \n",
              "count  4551.000000  4551.000000    4551.000000  4551.000000   4551.000000  \n",
              "mean      3.449352  1822.221710     310.150516  1970.795649    808.564052  \n",
              "min       1.000000   370.000000       0.000000  1900.000000      0.000000  \n",
              "25%       3.000000  1190.000000       0.000000  1951.000000      0.000000  \n",
              "50%       3.000000  1590.000000       0.000000  1976.000000      0.000000  \n",
              "75%       4.000000  2300.000000     600.000000  1997.000000   1999.000000  \n",
              "max       5.000000  9410.000000    4820.000000  2014.000000   2014.000000  \n",
              "std       0.675160   854.452888     461.987629    29.760073    979.421487  "
            ],
            "text/html": [
              "\n",
              "  <div id=\"df-20d951b0-e8e7-4134-8b3a-1fb96b0ccd26\" class=\"colab-df-container\">\n",
              "    <div>\n",
              "<style scoped>\n",
              "    .dataframe tbody tr th:only-of-type {\n",
              "        vertical-align: middle;\n",
              "    }\n",
              "\n",
              "    .dataframe tbody tr th {\n",
              "        vertical-align: top;\n",
              "    }\n",
              "\n",
              "    .dataframe thead th {\n",
              "        text-align: right;\n",
              "    }\n",
              "</style>\n",
              "<table border=\"1\" class=\"dataframe\">\n",
              "  <thead>\n",
              "    <tr style=\"text-align: right;\">\n",
              "      <th></th>\n",
              "      <th>date</th>\n",
              "      <th>price</th>\n",
              "      <th>bathrooms</th>\n",
              "      <th>bedrooms</th>\n",
              "      <th>sqft_living</th>\n",
              "      <th>sqft_lot</th>\n",
              "      <th>floors</th>\n",
              "      <th>waterfront</th>\n",
              "      <th>view</th>\n",
              "      <th>condition</th>\n",
              "      <th>sqft_above</th>\n",
              "      <th>sqft_basement</th>\n",
              "      <th>yr_built</th>\n",
              "      <th>yr_renovated</th>\n",
              "    </tr>\n",
              "  </thead>\n",
              "  <tbody>\n",
              "    <tr>\n",
              "      <th>count</th>\n",
              "      <td>4551</td>\n",
              "      <td>4.551000e+03</td>\n",
              "      <td>4551.000000</td>\n",
              "      <td>4551.000000</td>\n",
              "      <td>4551.000000</td>\n",
              "      <td>4.551000e+03</td>\n",
              "      <td>4551.000000</td>\n",
              "      <td>4551.000000</td>\n",
              "      <td>4551.000000</td>\n",
              "      <td>4551.000000</td>\n",
              "      <td>4551.000000</td>\n",
              "      <td>4551.000000</td>\n",
              "      <td>4551.000000</td>\n",
              "      <td>4551.000000</td>\n",
              "    </tr>\n",
              "    <tr>\n",
              "      <th>mean</th>\n",
              "      <td>2014-06-07 03:59:12.537903872</td>\n",
              "      <td>5.579059e+05</td>\n",
              "      <td>2.155021</td>\n",
              "      <td>3.394639</td>\n",
              "      <td>2132.372226</td>\n",
              "      <td>1.483528e+04</td>\n",
              "      <td>1.512195</td>\n",
              "      <td>0.006592</td>\n",
              "      <td>0.234674</td>\n",
              "      <td>3.449352</td>\n",
              "      <td>1822.221710</td>\n",
              "      <td>310.150516</td>\n",
              "      <td>1970.795649</td>\n",
              "      <td>808.564052</td>\n",
              "    </tr>\n",
              "    <tr>\n",
              "      <th>min</th>\n",
              "      <td>2014-05-02 00:00:00</td>\n",
              "      <td>7.800000e+03</td>\n",
              "      <td>0.000000</td>\n",
              "      <td>0.000000</td>\n",
              "      <td>370.000000</td>\n",
              "      <td>6.380000e+02</td>\n",
              "      <td>1.000000</td>\n",
              "      <td>0.000000</td>\n",
              "      <td>0.000000</td>\n",
              "      <td>1.000000</td>\n",
              "      <td>370.000000</td>\n",
              "      <td>0.000000</td>\n",
              "      <td>1900.000000</td>\n",
              "      <td>0.000000</td>\n",
              "    </tr>\n",
              "    <tr>\n",
              "      <th>25%</th>\n",
              "      <td>2014-05-21 00:00:00</td>\n",
              "      <td>3.262643e+05</td>\n",
              "      <td>1.750000</td>\n",
              "      <td>3.000000</td>\n",
              "      <td>1460.000000</td>\n",
              "      <td>5.000000e+03</td>\n",
              "      <td>1.000000</td>\n",
              "      <td>0.000000</td>\n",
              "      <td>0.000000</td>\n",
              "      <td>3.000000</td>\n",
              "      <td>1190.000000</td>\n",
              "      <td>0.000000</td>\n",
              "      <td>1951.000000</td>\n",
              "      <td>0.000000</td>\n",
              "    </tr>\n",
              "    <tr>\n",
              "      <th>50%</th>\n",
              "      <td>2014-06-09 00:00:00</td>\n",
              "      <td>4.650000e+05</td>\n",
              "      <td>2.250000</td>\n",
              "      <td>3.000000</td>\n",
              "      <td>1970.000000</td>\n",
              "      <td>7.680000e+03</td>\n",
              "      <td>1.500000</td>\n",
              "      <td>0.000000</td>\n",
              "      <td>0.000000</td>\n",
              "      <td>3.000000</td>\n",
              "      <td>1590.000000</td>\n",
              "      <td>0.000000</td>\n",
              "      <td>1976.000000</td>\n",
              "      <td>0.000000</td>\n",
              "    </tr>\n",
              "    <tr>\n",
              "      <th>75%</th>\n",
              "      <td>2014-06-24 00:00:00</td>\n",
              "      <td>6.575000e+05</td>\n",
              "      <td>2.500000</td>\n",
              "      <td>4.000000</td>\n",
              "      <td>2610.000000</td>\n",
              "      <td>1.097800e+04</td>\n",
              "      <td>2.000000</td>\n",
              "      <td>0.000000</td>\n",
              "      <td>0.000000</td>\n",
              "      <td>4.000000</td>\n",
              "      <td>2300.000000</td>\n",
              "      <td>600.000000</td>\n",
              "      <td>1997.000000</td>\n",
              "      <td>1999.000000</td>\n",
              "    </tr>\n",
              "    <tr>\n",
              "      <th>max</th>\n",
              "      <td>2014-07-10 00:00:00</td>\n",
              "      <td>2.659000e+07</td>\n",
              "      <td>8.000000</td>\n",
              "      <td>9.000000</td>\n",
              "      <td>13540.000000</td>\n",
              "      <td>1.074218e+06</td>\n",
              "      <td>3.500000</td>\n",
              "      <td>1.000000</td>\n",
              "      <td>4.000000</td>\n",
              "      <td>5.000000</td>\n",
              "      <td>9410.000000</td>\n",
              "      <td>4820.000000</td>\n",
              "      <td>2014.000000</td>\n",
              "      <td>2014.000000</td>\n",
              "    </tr>\n",
              "    <tr>\n",
              "      <th>std</th>\n",
              "      <td>NaN</td>\n",
              "      <td>5.639299e+05</td>\n",
              "      <td>0.776351</td>\n",
              "      <td>0.904595</td>\n",
              "      <td>955.949708</td>\n",
              "      <td>3.596408e+04</td>\n",
              "      <td>0.538531</td>\n",
              "      <td>0.080932</td>\n",
              "      <td>0.765373</td>\n",
              "      <td>0.675160</td>\n",
              "      <td>854.452888</td>\n",
              "      <td>461.987629</td>\n",
              "      <td>29.760073</td>\n",
              "      <td>979.421487</td>\n",
              "    </tr>\n",
              "  </tbody>\n",
              "</table>\n",
              "</div>\n",
              "    <div class=\"colab-df-buttons\">\n",
              "\n",
              "  <div class=\"colab-df-container\">\n",
              "    <button class=\"colab-df-convert\" onclick=\"convertToInteractive('df-20d951b0-e8e7-4134-8b3a-1fb96b0ccd26')\"\n",
              "            title=\"Convert this dataframe to an interactive table.\"\n",
              "            style=\"display:none;\">\n",
              "\n",
              "  <svg xmlns=\"http://www.w3.org/2000/svg\" height=\"24px\" viewBox=\"0 -960 960 960\">\n",
              "    <path d=\"M120-120v-720h720v720H120Zm60-500h600v-160H180v160Zm220 220h160v-160H400v160Zm0 220h160v-160H400v160ZM180-400h160v-160H180v160Zm440 0h160v-160H620v160ZM180-180h160v-160H180v160Zm440 0h160v-160H620v160Z\"/>\n",
              "  </svg>\n",
              "    </button>\n",
              "\n",
              "  <style>\n",
              "    .colab-df-container {\n",
              "      display:flex;\n",
              "      gap: 12px;\n",
              "    }\n",
              "\n",
              "    .colab-df-convert {\n",
              "      background-color: #E8F0FE;\n",
              "      border: none;\n",
              "      border-radius: 50%;\n",
              "      cursor: pointer;\n",
              "      display: none;\n",
              "      fill: #1967D2;\n",
              "      height: 32px;\n",
              "      padding: 0 0 0 0;\n",
              "      width: 32px;\n",
              "    }\n",
              "\n",
              "    .colab-df-convert:hover {\n",
              "      background-color: #E2EBFA;\n",
              "      box-shadow: 0px 1px 2px rgba(60, 64, 67, 0.3), 0px 1px 3px 1px rgba(60, 64, 67, 0.15);\n",
              "      fill: #174EA6;\n",
              "    }\n",
              "\n",
              "    .colab-df-buttons div {\n",
              "      margin-bottom: 4px;\n",
              "    }\n",
              "\n",
              "    [theme=dark] .colab-df-convert {\n",
              "      background-color: #3B4455;\n",
              "      fill: #D2E3FC;\n",
              "    }\n",
              "\n",
              "    [theme=dark] .colab-df-convert:hover {\n",
              "      background-color: #434B5C;\n",
              "      box-shadow: 0px 1px 3px 1px rgba(0, 0, 0, 0.15);\n",
              "      filter: drop-shadow(0px 1px 2px rgba(0, 0, 0, 0.3));\n",
              "      fill: #FFFFFF;\n",
              "    }\n",
              "  </style>\n",
              "\n",
              "    <script>\n",
              "      const buttonEl =\n",
              "        document.querySelector('#df-20d951b0-e8e7-4134-8b3a-1fb96b0ccd26 button.colab-df-convert');\n",
              "      buttonEl.style.display =\n",
              "        google.colab.kernel.accessAllowed ? 'block' : 'none';\n",
              "\n",
              "      async function convertToInteractive(key) {\n",
              "        const element = document.querySelector('#df-20d951b0-e8e7-4134-8b3a-1fb96b0ccd26');\n",
              "        const dataTable =\n",
              "          await google.colab.kernel.invokeFunction('convertToInteractive',\n",
              "                                                    [key], {});\n",
              "        if (!dataTable) return;\n",
              "\n",
              "        const docLinkHtml = 'Like what you see? Visit the ' +\n",
              "          '<a target=\"_blank\" href=https://colab.research.google.com/notebooks/data_table.ipynb>data table notebook</a>'\n",
              "          + ' to learn more about interactive tables.';\n",
              "        element.innerHTML = '';\n",
              "        dataTable['output_type'] = 'display_data';\n",
              "        await google.colab.output.renderOutput(dataTable, element);\n",
              "        const docLink = document.createElement('div');\n",
              "        docLink.innerHTML = docLinkHtml;\n",
              "        element.appendChild(docLink);\n",
              "      }\n",
              "    </script>\n",
              "  </div>\n",
              "\n",
              "\n",
              "<div id=\"df-dbbce10f-246b-45af-a585-f928665f151e\">\n",
              "  <button class=\"colab-df-quickchart\" onclick=\"quickchart('df-dbbce10f-246b-45af-a585-f928665f151e')\"\n",
              "            title=\"Suggest charts\"\n",
              "            style=\"display:none;\">\n",
              "\n",
              "<svg xmlns=\"http://www.w3.org/2000/svg\" height=\"24px\"viewBox=\"0 0 24 24\"\n",
              "     width=\"24px\">\n",
              "    <g>\n",
              "        <path d=\"M19 3H5c-1.1 0-2 .9-2 2v14c0 1.1.9 2 2 2h14c1.1 0 2-.9 2-2V5c0-1.1-.9-2-2-2zM9 17H7v-7h2v7zm4 0h-2V7h2v10zm4 0h-2v-4h2v4z\"/>\n",
              "    </g>\n",
              "</svg>\n",
              "  </button>\n",
              "\n",
              "<style>\n",
              "  .colab-df-quickchart {\n",
              "      --bg-color: #E8F0FE;\n",
              "      --fill-color: #1967D2;\n",
              "      --hover-bg-color: #E2EBFA;\n",
              "      --hover-fill-color: #174EA6;\n",
              "      --disabled-fill-color: #AAA;\n",
              "      --disabled-bg-color: #DDD;\n",
              "  }\n",
              "\n",
              "  [theme=dark] .colab-df-quickchart {\n",
              "      --bg-color: #3B4455;\n",
              "      --fill-color: #D2E3FC;\n",
              "      --hover-bg-color: #434B5C;\n",
              "      --hover-fill-color: #FFFFFF;\n",
              "      --disabled-bg-color: #3B4455;\n",
              "      --disabled-fill-color: #666;\n",
              "  }\n",
              "\n",
              "  .colab-df-quickchart {\n",
              "    background-color: var(--bg-color);\n",
              "    border: none;\n",
              "    border-radius: 50%;\n",
              "    cursor: pointer;\n",
              "    display: none;\n",
              "    fill: var(--fill-color);\n",
              "    height: 32px;\n",
              "    padding: 0;\n",
              "    width: 32px;\n",
              "  }\n",
              "\n",
              "  .colab-df-quickchart:hover {\n",
              "    background-color: var(--hover-bg-color);\n",
              "    box-shadow: 0 1px 2px rgba(60, 64, 67, 0.3), 0 1px 3px 1px rgba(60, 64, 67, 0.15);\n",
              "    fill: var(--button-hover-fill-color);\n",
              "  }\n",
              "\n",
              "  .colab-df-quickchart-complete:disabled,\n",
              "  .colab-df-quickchart-complete:disabled:hover {\n",
              "    background-color: var(--disabled-bg-color);\n",
              "    fill: var(--disabled-fill-color);\n",
              "    box-shadow: none;\n",
              "  }\n",
              "\n",
              "  .colab-df-spinner {\n",
              "    border: 2px solid var(--fill-color);\n",
              "    border-color: transparent;\n",
              "    border-bottom-color: var(--fill-color);\n",
              "    animation:\n",
              "      spin 1s steps(1) infinite;\n",
              "  }\n",
              "\n",
              "  @keyframes spin {\n",
              "    0% {\n",
              "      border-color: transparent;\n",
              "      border-bottom-color: var(--fill-color);\n",
              "      border-left-color: var(--fill-color);\n",
              "    }\n",
              "    20% {\n",
              "      border-color: transparent;\n",
              "      border-left-color: var(--fill-color);\n",
              "      border-top-color: var(--fill-color);\n",
              "    }\n",
              "    30% {\n",
              "      border-color: transparent;\n",
              "      border-left-color: var(--fill-color);\n",
              "      border-top-color: var(--fill-color);\n",
              "      border-right-color: var(--fill-color);\n",
              "    }\n",
              "    40% {\n",
              "      border-color: transparent;\n",
              "      border-right-color: var(--fill-color);\n",
              "      border-top-color: var(--fill-color);\n",
              "    }\n",
              "    60% {\n",
              "      border-color: transparent;\n",
              "      border-right-color: var(--fill-color);\n",
              "    }\n",
              "    80% {\n",
              "      border-color: transparent;\n",
              "      border-right-color: var(--fill-color);\n",
              "      border-bottom-color: var(--fill-color);\n",
              "    }\n",
              "    90% {\n",
              "      border-color: transparent;\n",
              "      border-bottom-color: var(--fill-color);\n",
              "    }\n",
              "  }\n",
              "</style>\n",
              "\n",
              "  <script>\n",
              "    async function quickchart(key) {\n",
              "      const quickchartButtonEl =\n",
              "        document.querySelector('#' + key + ' button');\n",
              "      quickchartButtonEl.disabled = true;  // To prevent multiple clicks.\n",
              "      quickchartButtonEl.classList.add('colab-df-spinner');\n",
              "      try {\n",
              "        const charts = await google.colab.kernel.invokeFunction(\n",
              "            'suggestCharts', [key], {});\n",
              "      } catch (error) {\n",
              "        console.error('Error during call to suggestCharts:', error);\n",
              "      }\n",
              "      quickchartButtonEl.classList.remove('colab-df-spinner');\n",
              "      quickchartButtonEl.classList.add('colab-df-quickchart-complete');\n",
              "    }\n",
              "    (() => {\n",
              "      let quickchartButtonEl =\n",
              "        document.querySelector('#df-dbbce10f-246b-45af-a585-f928665f151e button');\n",
              "      quickchartButtonEl.style.display =\n",
              "        google.colab.kernel.accessAllowed ? 'block' : 'none';\n",
              "    })();\n",
              "  </script>\n",
              "</div>\n",
              "\n",
              "    </div>\n",
              "  </div>\n"
            ],
            "application/vnd.google.colaboratory.intrinsic+json": {
              "type": "dataframe",
              "summary": "{\n  \"name\": \"data\",\n  \"rows\": 8,\n  \"fields\": [\n    {\n      \"column\": \"date\",\n      \"properties\": {\n        \"dtype\": \"date\",\n        \"min\": \"1970-01-01 00:00:00.000004551\",\n        \"max\": \"2014-07-10 00:00:00\",\n        \"num_unique_values\": 7,\n        \"samples\": [\n          \"4551\",\n          \"2014-06-07 03:59:12.537903872\",\n          \"2014-06-24 00:00:00\"\n        ],\n        \"semantic_type\": \"\",\n        \"description\": \"\"\n      }\n    },\n    {\n      \"column\": \"price\",\n      \"properties\": {\n        \"dtype\": \"number\",\n        \"std\": 9273848.044846449,\n        \"min\": 4551.0,\n        \"max\": 26590000.0,\n        \"num_unique_values\": 8,\n        \"samples\": [\n          557905.8991379443,\n          657500.0,\n          4551.0\n        ],\n        \"semantic_type\": \"\",\n        \"description\": \"\"\n      }\n    },\n    {\n      \"column\": \"bathrooms\",\n      \"properties\": {\n        \"dtype\": \"number\",\n        \"std\": 1608.1428495292485,\n        \"min\": 0.0,\n        \"max\": 4551.0,\n        \"num_unique_values\": 8,\n        \"samples\": [\n          2.1550208745330695,\n          2.5,\n          4551.0\n        ],\n        \"semantic_type\": \"\",\n        \"description\": \"\"\n      }\n    },\n    {\n      \"column\": \"bedrooms\",\n      \"properties\": {\n        \"dtype\": \"number\",\n        \"std\": 1607.8469035642354,\n        \"min\": 0.0,\n        \"max\": 4551.0,\n        \"num_unique_values\": 7,\n        \"samples\": [\n          4551.0,\n          3.3946385409800044,\n          9.0\n        ],\n        \"semantic_type\": \"\",\n        \"description\": \"\"\n      }\n    },\n    {\n      \"column\": \"sqft_living\",\n      \"properties\": {\n        \"dtype\": \"number\",\n        \"std\": 4264.793020557647,\n        \"min\": 370.0,\n        \"max\": 13540.0,\n        \"num_unique_values\": 8,\n        \"samples\": [\n          2132.372225884421,\n          2610.0,\n          4551.0\n        ],\n        \"semantic_type\": \"\",\n        \"description\": \"\"\n      }\n    },\n    {\n      \"column\": \"sqft_lot\",\n      \"properties\": {\n        \"dtype\": \"number\",\n        \"std\": 375928.9560147618,\n        \"min\": 638.0,\n        \"max\": 1074218.0,\n        \"num_unique_values\": 8,\n        \"samples\": [\n          14835.280597670842,\n          10978.0,\n          4551.0\n        ],\n        \"semantic_type\": \"\",\n        \"description\": \"\"\n      }\n    },\n    {\n      \"column\": \"floors\",\n      \"properties\": {\n        \"dtype\": \"number\",\n        \"std\": 1608.4635846855663,\n        \"min\": 0.538531411785337,\n        \"max\": 4551.0,\n        \"num_unique_values\": 7,\n        \"samples\": [\n          4551.0,\n          1.5121951219512195,\n          3.5\n        ],\n        \"semantic_type\": \"\",\n        \"description\": \"\"\n      }\n    },\n    {\n      \"column\": \"waterfront\",\n      \"properties\": {\n        \"dtype\": \"number\",\n        \"std\": 1608.9665895355524,\n        \"min\": 0.0,\n        \"max\": 4551.0,\n        \"num_unique_values\": 5,\n        \"samples\": [\n          0.0065919578114700065,\n          0.08093171896919993,\n          0.0\n        ],\n        \"semantic_type\": \"\",\n        \"description\": \"\"\n      }\n    },\n    {\n      \"column\": \"view\",\n      \"properties\": {\n        \"dtype\": \"number\",\n        \"std\": 1608.7695203873755,\n        \"min\": 0.0,\n        \"max\": 4551.0,\n        \"num_unique_values\": 5,\n        \"samples\": [\n          0.23467369808833224,\n          0.7653726364487625,\n          0.0\n        ],\n        \"semantic_type\": \"\",\n        \"description\": \"\"\n      }\n    },\n    {\n      \"column\": \"condition\",\n      \"properties\": {\n        \"dtype\": \"number\",\n        \"std\": 1608.0056832381067,\n        \"min\": 0.6751598244295312,\n        \"max\": 4551.0,\n        \"num_unique_values\": 7,\n        \"samples\": [\n          4551.0,\n          3.4493517908152054,\n          5.0\n        ],\n        \"semantic_type\": \"\",\n        \"description\": \"\"\n      }\n    },\n    {\n      \"column\": \"sqft_above\",\n      \"properties\": {\n        \"dtype\": \"number\",\n        \"std\": 2968.8432465135475,\n        \"min\": 370.0,\n        \"max\": 9410.0,\n        \"num_unique_values\": 8,\n        \"samples\": [\n          1822.2217095143924,\n          2300.0,\n          4551.0\n        ],\n        \"semantic_type\": \"\",\n        \"description\": \"\"\n      }\n    },\n    {\n      \"column\": \"sqft_basement\",\n      \"properties\": {\n        \"dtype\": \"number\",\n        \"std\": 2076.630160383801,\n        \"min\": 0.0,\n        \"max\": 4820.0,\n        \"num_unique_values\": 6,\n        \"samples\": [\n          4551.0,\n          310.1505163700286,\n          461.9876288473146\n        ],\n        \"semantic_type\": \"\",\n        \"description\": \"\"\n      }\n    },\n    {\n      \"column\": \"yr_built\",\n      \"properties\": {\n        \"dtype\": \"number\",\n        \"std\": 1217.9908546977738,\n        \"min\": 29.760073384998613,\n        \"max\": 4551.0,\n        \"num_unique_values\": 8,\n        \"samples\": [\n          1970.7956493078445,\n          1997.0,\n          4551.0\n        ],\n        \"semantic_type\": \"\",\n        \"description\": \"\"\n      }\n    },\n    {\n      \"column\": \"yr_renovated\",\n      \"properties\": {\n        \"dtype\": \"number\",\n        \"std\": 1557.5342096897903,\n        \"min\": 0.0,\n        \"max\": 4551.0,\n        \"num_unique_values\": 6,\n        \"samples\": [\n          4551.0,\n          808.5640518567347,\n          979.4214871381294\n        ],\n        \"semantic_type\": \"\",\n        \"description\": \"\"\n      }\n    }\n  ]\n}"
            }
          },
          "metadata": {},
          "execution_count": 4
        }
      ],
      "source": [
        "data.describe()"
      ]
    },
    {
      "cell_type": "markdown",
      "metadata": {
        "id": "ATh6tWpfX7lY"
      },
      "source": [
        "The maximum price 2.659000e+07 = 26,590,000 seems very high. We'll look at this again in a second. There are also some very low prices and properties with 0 bedrooms and bathrooms. Nothing else in the summary statistics stands out as particularly noteworthy."
      ]
    },
    {
      "cell_type": "markdown",
      "metadata": {
        "id": "20EfbUuMfhJM"
      },
      "source": [
        "Do the the square footage variables `sqft_living`, `sqft_above` and `sqft_basement` capture different information?"
      ]
    },
    {
      "cell_type": "code",
      "execution_count": 5,
      "metadata": {
        "id": "oUZ3VAEsfqI_",
        "outputId": "47588053-dbc6-41a9-dc0c-be0525fd981a",
        "colab": {
          "base_uri": "https://localhost:8080/"
        }
      },
      "outputs": [
        {
          "output_type": "stream",
          "name": "stdout",
          "text": [
            "Correlation of sqft_living with (sqft_above+sqft_basement): 1.0\n",
            "Correlation of sqft_living with sqft_above: 0.8756565340919786\n",
            "Correlation of sqft_living with sqft_basement: 0.44967103186276847\n"
          ]
        }
      ],
      "source": [
        "# Let's calculate the correlation of sqft_living with sqft_above+sqft_basement\n",
        "print('Correlation of sqft_living with (sqft_above+sqft_basement):',\n",
        "      data['sqft_living'].corr(data['sqft_above']+data['sqft_basement']))\n",
        "\n",
        "# Let's calculate the correlation with each element instead\n",
        "print('Correlation of sqft_living with sqft_above:',\n",
        "      data['sqft_living'].corr(data['sqft_above']))\n",
        "print('Correlation of sqft_living with sqft_basement:',\n",
        "      data['sqft_living'].corr(data['sqft_basement']))\n"
      ]
    },
    {
      "cell_type": "markdown",
      "metadata": {
        "id": "KxD3-Zz5hdca"
      },
      "source": [
        "Cannot use `sqft_living` and both `sqft_basement` and `sqft_above` in the same linear model estimated by least squares (or least absolute values).\n",
        "\n",
        "**Question:** How do we choose which to use?\n",
        "\n",
        "**Frank Note**: USe either sqft_living AND sqft_basement."
      ]
    },
    {
      "cell_type": "markdown",
      "metadata": {
        "id": "DfMcCMY1SFR-"
      },
      "source": [
        "Let's quickly examine the 0 bedroom and 0 bathroom observations."
      ]
    },
    {
      "cell_type": "code",
      "execution_count": 6,
      "metadata": {
        "id": "KKexVSP_Ss25",
        "outputId": "ca0a8b6c-c227-4665-c201-d430cd0d1e37",
        "colab": {
          "base_uri": "https://localhost:8080/",
          "height": 219
        }
      },
      "outputs": [
        {
          "output_type": "execute_result",
          "data": {
            "text/plain": [
              "           date      price  bathrooms  bedrooms  sqft_living  sqft_lot  \\\n",
              "1750 2014-06-12  1095000.0        0.0         0         3064      4764   \n",
              "2394 2014-06-24  1295648.0        0.0         0         4810     28008   \n",
              "\n",
              "      floors  waterfront  view  condition  sqft_above  sqft_basement  \\\n",
              "1750     3.5           0     2          3        3064              0   \n",
              "2394     2.0           0     0          3        4810              0   \n",
              "\n",
              "      yr_built  yr_renovated            street     city  statezip country  \n",
              "1750      1990          2009     814 E Howe St  Seattle  WA 98102     USA  \n",
              "2394      1990          2009  20418 NE 64th Pl  Redmond  WA 98053     USA  "
            ],
            "text/html": [
              "\n",
              "  <div id=\"df-179e92cb-2e2c-40c5-8897-e7a229afaa16\" class=\"colab-df-container\">\n",
              "    <div>\n",
              "<style scoped>\n",
              "    .dataframe tbody tr th:only-of-type {\n",
              "        vertical-align: middle;\n",
              "    }\n",
              "\n",
              "    .dataframe tbody tr th {\n",
              "        vertical-align: top;\n",
              "    }\n",
              "\n",
              "    .dataframe thead th {\n",
              "        text-align: right;\n",
              "    }\n",
              "</style>\n",
              "<table border=\"1\" class=\"dataframe\">\n",
              "  <thead>\n",
              "    <tr style=\"text-align: right;\">\n",
              "      <th></th>\n",
              "      <th>date</th>\n",
              "      <th>price</th>\n",
              "      <th>bathrooms</th>\n",
              "      <th>bedrooms</th>\n",
              "      <th>sqft_living</th>\n",
              "      <th>sqft_lot</th>\n",
              "      <th>floors</th>\n",
              "      <th>waterfront</th>\n",
              "      <th>view</th>\n",
              "      <th>condition</th>\n",
              "      <th>sqft_above</th>\n",
              "      <th>sqft_basement</th>\n",
              "      <th>yr_built</th>\n",
              "      <th>yr_renovated</th>\n",
              "      <th>street</th>\n",
              "      <th>city</th>\n",
              "      <th>statezip</th>\n",
              "      <th>country</th>\n",
              "    </tr>\n",
              "  </thead>\n",
              "  <tbody>\n",
              "    <tr>\n",
              "      <th>1750</th>\n",
              "      <td>2014-06-12</td>\n",
              "      <td>1095000.0</td>\n",
              "      <td>0.0</td>\n",
              "      <td>0</td>\n",
              "      <td>3064</td>\n",
              "      <td>4764</td>\n",
              "      <td>3.5</td>\n",
              "      <td>0</td>\n",
              "      <td>2</td>\n",
              "      <td>3</td>\n",
              "      <td>3064</td>\n",
              "      <td>0</td>\n",
              "      <td>1990</td>\n",
              "      <td>2009</td>\n",
              "      <td>814 E Howe St</td>\n",
              "      <td>Seattle</td>\n",
              "      <td>WA 98102</td>\n",
              "      <td>USA</td>\n",
              "    </tr>\n",
              "    <tr>\n",
              "      <th>2394</th>\n",
              "      <td>2014-06-24</td>\n",
              "      <td>1295648.0</td>\n",
              "      <td>0.0</td>\n",
              "      <td>0</td>\n",
              "      <td>4810</td>\n",
              "      <td>28008</td>\n",
              "      <td>2.0</td>\n",
              "      <td>0</td>\n",
              "      <td>0</td>\n",
              "      <td>3</td>\n",
              "      <td>4810</td>\n",
              "      <td>0</td>\n",
              "      <td>1990</td>\n",
              "      <td>2009</td>\n",
              "      <td>20418 NE 64th Pl</td>\n",
              "      <td>Redmond</td>\n",
              "      <td>WA 98053</td>\n",
              "      <td>USA</td>\n",
              "    </tr>\n",
              "  </tbody>\n",
              "</table>\n",
              "</div>\n",
              "    <div class=\"colab-df-buttons\">\n",
              "\n",
              "  <div class=\"colab-df-container\">\n",
              "    <button class=\"colab-df-convert\" onclick=\"convertToInteractive('df-179e92cb-2e2c-40c5-8897-e7a229afaa16')\"\n",
              "            title=\"Convert this dataframe to an interactive table.\"\n",
              "            style=\"display:none;\">\n",
              "\n",
              "  <svg xmlns=\"http://www.w3.org/2000/svg\" height=\"24px\" viewBox=\"0 -960 960 960\">\n",
              "    <path d=\"M120-120v-720h720v720H120Zm60-500h600v-160H180v160Zm220 220h160v-160H400v160Zm0 220h160v-160H400v160ZM180-400h160v-160H180v160Zm440 0h160v-160H620v160ZM180-180h160v-160H180v160Zm440 0h160v-160H620v160Z\"/>\n",
              "  </svg>\n",
              "    </button>\n",
              "\n",
              "  <style>\n",
              "    .colab-df-container {\n",
              "      display:flex;\n",
              "      gap: 12px;\n",
              "    }\n",
              "\n",
              "    .colab-df-convert {\n",
              "      background-color: #E8F0FE;\n",
              "      border: none;\n",
              "      border-radius: 50%;\n",
              "      cursor: pointer;\n",
              "      display: none;\n",
              "      fill: #1967D2;\n",
              "      height: 32px;\n",
              "      padding: 0 0 0 0;\n",
              "      width: 32px;\n",
              "    }\n",
              "\n",
              "    .colab-df-convert:hover {\n",
              "      background-color: #E2EBFA;\n",
              "      box-shadow: 0px 1px 2px rgba(60, 64, 67, 0.3), 0px 1px 3px 1px rgba(60, 64, 67, 0.15);\n",
              "      fill: #174EA6;\n",
              "    }\n",
              "\n",
              "    .colab-df-buttons div {\n",
              "      margin-bottom: 4px;\n",
              "    }\n",
              "\n",
              "    [theme=dark] .colab-df-convert {\n",
              "      background-color: #3B4455;\n",
              "      fill: #D2E3FC;\n",
              "    }\n",
              "\n",
              "    [theme=dark] .colab-df-convert:hover {\n",
              "      background-color: #434B5C;\n",
              "      box-shadow: 0px 1px 3px 1px rgba(0, 0, 0, 0.15);\n",
              "      filter: drop-shadow(0px 1px 2px rgba(0, 0, 0, 0.3));\n",
              "      fill: #FFFFFF;\n",
              "    }\n",
              "  </style>\n",
              "\n",
              "    <script>\n",
              "      const buttonEl =\n",
              "        document.querySelector('#df-179e92cb-2e2c-40c5-8897-e7a229afaa16 button.colab-df-convert');\n",
              "      buttonEl.style.display =\n",
              "        google.colab.kernel.accessAllowed ? 'block' : 'none';\n",
              "\n",
              "      async function convertToInteractive(key) {\n",
              "        const element = document.querySelector('#df-179e92cb-2e2c-40c5-8897-e7a229afaa16');\n",
              "        const dataTable =\n",
              "          await google.colab.kernel.invokeFunction('convertToInteractive',\n",
              "                                                    [key], {});\n",
              "        if (!dataTable) return;\n",
              "\n",
              "        const docLinkHtml = 'Like what you see? Visit the ' +\n",
              "          '<a target=\"_blank\" href=https://colab.research.google.com/notebooks/data_table.ipynb>data table notebook</a>'\n",
              "          + ' to learn more about interactive tables.';\n",
              "        element.innerHTML = '';\n",
              "        dataTable['output_type'] = 'display_data';\n",
              "        await google.colab.output.renderOutput(dataTable, element);\n",
              "        const docLink = document.createElement('div');\n",
              "        docLink.innerHTML = docLinkHtml;\n",
              "        element.appendChild(docLink);\n",
              "      }\n",
              "    </script>\n",
              "  </div>\n",
              "\n",
              "\n",
              "<div id=\"df-a2c8d644-df4c-43ee-878e-14e74dd805f1\">\n",
              "  <button class=\"colab-df-quickchart\" onclick=\"quickchart('df-a2c8d644-df4c-43ee-878e-14e74dd805f1')\"\n",
              "            title=\"Suggest charts\"\n",
              "            style=\"display:none;\">\n",
              "\n",
              "<svg xmlns=\"http://www.w3.org/2000/svg\" height=\"24px\"viewBox=\"0 0 24 24\"\n",
              "     width=\"24px\">\n",
              "    <g>\n",
              "        <path d=\"M19 3H5c-1.1 0-2 .9-2 2v14c0 1.1.9 2 2 2h14c1.1 0 2-.9 2-2V5c0-1.1-.9-2-2-2zM9 17H7v-7h2v7zm4 0h-2V7h2v10zm4 0h-2v-4h2v4z\"/>\n",
              "    </g>\n",
              "</svg>\n",
              "  </button>\n",
              "\n",
              "<style>\n",
              "  .colab-df-quickchart {\n",
              "      --bg-color: #E8F0FE;\n",
              "      --fill-color: #1967D2;\n",
              "      --hover-bg-color: #E2EBFA;\n",
              "      --hover-fill-color: #174EA6;\n",
              "      --disabled-fill-color: #AAA;\n",
              "      --disabled-bg-color: #DDD;\n",
              "  }\n",
              "\n",
              "  [theme=dark] .colab-df-quickchart {\n",
              "      --bg-color: #3B4455;\n",
              "      --fill-color: #D2E3FC;\n",
              "      --hover-bg-color: #434B5C;\n",
              "      --hover-fill-color: #FFFFFF;\n",
              "      --disabled-bg-color: #3B4455;\n",
              "      --disabled-fill-color: #666;\n",
              "  }\n",
              "\n",
              "  .colab-df-quickchart {\n",
              "    background-color: var(--bg-color);\n",
              "    border: none;\n",
              "    border-radius: 50%;\n",
              "    cursor: pointer;\n",
              "    display: none;\n",
              "    fill: var(--fill-color);\n",
              "    height: 32px;\n",
              "    padding: 0;\n",
              "    width: 32px;\n",
              "  }\n",
              "\n",
              "  .colab-df-quickchart:hover {\n",
              "    background-color: var(--hover-bg-color);\n",
              "    box-shadow: 0 1px 2px rgba(60, 64, 67, 0.3), 0 1px 3px 1px rgba(60, 64, 67, 0.15);\n",
              "    fill: var(--button-hover-fill-color);\n",
              "  }\n",
              "\n",
              "  .colab-df-quickchart-complete:disabled,\n",
              "  .colab-df-quickchart-complete:disabled:hover {\n",
              "    background-color: var(--disabled-bg-color);\n",
              "    fill: var(--disabled-fill-color);\n",
              "    box-shadow: none;\n",
              "  }\n",
              "\n",
              "  .colab-df-spinner {\n",
              "    border: 2px solid var(--fill-color);\n",
              "    border-color: transparent;\n",
              "    border-bottom-color: var(--fill-color);\n",
              "    animation:\n",
              "      spin 1s steps(1) infinite;\n",
              "  }\n",
              "\n",
              "  @keyframes spin {\n",
              "    0% {\n",
              "      border-color: transparent;\n",
              "      border-bottom-color: var(--fill-color);\n",
              "      border-left-color: var(--fill-color);\n",
              "    }\n",
              "    20% {\n",
              "      border-color: transparent;\n",
              "      border-left-color: var(--fill-color);\n",
              "      border-top-color: var(--fill-color);\n",
              "    }\n",
              "    30% {\n",
              "      border-color: transparent;\n",
              "      border-left-color: var(--fill-color);\n",
              "      border-top-color: var(--fill-color);\n",
              "      border-right-color: var(--fill-color);\n",
              "    }\n",
              "    40% {\n",
              "      border-color: transparent;\n",
              "      border-right-color: var(--fill-color);\n",
              "      border-top-color: var(--fill-color);\n",
              "    }\n",
              "    60% {\n",
              "      border-color: transparent;\n",
              "      border-right-color: var(--fill-color);\n",
              "    }\n",
              "    80% {\n",
              "      border-color: transparent;\n",
              "      border-right-color: var(--fill-color);\n",
              "      border-bottom-color: var(--fill-color);\n",
              "    }\n",
              "    90% {\n",
              "      border-color: transparent;\n",
              "      border-bottom-color: var(--fill-color);\n",
              "    }\n",
              "  }\n",
              "</style>\n",
              "\n",
              "  <script>\n",
              "    async function quickchart(key) {\n",
              "      const quickchartButtonEl =\n",
              "        document.querySelector('#' + key + ' button');\n",
              "      quickchartButtonEl.disabled = true;  // To prevent multiple clicks.\n",
              "      quickchartButtonEl.classList.add('colab-df-spinner');\n",
              "      try {\n",
              "        const charts = await google.colab.kernel.invokeFunction(\n",
              "            'suggestCharts', [key], {});\n",
              "      } catch (error) {\n",
              "        console.error('Error during call to suggestCharts:', error);\n",
              "      }\n",
              "      quickchartButtonEl.classList.remove('colab-df-spinner');\n",
              "      quickchartButtonEl.classList.add('colab-df-quickchart-complete');\n",
              "    }\n",
              "    (() => {\n",
              "      let quickchartButtonEl =\n",
              "        document.querySelector('#df-a2c8d644-df4c-43ee-878e-14e74dd805f1 button');\n",
              "      quickchartButtonEl.style.display =\n",
              "        google.colab.kernel.accessAllowed ? 'block' : 'none';\n",
              "    })();\n",
              "  </script>\n",
              "</div>\n",
              "\n",
              "    </div>\n",
              "  </div>\n"
            ],
            "application/vnd.google.colaboratory.intrinsic+json": {
              "type": "dataframe",
              "summary": "{\n  \"name\": \"data[(data['bedrooms'] == 0) | (data['bathrooms'] == 0)]\",\n  \"rows\": 2,\n  \"fields\": [\n    {\n      \"column\": \"date\",\n      \"properties\": {\n        \"dtype\": \"date\",\n        \"min\": \"2014-06-12 00:00:00\",\n        \"max\": \"2014-06-24 00:00:00\",\n        \"num_unique_values\": 2,\n        \"samples\": [\n          \"2014-06-24 00:00:00\",\n          \"2014-06-12 00:00:00\"\n        ],\n        \"semantic_type\": \"\",\n        \"description\": \"\"\n      }\n    },\n    {\n      \"column\": \"price\",\n      \"properties\": {\n        \"dtype\": \"number\",\n        \"std\": 141879.56143151838,\n        \"min\": 1095000.0,\n        \"max\": 1295648.0,\n        \"num_unique_values\": 2,\n        \"samples\": [\n          1295648.0,\n          1095000.0\n        ],\n        \"semantic_type\": \"\",\n        \"description\": \"\"\n      }\n    },\n    {\n      \"column\": \"bathrooms\",\n      \"properties\": {\n        \"dtype\": \"number\",\n        \"std\": 0.0,\n        \"min\": 0.0,\n        \"max\": 0.0,\n        \"num_unique_values\": 1,\n        \"samples\": [\n          0.0\n        ],\n        \"semantic_type\": \"\",\n        \"description\": \"\"\n      }\n    },\n    {\n      \"column\": \"bedrooms\",\n      \"properties\": {\n        \"dtype\": \"number\",\n        \"std\": 0,\n        \"min\": 0,\n        \"max\": 0,\n        \"num_unique_values\": 1,\n        \"samples\": [\n          0\n        ],\n        \"semantic_type\": \"\",\n        \"description\": \"\"\n      }\n    },\n    {\n      \"column\": \"sqft_living\",\n      \"properties\": {\n        \"dtype\": \"number\",\n        \"std\": 1234,\n        \"min\": 3064,\n        \"max\": 4810,\n        \"num_unique_values\": 2,\n        \"samples\": [\n          4810\n        ],\n        \"semantic_type\": \"\",\n        \"description\": \"\"\n      }\n    },\n    {\n      \"column\": \"sqft_lot\",\n      \"properties\": {\n        \"dtype\": \"number\",\n        \"std\": 16435,\n        \"min\": 4764,\n        \"max\": 28008,\n        \"num_unique_values\": 2,\n        \"samples\": [\n          28008\n        ],\n        \"semantic_type\": \"\",\n        \"description\": \"\"\n      }\n    },\n    {\n      \"column\": \"floors\",\n      \"properties\": {\n        \"dtype\": \"number\",\n        \"std\": 1.0606601717798212,\n        \"min\": 2.0,\n        \"max\": 3.5,\n        \"num_unique_values\": 2,\n        \"samples\": [\n          2.0\n        ],\n        \"semantic_type\": \"\",\n        \"description\": \"\"\n      }\n    },\n    {\n      \"column\": \"waterfront\",\n      \"properties\": {\n        \"dtype\": \"number\",\n        \"std\": 0,\n        \"min\": 0,\n        \"max\": 0,\n        \"num_unique_values\": 1,\n        \"samples\": [\n          0\n        ],\n        \"semantic_type\": \"\",\n        \"description\": \"\"\n      }\n    },\n    {\n      \"column\": \"view\",\n      \"properties\": {\n        \"dtype\": \"number\",\n        \"std\": 1,\n        \"min\": 0,\n        \"max\": 2,\n        \"num_unique_values\": 2,\n        \"samples\": [\n          0\n        ],\n        \"semantic_type\": \"\",\n        \"description\": \"\"\n      }\n    },\n    {\n      \"column\": \"condition\",\n      \"properties\": {\n        \"dtype\": \"number\",\n        \"std\": 0,\n        \"min\": 3,\n        \"max\": 3,\n        \"num_unique_values\": 1,\n        \"samples\": [\n          3\n        ],\n        \"semantic_type\": \"\",\n        \"description\": \"\"\n      }\n    },\n    {\n      \"column\": \"sqft_above\",\n      \"properties\": {\n        \"dtype\": \"number\",\n        \"std\": 1234,\n        \"min\": 3064,\n        \"max\": 4810,\n        \"num_unique_values\": 2,\n        \"samples\": [\n          4810\n        ],\n        \"semantic_type\": \"\",\n        \"description\": \"\"\n      }\n    },\n    {\n      \"column\": \"sqft_basement\",\n      \"properties\": {\n        \"dtype\": \"number\",\n        \"std\": 0,\n        \"min\": 0,\n        \"max\": 0,\n        \"num_unique_values\": 1,\n        \"samples\": [\n          0\n        ],\n        \"semantic_type\": \"\",\n        \"description\": \"\"\n      }\n    },\n    {\n      \"column\": \"yr_built\",\n      \"properties\": {\n        \"dtype\": \"number\",\n        \"std\": 0,\n        \"min\": 1990,\n        \"max\": 1990,\n        \"num_unique_values\": 1,\n        \"samples\": [\n          1990\n        ],\n        \"semantic_type\": \"\",\n        \"description\": \"\"\n      }\n    },\n    {\n      \"column\": \"yr_renovated\",\n      \"properties\": {\n        \"dtype\": \"number\",\n        \"std\": 0,\n        \"min\": 2009,\n        \"max\": 2009,\n        \"num_unique_values\": 1,\n        \"samples\": [\n          2009\n        ],\n        \"semantic_type\": \"\",\n        \"description\": \"\"\n      }\n    },\n    {\n      \"column\": \"street\",\n      \"properties\": {\n        \"dtype\": \"string\",\n        \"num_unique_values\": 2,\n        \"samples\": [\n          \"20418 NE 64th Pl\"\n        ],\n        \"semantic_type\": \"\",\n        \"description\": \"\"\n      }\n    },\n    {\n      \"column\": \"city\",\n      \"properties\": {\n        \"dtype\": \"string\",\n        \"num_unique_values\": 2,\n        \"samples\": [\n          \"Redmond\"\n        ],\n        \"semantic_type\": \"\",\n        \"description\": \"\"\n      }\n    },\n    {\n      \"column\": \"statezip\",\n      \"properties\": {\n        \"dtype\": \"string\",\n        \"num_unique_values\": 2,\n        \"samples\": [\n          \"WA 98053\"\n        ],\n        \"semantic_type\": \"\",\n        \"description\": \"\"\n      }\n    },\n    {\n      \"column\": \"country\",\n      \"properties\": {\n        \"dtype\": \"string\",\n        \"num_unique_values\": 1,\n        \"samples\": [\n          \"USA\"\n        ],\n        \"semantic_type\": \"\",\n        \"description\": \"\"\n      }\n    }\n  ]\n}"
            }
          },
          "metadata": {},
          "execution_count": 6
        }
      ],
      "source": [
        "# Let's find the observations with 0 bedrooms or 0 bathrooms and see what they look like\n",
        "data[(data['bedrooms'] == 0) | (data['bathrooms'] == 0)]"
      ]
    },
    {
      "cell_type": "markdown",
      "metadata": {
        "id": "u5QrRPhGTTb7"
      },
      "source": [
        "I'm pretty confident that houses with 3000+ square feet of living space should have bathrooms and bedrooms. We could try to *impute* what seem to be the missing values of bathrooms and bedrooms for these two observations. Because it's only two observations, I'm just going to delete them instead."
      ]
    },
    {
      "cell_type": "code",
      "execution_count": 7,
      "metadata": {
        "id": "RwOtqUt9UBRw"
      },
      "outputs": [],
      "source": [
        "# Drop the flagged observations\n",
        "data = data.drop(data[(data['bedrooms'] == 0) | (data['bathrooms'] == 0)].index)"
      ]
    },
    {
      "cell_type": "code",
      "execution_count": 8,
      "metadata": {
        "id": "tO6mB_Do6mku",
        "outputId": "2a99de05-d387-43e6-80ca-53cd49443d72",
        "colab": {
          "base_uri": "https://localhost:8080/",
          "height": 648
        }
      },
      "outputs": [
        {
          "output_type": "execute_result",
          "data": {
            "text/plain": [
              "date             datetime64[ns]\n",
              "price                   float64\n",
              "bathrooms               float64\n",
              "bedrooms                  int64\n",
              "sqft_living               int64\n",
              "sqft_lot                  int64\n",
              "floors                  float64\n",
              "waterfront                int64\n",
              "view                      int64\n",
              "condition                 int64\n",
              "sqft_above                int64\n",
              "sqft_basement             int64\n",
              "yr_built                  int64\n",
              "yr_renovated              int64\n",
              "street                   object\n",
              "city                     object\n",
              "statezip                 object\n",
              "country                  object\n",
              "dtype: object"
            ],
            "text/html": [
              "<div>\n",
              "<style scoped>\n",
              "    .dataframe tbody tr th:only-of-type {\n",
              "        vertical-align: middle;\n",
              "    }\n",
              "\n",
              "    .dataframe tbody tr th {\n",
              "        vertical-align: top;\n",
              "    }\n",
              "\n",
              "    .dataframe thead th {\n",
              "        text-align: right;\n",
              "    }\n",
              "</style>\n",
              "<table border=\"1\" class=\"dataframe\">\n",
              "  <thead>\n",
              "    <tr style=\"text-align: right;\">\n",
              "      <th></th>\n",
              "      <th>0</th>\n",
              "    </tr>\n",
              "  </thead>\n",
              "  <tbody>\n",
              "    <tr>\n",
              "      <th>date</th>\n",
              "      <td>datetime64[ns]</td>\n",
              "    </tr>\n",
              "    <tr>\n",
              "      <th>price</th>\n",
              "      <td>float64</td>\n",
              "    </tr>\n",
              "    <tr>\n",
              "      <th>bathrooms</th>\n",
              "      <td>float64</td>\n",
              "    </tr>\n",
              "    <tr>\n",
              "      <th>bedrooms</th>\n",
              "      <td>int64</td>\n",
              "    </tr>\n",
              "    <tr>\n",
              "      <th>sqft_living</th>\n",
              "      <td>int64</td>\n",
              "    </tr>\n",
              "    <tr>\n",
              "      <th>sqft_lot</th>\n",
              "      <td>int64</td>\n",
              "    </tr>\n",
              "    <tr>\n",
              "      <th>floors</th>\n",
              "      <td>float64</td>\n",
              "    </tr>\n",
              "    <tr>\n",
              "      <th>waterfront</th>\n",
              "      <td>int64</td>\n",
              "    </tr>\n",
              "    <tr>\n",
              "      <th>view</th>\n",
              "      <td>int64</td>\n",
              "    </tr>\n",
              "    <tr>\n",
              "      <th>condition</th>\n",
              "      <td>int64</td>\n",
              "    </tr>\n",
              "    <tr>\n",
              "      <th>sqft_above</th>\n",
              "      <td>int64</td>\n",
              "    </tr>\n",
              "    <tr>\n",
              "      <th>sqft_basement</th>\n",
              "      <td>int64</td>\n",
              "    </tr>\n",
              "    <tr>\n",
              "      <th>yr_built</th>\n",
              "      <td>int64</td>\n",
              "    </tr>\n",
              "    <tr>\n",
              "      <th>yr_renovated</th>\n",
              "      <td>int64</td>\n",
              "    </tr>\n",
              "    <tr>\n",
              "      <th>street</th>\n",
              "      <td>object</td>\n",
              "    </tr>\n",
              "    <tr>\n",
              "      <th>city</th>\n",
              "      <td>object</td>\n",
              "    </tr>\n",
              "    <tr>\n",
              "      <th>statezip</th>\n",
              "      <td>object</td>\n",
              "    </tr>\n",
              "    <tr>\n",
              "      <th>country</th>\n",
              "      <td>object</td>\n",
              "    </tr>\n",
              "  </tbody>\n",
              "</table>\n",
              "</div><br><label><b>dtype:</b> object</label>"
            ]
          },
          "metadata": {},
          "execution_count": 8
        }
      ],
      "source": [
        "data.dtypes"
      ]
    },
    {
      "cell_type": "markdown",
      "metadata": {
        "id": "vVRInON3N63g"
      },
      "source": [
        "Some of the variables `street`, `city`, `statezip`, and `country` are not numeric, so don't show up in the summary table. We'll look at these variables after examining the outcome in a bit more detail."
      ]
    },
    {
      "cell_type": "markdown",
      "metadata": {
        "id": "Kw4BOYN3DS25"
      },
      "source": [
        "**Outcome variable**\n",
        "\n",
        "Let's start by seeing what the outcome variable looks like.\n",
        "\n",
        "**------self note------**\n",
        "\n",
        "sns.displot() is one variable histograms, with density/frequency as vertical axis.\n",
        "\n",
        "plt.scatter(x,y) is two variables plot, showing visual correlation if any.\n",
        "\n",
        "**------end note------**"
      ]
    },
    {
      "cell_type": "code",
      "execution_count": 9,
      "metadata": {
        "id": "JdPkwUZbDvZi",
        "outputId": "b7158890-e8a7-4ed3-e381-97dafc5d5c32",
        "colab": {
          "base_uri": "https://localhost:8080/",
          "height": 514
        }
      },
      "outputs": [
        {
          "output_type": "display_data",
          "data": {
            "text/plain": [
              "<Figure size 500x500 with 1 Axes>"
            ],
            "image/png": "[encoded data removed]"
          },
          "metadata": {}
        }
      ],
      "source": [
        "# Smoothed histogram of the outcome variable, price\n",
        "sns.displot(data=data, x='price', kind='kde')\n",
        "plt.title('Smoothed histogram of Price')\n",
        "plt.show()"
      ]
    },
    {
      "cell_type": "code",
      "execution_count": 10,
      "metadata": {
        "id": "Yog_xRoeYVAK",
        "outputId": "6e34483f-601c-48a5-e8ec-fd48ef51c084",
        "colab": {
          "base_uri": "https://localhost:8080/",
          "height": 472
        }
      },
      "outputs": [
        {
          "output_type": "display_data",
          "data": {
            "text/plain": [
              "<Figure size 640x480 with 1 Axes>"
            ],
            "image/png": "[encoded data removed]"
          },
          "metadata": {}
        }
      ],
      "source": [
        "plt.scatter(data['sqft_living'], data['price'])\n",
        "plt.xlabel('sqft_living')\n",
        "plt.ylabel('price')\n",
        "plt.title('Scatter plot of Price vs Square Feet')\n",
        "plt.show()"
      ]
    },
    {
      "cell_type": "markdown",
      "metadata": {
        "id": "hwjd2j9rYlmQ"
      },
      "source": [
        "There are two observations that are probably worth another look. Also recall that there was at least one very low price from the summary statistics. Let's look at both."
      ]
    },
    {
      "cell_type": "code",
      "execution_count": 11,
      "metadata": {
        "id": "zb4dHNQsSLeL",
        "outputId": "7ff291ba-3867-4d9b-d94d-aa23f38f4ebd",
        "colab": {
          "base_uri": "https://localhost:8080/",
          "height": 135
        }
      },
      "outputs": [
        {
          "output_type": "execute_result",
          "data": {
            "text/plain": [
              "           date   price  bathrooms  bedrooms  sqft_living  sqft_lot  floors  \\\n",
              "3215 2014-05-06  7800.0        1.0         2          780     16344     1.0   \n",
              "\n",
              "      waterfront  view  condition  sqft_above  sqft_basement  yr_built  \\\n",
              "3215           0     0          1         780              0      1942   \n",
              "\n",
              "      yr_renovated           street     city  statezip country  \n",
              "3215             0  4229 S 144th St  Tukwila  WA 98168     USA  "
            ],
            "text/html": [
              "\n",
              "  <div id=\"df-209d0993-b22b-442f-9964-1f8f62556868\" class=\"colab-df-container\">\n",
              "    <div>\n",
              "<style scoped>\n",
              "    .dataframe tbody tr th:only-of-type {\n",
              "        vertical-align: middle;\n",
              "    }\n",
              "\n",
              "    .dataframe tbody tr th {\n",
              "        vertical-align: top;\n",
              "    }\n",
              "\n",
              "    .dataframe thead th {\n",
              "        text-align: right;\n",
              "    }\n",
              "</style>\n",
              "<table border=\"1\" class=\"dataframe\">\n",
              "  <thead>\n",
              "    <tr style=\"text-align: right;\">\n",
              "      <th></th>\n",
              "      <th>date</th>\n",
              "      <th>price</th>\n",
              "      <th>bathrooms</th>\n",
              "      <th>bedrooms</th>\n",
              "      <th>sqft_living</th>\n",
              "      <th>sqft_lot</th>\n",
              "      <th>floors</th>\n",
              "      <th>waterfront</th>\n",
              "      <th>view</th>\n",
              "      <th>condition</th>\n",
              "      <th>sqft_above</th>\n",
              "      <th>sqft_basement</th>\n",
              "      <th>yr_built</th>\n",
              "      <th>yr_renovated</th>\n",
              "      <th>street</th>\n",
              "      <th>city</th>\n",
              "      <th>statezip</th>\n",
              "      <th>country</th>\n",
              "    </tr>\n",
              "  </thead>\n",
              "  <tbody>\n",
              "    <tr>\n",
              "      <th>3215</th>\n",
              "      <td>2014-05-06</td>\n",
              "      <td>7800.0</td>\n",
              "      <td>1.0</td>\n",
              "      <td>2</td>\n",
              "      <td>780</td>\n",
              "      <td>16344</td>\n",
              "      <td>1.0</td>\n",
              "      <td>0</td>\n",
              "      <td>0</td>\n",
              "      <td>1</td>\n",
              "      <td>780</td>\n",
              "      <td>0</td>\n",
              "      <td>1942</td>\n",
              "      <td>0</td>\n",
              "      <td>4229 S 144th St</td>\n",
              "      <td>Tukwila</td>\n",
              "      <td>WA 98168</td>\n",
              "      <td>USA</td>\n",
              "    </tr>\n",
              "  </tbody>\n",
              "</table>\n",
              "</div>\n",
              "    <div class=\"colab-df-buttons\">\n",
              "\n",
              "  <div class=\"colab-df-container\">\n",
              "    <button class=\"colab-df-convert\" onclick=\"convertToInteractive('df-209d0993-b22b-442f-9964-1f8f62556868')\"\n",
              "            title=\"Convert this dataframe to an interactive table.\"\n",
              "            style=\"display:none;\">\n",
              "\n",
              "  <svg xmlns=\"http://www.w3.org/2000/svg\" height=\"24px\" viewBox=\"0 -960 960 960\">\n",
              "    <path d=\"M120-120v-720h720v720H120Zm60-500h600v-160H180v160Zm220 220h160v-160H400v160Zm0 220h160v-160H400v160ZM180-400h160v-160H180v160Zm440 0h160v-160H620v160ZM180-180h160v-160H180v160Zm440 0h160v-160H620v160Z\"/>\n",
              "  </svg>\n",
              "    </button>\n",
              "\n",
              "  <style>\n",
              "    .colab-df-container {\n",
              "      display:flex;\n",
              "      gap: 12px;\n",
              "    }\n",
              "\n",
              "    .colab-df-convert {\n",
              "      background-color: #E8F0FE;\n",
              "      border: none;\n",
              "      border-radius: 50%;\n",
              "      cursor: pointer;\n",
              "      display: none;\n",
              "      fill: #1967D2;\n",
              "      height: 32px;\n",
              "      padding: 0 0 0 0;\n",
              "      width: 32px;\n",
              "    }\n",
              "\n",
              "    .colab-df-convert:hover {\n",
              "      background-color: #E2EBFA;\n",
              "      box-shadow: 0px 1px 2px rgba(60, 64, 67, 0.3), 0px 1px 3px 1px rgba(60, 64, 67, 0.15);\n",
              "      fill: #174EA6;\n",
              "    }\n",
              "\n",
              "    .colab-df-buttons div {\n",
              "      margin-bottom: 4px;\n",
              "    }\n",
              "\n",
              "    [theme=dark] .colab-df-convert {\n",
              "      background-color: #3B4455;\n",
              "      fill: #D2E3FC;\n",
              "    }\n",
              "\n",
              "    [theme=dark] .colab-df-convert:hover {\n",
              "      background-color: #434B5C;\n",
              "      box-shadow: 0px 1px 3px 1px rgba(0, 0, 0, 0.15);\n",
              "      filter: drop-shadow(0px 1px 2px rgba(0, 0, 0, 0.3));\n",
              "      fill: #FFFFFF;\n",
              "    }\n",
              "  </style>\n",
              "\n",
              "    <script>\n",
              "      const buttonEl =\n",
              "        document.querySelector('#df-209d0993-b22b-442f-9964-1f8f62556868 button.colab-df-convert');\n",
              "      buttonEl.style.display =\n",
              "        google.colab.kernel.accessAllowed ? 'block' : 'none';\n",
              "\n",
              "      async function convertToInteractive(key) {\n",
              "        const element = document.querySelector('#df-209d0993-b22b-442f-9964-1f8f62556868');\n",
              "        const dataTable =\n",
              "          await google.colab.kernel.invokeFunction('convertToInteractive',\n",
              "                                                    [key], {});\n",
              "        if (!dataTable) return;\n",
              "\n",
              "        const docLinkHtml = 'Like what you see? Visit the ' +\n",
              "          '<a target=\"_blank\" href=https://colab.research.google.com/notebooks/data_table.ipynb>data table notebook</a>'\n",
              "          + ' to learn more about interactive tables.';\n",
              "        element.innerHTML = '';\n",
              "        dataTable['output_type'] = 'display_data';\n",
              "        await google.colab.output.renderOutput(dataTable, element);\n",
              "        const docLink = document.createElement('div');\n",
              "        docLink.innerHTML = docLinkHtml;\n",
              "        element.appendChild(docLink);\n",
              "      }\n",
              "    </script>\n",
              "  </div>\n",
              "\n",
              "\n",
              "    </div>\n",
              "  </div>\n"
            ],
            "application/vnd.google.colaboratory.intrinsic+json": {
              "type": "dataframe",
              "summary": "{\n  \"name\": \"data[data['price'] < 50000]\",\n  \"rows\": 1,\n  \"fields\": [\n    {\n      \"column\": \"date\",\n      \"properties\": {\n        \"dtype\": \"date\",\n        \"min\": \"2014-05-06 00:00:00\",\n        \"max\": \"2014-05-06 00:00:00\",\n        \"num_unique_values\": 1,\n        \"samples\": [\n          \"2014-05-06 00:00:00\"\n        ],\n        \"semantic_type\": \"\",\n        \"description\": \"\"\n      }\n    },\n    {\n      \"column\": \"price\",\n      \"properties\": {\n        \"dtype\": \"number\",\n        \"std\": null,\n        \"min\": 7800.0,\n        \"max\": 7800.0,\n        \"num_unique_values\": 1,\n        \"samples\": [\n          7800.0\n        ],\n        \"semantic_type\": \"\",\n        \"description\": \"\"\n      }\n    },\n    {\n      \"column\": \"bathrooms\",\n      \"properties\": {\n        \"dtype\": \"number\",\n        \"std\": null,\n        \"min\": 1.0,\n        \"max\": 1.0,\n        \"num_unique_values\": 1,\n        \"samples\": [\n          1.0\n        ],\n        \"semantic_type\": \"\",\n        \"description\": \"\"\n      }\n    },\n    {\n      \"column\": \"bedrooms\",\n      \"properties\": {\n        \"dtype\": \"number\",\n        \"std\": null,\n        \"min\": 2,\n        \"max\": 2,\n        \"num_unique_values\": 1,\n        \"samples\": [\n          2\n        ],\n        \"semantic_type\": \"\",\n        \"description\": \"\"\n      }\n    },\n    {\n      \"column\": \"sqft_living\",\n      \"properties\": {\n        \"dtype\": \"number\",\n        \"std\": null,\n        \"min\": 780,\n        \"max\": 780,\n        \"num_unique_values\": 1,\n        \"samples\": [\n          780\n        ],\n        \"semantic_type\": \"\",\n        \"description\": \"\"\n      }\n    },\n    {\n      \"column\": \"sqft_lot\",\n      \"properties\": {\n        \"dtype\": \"number\",\n        \"std\": null,\n        \"min\": 16344,\n        \"max\": 16344,\n        \"num_unique_values\": 1,\n        \"samples\": [\n          16344\n        ],\n        \"semantic_type\": \"\",\n        \"description\": \"\"\n      }\n    },\n    {\n      \"column\": \"floors\",\n      \"properties\": {\n        \"dtype\": \"number\",\n        \"std\": null,\n        \"min\": 1.0,\n        \"max\": 1.0,\n        \"num_unique_values\": 1,\n        \"samples\": [\n          1.0\n        ],\n        \"semantic_type\": \"\",\n        \"description\": \"\"\n      }\n    },\n    {\n      \"column\": \"waterfront\",\n      \"properties\": {\n        \"dtype\": \"number\",\n        \"std\": null,\n        \"min\": 0,\n        \"max\": 0,\n        \"num_unique_values\": 1,\n        \"samples\": [\n          0\n        ],\n        \"semantic_type\": \"\",\n        \"description\": \"\"\n      }\n    },\n    {\n      \"column\": \"view\",\n      \"properties\": {\n        \"dtype\": \"number\",\n        \"std\": null,\n        \"min\": 0,\n        \"max\": 0,\n        \"num_unique_values\": 1,\n        \"samples\": [\n          0\n        ],\n        \"semantic_type\": \"\",\n        \"description\": \"\"\n      }\n    },\n    {\n      \"column\": \"condition\",\n      \"properties\": {\n        \"dtype\": \"number\",\n        \"std\": null,\n        \"min\": 1,\n        \"max\": 1,\n        \"num_unique_values\": 1,\n        \"samples\": [\n          1\n        ],\n        \"semantic_type\": \"\",\n        \"description\": \"\"\n      }\n    },\n    {\n      \"column\": \"sqft_above\",\n      \"properties\": {\n        \"dtype\": \"number\",\n        \"std\": null,\n        \"min\": 780,\n        \"max\": 780,\n        \"num_unique_values\": 1,\n        \"samples\": [\n          780\n        ],\n        \"semantic_type\": \"\",\n        \"description\": \"\"\n      }\n    },\n    {\n      \"column\": \"sqft_basement\",\n      \"properties\": {\n        \"dtype\": \"number\",\n        \"std\": null,\n        \"min\": 0,\n        \"max\": 0,\n        \"num_unique_values\": 1,\n        \"samples\": [\n          0\n        ],\n        \"semantic_type\": \"\",\n        \"description\": \"\"\n      }\n    },\n    {\n      \"column\": \"yr_built\",\n      \"properties\": {\n        \"dtype\": \"number\",\n        \"std\": null,\n        \"min\": 1942,\n        \"max\": 1942,\n        \"num_unique_values\": 1,\n        \"samples\": [\n          1942\n        ],\n        \"semantic_type\": \"\",\n        \"description\": \"\"\n      }\n    },\n    {\n      \"column\": \"yr_renovated\",\n      \"properties\": {\n        \"dtype\": \"number\",\n        \"std\": null,\n        \"min\": 0,\n        \"max\": 0,\n        \"num_unique_values\": 1,\n        \"samples\": [\n          0\n        ],\n        \"semantic_type\": \"\",\n        \"description\": \"\"\n      }\n    },\n    {\n      \"column\": \"street\",\n      \"properties\": {\n        \"dtype\": \"string\",\n        \"num_unique_values\": 1,\n        \"samples\": [\n          \"4229 S 144th St\"\n        ],\n        \"semantic_type\": \"\",\n        \"description\": \"\"\n      }\n    },\n    {\n      \"column\": \"city\",\n      \"properties\": {\n        \"dtype\": \"string\",\n        \"num_unique_values\": 1,\n        \"samples\": [\n          \"Tukwila\"\n        ],\n        \"semantic_type\": \"\",\n        \"description\": \"\"\n      }\n    },\n    {\n      \"column\": \"statezip\",\n      \"properties\": {\n        \"dtype\": \"string\",\n        \"num_unique_values\": 1,\n        \"samples\": [\n          \"WA 98168\"\n        ],\n        \"semantic_type\": \"\",\n        \"description\": \"\"\n      }\n    },\n    {\n      \"column\": \"country\",\n      \"properties\": {\n        \"dtype\": \"string\",\n        \"num_unique_values\": 1,\n        \"samples\": [\n          \"USA\"\n        ],\n        \"semantic_type\": \"\",\n        \"description\": \"\"\n      }\n    }\n  ]\n}"
            }
          },
          "metadata": {},
          "execution_count": 11
        }
      ],
      "source": [
        "# Let's find the observations with very low prices and see what they look like\n",
        "data[data['price'] < 50000]"
      ]
    },
    {
      "cell_type": "markdown",
      "metadata": {
        "id": "jEPgRHDNSaw7"
      },
      "source": [
        "It seems a bit out of the realm of possibility to have a $7800 dollar property in the Seattle area in 2014, though the property seems not particularly desirable. I'm going to assume that the price here is incorrect."
      ]
    },
    {
      "cell_type": "code",
      "execution_count": 12,
      "metadata": {
        "id": "Lj546lWFYqW4",
        "outputId": "9299a2cd-721f-4d14-ab66-ea1b90ebd218",
        "colab": {
          "base_uri": "https://localhost:8080/",
          "height": 302
        }
      },
      "outputs": [
        {
          "output_type": "execute_result",
          "data": {
            "text/plain": [
              "           date       price  bathrooms  bedrooms  sqft_living  sqft_lot  \\\n",
              "1693 2014-06-11   7062500.0        4.5         5        10040     37325   \n",
              "3211 2014-06-23  12899000.0        2.5         3         2190     11394   \n",
              "3214 2014-07-03  26590000.0        2.0         3         1180      7793   \n",
              "\n",
              "      floors  waterfront  view  condition  sqft_above  sqft_basement  \\\n",
              "1693     2.0           1     2          3        7680           2360   \n",
              "3211     1.0           0     0          3        1550            640   \n",
              "3214     1.0           0     0          4        1180              0   \n",
              "\n",
              "      yr_built  yr_renovated             street      city  statezip country  \n",
              "1693      1940          2001   4442 95th Ave NE  Bellevue  WA 98004     USA  \n",
              "3211      1956          2001    5426 40th Ave W   Seattle  WA 98199     USA  \n",
              "3214      1992             0  12005 SE 219th Ct      Kent  WA 98031     USA  "
            ],
            "text/html": [
              "\n",
              "  <div id=\"df-534b50ea-4a4d-4834-b430-c3aca4952ffd\" class=\"colab-df-container\">\n",
              "    <div>\n",
              "<style scoped>\n",
              "    .dataframe tbody tr th:only-of-type {\n",
              "        vertical-align: middle;\n",
              "    }\n",
              "\n",
              "    .dataframe tbody tr th {\n",
              "        vertical-align: top;\n",
              "    }\n",
              "\n",
              "    .dataframe thead th {\n",
              "        text-align: right;\n",
              "    }\n",
              "</style>\n",
              "<table border=\"1\" class=\"dataframe\">\n",
              "  <thead>\n",
              "    <tr style=\"text-align: right;\">\n",
              "      <th></th>\n",
              "      <th>date</th>\n",
              "      <th>price</th>\n",
              "      <th>bathrooms</th>\n",
              "      <th>bedrooms</th>\n",
              "      <th>sqft_living</th>\n",
              "      <th>sqft_lot</th>\n",
              "      <th>floors</th>\n",
              "      <th>waterfront</th>\n",
              "      <th>view</th>\n",
              "      <th>condition</th>\n",
              "      <th>sqft_above</th>\n",
              "      <th>sqft_basement</th>\n",
              "      <th>yr_built</th>\n",
              "      <th>yr_renovated</th>\n",
              "      <th>street</th>\n",
              "      <th>city</th>\n",
              "      <th>statezip</th>\n",
              "      <th>country</th>\n",
              "    </tr>\n",
              "  </thead>\n",
              "  <tbody>\n",
              "    <tr>\n",
              "      <th>1693</th>\n",
              "      <td>2014-06-11</td>\n",
              "      <td>7062500.0</td>\n",
              "      <td>4.5</td>\n",
              "      <td>5</td>\n",
              "      <td>10040</td>\n",
              "      <td>37325</td>\n",
              "      <td>2.0</td>\n",
              "      <td>1</td>\n",
              "      <td>2</td>\n",
              "      <td>3</td>\n",
              "      <td>7680</td>\n",
              "      <td>2360</td>\n",
              "      <td>1940</td>\n",
              "      <td>2001</td>\n",
              "      <td>4442 95th Ave NE</td>\n",
              "      <td>Bellevue</td>\n",
              "      <td>WA 98004</td>\n",
              "      <td>USA</td>\n",
              "    </tr>\n",
              "    <tr>\n",
              "      <th>3211</th>\n",
              "      <td>2014-06-23</td>\n",
              "      <td>12899000.0</td>\n",
              "      <td>2.5</td>\n",
              "      <td>3</td>\n",
              "      <td>2190</td>\n",
              "      <td>11394</td>\n",
              "      <td>1.0</td>\n",
              "      <td>0</td>\n",
              "      <td>0</td>\n",
              "      <td>3</td>\n",
              "      <td>1550</td>\n",
              "      <td>640</td>\n",
              "      <td>1956</td>\n",
              "      <td>2001</td>\n",
              "      <td>5426 40th Ave W</td>\n",
              "      <td>Seattle</td>\n",
              "      <td>WA 98199</td>\n",
              "      <td>USA</td>\n",
              "    </tr>\n",
              "    <tr>\n",
              "      <th>3214</th>\n",
              "      <td>2014-07-03</td>\n",
              "      <td>26590000.0</td>\n",
              "      <td>2.0</td>\n",
              "      <td>3</td>\n",
              "      <td>1180</td>\n",
              "      <td>7793</td>\n",
              "      <td>1.0</td>\n",
              "      <td>0</td>\n",
              "      <td>0</td>\n",
              "      <td>4</td>\n",
              "      <td>1180</td>\n",
              "      <td>0</td>\n",
              "      <td>1992</td>\n",
              "      <td>0</td>\n",
              "      <td>12005 SE 219th Ct</td>\n",
              "      <td>Kent</td>\n",
              "      <td>WA 98031</td>\n",
              "      <td>USA</td>\n",
              "    </tr>\n",
              "  </tbody>\n",
              "</table>\n",
              "</div>\n",
              "    <div class=\"colab-df-buttons\">\n",
              "\n",
              "  <div class=\"colab-df-container\">\n",
              "    <button class=\"colab-df-convert\" onclick=\"convertToInteractive('df-534b50ea-4a4d-4834-b430-c3aca4952ffd')\"\n",
              "            title=\"Convert this dataframe to an interactive table.\"\n",
              "            style=\"display:none;\">\n",
              "\n",
              "  <svg xmlns=\"http://www.w3.org/2000/svg\" height=\"24px\" viewBox=\"0 -960 960 960\">\n",
              "    <path d=\"M120-120v-720h720v720H120Zm60-500h600v-160H180v160Zm220 220h160v-160H400v160Zm0 220h160v-160H400v160ZM180-400h160v-160H180v160Zm440 0h160v-160H620v160ZM180-180h160v-160H180v160Zm440 0h160v-160H620v160Z\"/>\n",
              "  </svg>\n",
              "    </button>\n",
              "\n",
              "  <style>\n",
              "    .colab-df-container {\n",
              "      display:flex;\n",
              "      gap: 12px;\n",
              "    }\n",
              "\n",
              "    .colab-df-convert {\n",
              "      background-color: #E8F0FE;\n",
              "      border: none;\n",
              "      border-radius: 50%;\n",
              "      cursor: pointer;\n",
              "      display: none;\n",
              "      fill: #1967D2;\n",
              "      height: 32px;\n",
              "      padding: 0 0 0 0;\n",
              "      width: 32px;\n",
              "    }\n",
              "\n",
              "    .colab-df-convert:hover {\n",
              "      background-color: #E2EBFA;\n",
              "      box-shadow: 0px 1px 2px rgba(60, 64, 67, 0.3), 0px 1px 3px 1px rgba(60, 64, 67, 0.15);\n",
              "      fill: #174EA6;\n",
              "    }\n",
              "\n",
              "    .colab-df-buttons div {\n",
              "      margin-bottom: 4px;\n",
              "    }\n",
              "\n",
              "    [theme=dark] .colab-df-convert {\n",
              "      background-color: #3B4455;\n",
              "      fill: #D2E3FC;\n",
              "    }\n",
              "\n",
              "    [theme=dark] .colab-df-convert:hover {\n",
              "      background-color: #434B5C;\n",
              "      box-shadow: 0px 1px 3px 1px rgba(0, 0, 0, 0.15);\n",
              "      filter: drop-shadow(0px 1px 2px rgba(0, 0, 0, 0.3));\n",
              "      fill: #FFFFFF;\n",
              "    }\n",
              "  </style>\n",
              "\n",
              "    <script>\n",
              "      const buttonEl =\n",
              "        document.querySelector('#df-534b50ea-4a4d-4834-b430-c3aca4952ffd button.colab-df-convert');\n",
              "      buttonEl.style.display =\n",
              "        google.colab.kernel.accessAllowed ? 'block' : 'none';\n",
              "\n",
              "      async function convertToInteractive(key) {\n",
              "        const element = document.querySelector('#df-534b50ea-4a4d-4834-b430-c3aca4952ffd');\n",
              "        const dataTable =\n",
              "          await google.colab.kernel.invokeFunction('convertToInteractive',\n",
              "                                                    [key], {});\n",
              "        if (!dataTable) return;\n",
              "\n",
              "        const docLinkHtml = 'Like what you see? Visit the ' +\n",
              "          '<a target=\"_blank\" href=https://colab.research.google.com/notebooks/data_table.ipynb>data table notebook</a>'\n",
              "          + ' to learn more about interactive tables.';\n",
              "        element.innerHTML = '';\n",
              "        dataTable['output_type'] = 'display_data';\n",
              "        await google.colab.output.renderOutput(dataTable, element);\n",
              "        const docLink = document.createElement('div');\n",
              "        docLink.innerHTML = docLinkHtml;\n",
              "        element.appendChild(docLink);\n",
              "      }\n",
              "    </script>\n",
              "  </div>\n",
              "\n",
              "\n",
              "<div id=\"df-8cb579ca-ca32-4ab8-89fb-41a8abf409a2\">\n",
              "  <button class=\"colab-df-quickchart\" onclick=\"quickchart('df-8cb579ca-ca32-4ab8-89fb-41a8abf409a2')\"\n",
              "            title=\"Suggest charts\"\n",
              "            style=\"display:none;\">\n",
              "\n",
              "<svg xmlns=\"http://www.w3.org/2000/svg\" height=\"24px\"viewBox=\"0 0 24 24\"\n",
              "     width=\"24px\">\n",
              "    <g>\n",
              "        <path d=\"M19 3H5c-1.1 0-2 .9-2 2v14c0 1.1.9 2 2 2h14c1.1 0 2-.9 2-2V5c0-1.1-.9-2-2-2zM9 17H7v-7h2v7zm4 0h-2V7h2v10zm4 0h-2v-4h2v4z\"/>\n",
              "    </g>\n",
              "</svg>\n",
              "  </button>\n",
              "\n",
              "<style>\n",
              "  .colab-df-quickchart {\n",
              "      --bg-color: #E8F0FE;\n",
              "      --fill-color: #1967D2;\n",
              "      --hover-bg-color: #E2EBFA;\n",
              "      --hover-fill-color: #174EA6;\n",
              "      --disabled-fill-color: #AAA;\n",
              "      --disabled-bg-color: #DDD;\n",
              "  }\n",
              "\n",
              "  [theme=dark] .colab-df-quickchart {\n",
              "      --bg-color: #3B4455;\n",
              "      --fill-color: #D2E3FC;\n",
              "      --hover-bg-color: #434B5C;\n",
              "      --hover-fill-color: #FFFFFF;\n",
              "      --disabled-bg-color: #3B4455;\n",
              "      --disabled-fill-color: #666;\n",
              "  }\n",
              "\n",
              "  .colab-df-quickchart {\n",
              "    background-color: var(--bg-color);\n",
              "    border: none;\n",
              "    border-radius: 50%;\n",
              "    cursor: pointer;\n",
              "    display: none;\n",
              "    fill: var(--fill-color);\n",
              "    height: 32px;\n",
              "    padding: 0;\n",
              "    width: 32px;\n",
              "  }\n",
              "\n",
              "  .colab-df-quickchart:hover {\n",
              "    background-color: var(--hover-bg-color);\n",
              "    box-shadow: 0 1px 2px rgba(60, 64, 67, 0.3), 0 1px 3px 1px rgba(60, 64, 67, 0.15);\n",
              "    fill: var(--button-hover-fill-color);\n",
              "  }\n",
              "\n",
              "  .colab-df-quickchart-complete:disabled,\n",
              "  .colab-df-quickchart-complete:disabled:hover {\n",
              "    background-color: var(--disabled-bg-color);\n",
              "    fill: var(--disabled-fill-color);\n",
              "    box-shadow: none;\n",
              "  }\n",
              "\n",
              "  .colab-df-spinner {\n",
              "    border: 2px solid var(--fill-color);\n",
              "    border-color: transparent;\n",
              "    border-bottom-color: var(--fill-color);\n",
              "    animation:\n",
              "      spin 1s steps(1) infinite;\n",
              "  }\n",
              "\n",
              "  @keyframes spin {\n",
              "    0% {\n",
              "      border-color: transparent;\n",
              "      border-bottom-color: var(--fill-color);\n",
              "      border-left-color: var(--fill-color);\n",
              "    }\n",
              "    20% {\n",
              "      border-color: transparent;\n",
              "      border-left-color: var(--fill-color);\n",
              "      border-top-color: var(--fill-color);\n",
              "    }\n",
              "    30% {\n",
              "      border-color: transparent;\n",
              "      border-left-color: var(--fill-color);\n",
              "      border-top-color: var(--fill-color);\n",
              "      border-right-color: var(--fill-color);\n",
              "    }\n",
              "    40% {\n",
              "      border-color: transparent;\n",
              "      border-right-color: var(--fill-color);\n",
              "      border-top-color: var(--fill-color);\n",
              "    }\n",
              "    60% {\n",
              "      border-color: transparent;\n",
              "      border-right-color: var(--fill-color);\n",
              "    }\n",
              "    80% {\n",
              "      border-color: transparent;\n",
              "      border-right-color: var(--fill-color);\n",
              "      border-bottom-color: var(--fill-color);\n",
              "    }\n",
              "    90% {\n",
              "      border-color: transparent;\n",
              "      border-bottom-color: var(--fill-color);\n",
              "    }\n",
              "  }\n",
              "</style>\n",
              "\n",
              "  <script>\n",
              "    async function quickchart(key) {\n",
              "      const quickchartButtonEl =\n",
              "        document.querySelector('#' + key + ' button');\n",
              "      quickchartButtonEl.disabled = true;  // To prevent multiple clicks.\n",
              "      quickchartButtonEl.classList.add('colab-df-spinner');\n",
              "      try {\n",
              "        const charts = await google.colab.kernel.invokeFunction(\n",
              "            'suggestCharts', [key], {});\n",
              "      } catch (error) {\n",
              "        console.error('Error during call to suggestCharts:', error);\n",
              "      }\n",
              "      quickchartButtonEl.classList.remove('colab-df-spinner');\n",
              "      quickchartButtonEl.classList.add('colab-df-quickchart-complete');\n",
              "    }\n",
              "    (() => {\n",
              "      let quickchartButtonEl =\n",
              "        document.querySelector('#df-8cb579ca-ca32-4ab8-89fb-41a8abf409a2 button');\n",
              "      quickchartButtonEl.style.display =\n",
              "        google.colab.kernel.accessAllowed ? 'block' : 'none';\n",
              "    })();\n",
              "  </script>\n",
              "</div>\n",
              "\n",
              "    </div>\n",
              "  </div>\n"
            ],
            "application/vnd.google.colaboratory.intrinsic+json": {
              "type": "dataframe",
              "summary": "{\n  \"name\": \"data[data['price'] > 5000000]\",\n  \"rows\": 3,\n  \"fields\": [\n    {\n      \"column\": \"date\",\n      \"properties\": {\n        \"dtype\": \"date\",\n        \"min\": \"2014-06-11 00:00:00\",\n        \"max\": \"2014-07-03 00:00:00\",\n        \"num_unique_values\": 3,\n        \"samples\": [\n          \"2014-06-11 00:00:00\",\n          \"2014-06-23 00:00:00\",\n          \"2014-07-03 00:00:00\"\n        ],\n        \"semantic_type\": \"\",\n        \"description\": \"\"\n      }\n    },\n    {\n      \"column\": \"price\",\n      \"properties\": {\n        \"dtype\": \"number\",\n        \"std\": 10023567.807090115,\n        \"min\": 7062500.0,\n        \"max\": 26590000.0,\n        \"num_unique_values\": 3,\n        \"samples\": [\n          7062500.0,\n          12899000.0,\n          26590000.0\n        ],\n        \"semantic_type\": \"\",\n        \"description\": \"\"\n      }\n    },\n    {\n      \"column\": \"bathrooms\",\n      \"properties\": {\n        \"dtype\": \"number\",\n        \"std\": 1.3228756555322954,\n        \"min\": 2.0,\n        \"max\": 4.5,\n        \"num_unique_values\": 3,\n        \"samples\": [\n          4.5,\n          2.5,\n          2.0\n        ],\n        \"semantic_type\": \"\",\n        \"description\": \"\"\n      }\n    },\n    {\n      \"column\": \"bedrooms\",\n      \"properties\": {\n        \"dtype\": \"number\",\n        \"std\": 1,\n        \"min\": 3,\n        \"max\": 5,\n        \"num_unique_values\": 2,\n        \"samples\": [\n          3,\n          5\n        ],\n        \"semantic_type\": \"\",\n        \"description\": \"\"\n      }\n    },\n    {\n      \"column\": \"sqft_living\",\n      \"properties\": {\n        \"dtype\": \"number\",\n        \"std\": 4850,\n        \"min\": 1180,\n        \"max\": 10040,\n        \"num_unique_values\": 3,\n        \"samples\": [\n          10040,\n          2190\n        ],\n        \"semantic_type\": \"\",\n        \"description\": \"\"\n      }\n    },\n    {\n      \"column\": \"sqft_lot\",\n      \"properties\": {\n        \"dtype\": \"number\",\n        \"std\": 16111,\n        \"min\": 7793,\n        \"max\": 37325,\n        \"num_unique_values\": 3,\n        \"samples\": [\n          37325,\n          11394\n        ],\n        \"semantic_type\": \"\",\n        \"description\": \"\"\n      }\n    },\n    {\n      \"column\": \"floors\",\n      \"properties\": {\n        \"dtype\": \"number\",\n        \"std\": 0.5773502691896257,\n        \"min\": 1.0,\n        \"max\": 2.0,\n        \"num_unique_values\": 2,\n        \"samples\": [\n          1.0,\n          2.0\n        ],\n        \"semantic_type\": \"\",\n        \"description\": \"\"\n      }\n    },\n    {\n      \"column\": \"waterfront\",\n      \"properties\": {\n        \"dtype\": \"number\",\n        \"std\": 0,\n        \"min\": 0,\n        \"max\": 1,\n        \"num_unique_values\": 2,\n        \"samples\": [\n          0,\n          1\n        ],\n        \"semantic_type\": \"\",\n        \"description\": \"\"\n      }\n    },\n    {\n      \"column\": \"view\",\n      \"properties\": {\n        \"dtype\": \"number\",\n        \"std\": 1,\n        \"min\": 0,\n        \"max\": 2,\n        \"num_unique_values\": 2,\n        \"samples\": [\n          0,\n          2\n        ],\n        \"semantic_type\": \"\",\n        \"description\": \"\"\n      }\n    },\n    {\n      \"column\": \"condition\",\n      \"properties\": {\n        \"dtype\": \"number\",\n        \"std\": 0,\n        \"min\": 3,\n        \"max\": 4,\n        \"num_unique_values\": 2,\n        \"samples\": [\n          4,\n          3\n        ],\n        \"semantic_type\": \"\",\n        \"description\": \"\"\n      }\n    },\n    {\n      \"column\": \"sqft_above\",\n      \"properties\": {\n        \"dtype\": \"number\",\n        \"std\": 3650,\n        \"min\": 1180,\n        \"max\": 7680,\n        \"num_unique_values\": 3,\n        \"samples\": [\n          7680,\n          1550\n        ],\n        \"semantic_type\": \"\",\n        \"description\": \"\"\n      }\n    },\n    {\n      \"column\": \"sqft_basement\",\n      \"properties\": {\n        \"dtype\": \"number\",\n        \"std\": 1220,\n        \"min\": 0,\n        \"max\": 2360,\n        \"num_unique_values\": 3,\n        \"samples\": [\n          2360,\n          640\n        ],\n        \"semantic_type\": \"\",\n        \"description\": \"\"\n      }\n    },\n    {\n      \"column\": \"yr_built\",\n      \"properties\": {\n        \"dtype\": \"number\",\n        \"std\": 26,\n        \"min\": 1940,\n        \"max\": 1992,\n        \"num_unique_values\": 3,\n        \"samples\": [\n          1940,\n          1956\n        ],\n        \"semantic_type\": \"\",\n        \"description\": \"\"\n      }\n    },\n    {\n      \"column\": \"yr_renovated\",\n      \"properties\": {\n        \"dtype\": \"number\",\n        \"std\": 1155,\n        \"min\": 0,\n        \"max\": 2001,\n        \"num_unique_values\": 2,\n        \"samples\": [\n          0,\n          2001\n        ],\n        \"semantic_type\": \"\",\n        \"description\": \"\"\n      }\n    },\n    {\n      \"column\": \"street\",\n      \"properties\": {\n        \"dtype\": \"string\",\n        \"num_unique_values\": 3,\n        \"samples\": [\n          \"4442 95th Ave NE\",\n          \"5426 40th Ave W\"\n        ],\n        \"semantic_type\": \"\",\n        \"description\": \"\"\n      }\n    },\n    {\n      \"column\": \"city\",\n      \"properties\": {\n        \"dtype\": \"string\",\n        \"num_unique_values\": 3,\n        \"samples\": [\n          \"Bellevue\",\n          \"Seattle\"\n        ],\n        \"semantic_type\": \"\",\n        \"description\": \"\"\n      }\n    },\n    {\n      \"column\": \"statezip\",\n      \"properties\": {\n        \"dtype\": \"string\",\n        \"num_unique_values\": 3,\n        \"samples\": [\n          \"WA 98004\",\n          \"WA 98199\"\n        ],\n        \"semantic_type\": \"\",\n        \"description\": \"\"\n      }\n    },\n    {\n      \"column\": \"country\",\n      \"properties\": {\n        \"dtype\": \"category\",\n        \"num_unique_values\": 1,\n        \"samples\": [\n          \"USA\"\n        ],\n        \"semantic_type\": \"\",\n        \"description\": \"\"\n      }\n    }\n  ]\n}"
            }
          },
          "metadata": {},
          "execution_count": 12
        }
      ],
      "source": [
        "# Let's find the observations with very high prices and see what they look like\n",
        "data[data['price'] > 5000000]\n"
      ]
    },
    {
      "cell_type": "markdown",
      "metadata": {
        "id": "pU877AU7ZPUs"
      },
      "source": [
        "I can believe that a 10000 square foot property sold for \\$7M.\n",
        "\n",
        "I have a hard time believing a 2 bathroom, 3 bedroom, 1180 square foot property sold for ~\\$27M. This seems like a mistake. I'm also having a hard time believing that a 2.5 bathroom, 3 bedroom, 2190 square foot property sold for ~\\$13M.\n",
        "\n",
        "I am going to treat both of these observations as \"mistakes\" and drop them from my data. I am going to recognize that if these are real observations, there is a small chance I will see future properties that I make GIGANTIC mistakes on.\n",
        "\n",
        "We can/should also run the whole thing with the dropped observations included to gauge robustness."
      ]
    },
    {
      "cell_type": "code",
      "execution_count": 13,
      "metadata": {
        "id": "vyHGl2UKazJs"
      },
      "outputs": [],
      "source": [
        "# Drop the flagged observations\n",
        "data = data.drop(data[data['price'] < 50000].index)\n",
        "data = data.drop(data[data['price'] > 10000000].index)"
      ]
    },
    {
      "cell_type": "markdown",
      "metadata": {
        "id": "N9gHuBoOEOPS"
      },
      "source": [
        "Our price variable is highly skewed. It is very commeon to see data-scientists build models a right-skewed variable that only takes on positive values by taking a `log` transformation first. I.e. instead by building a model for `price`, we might instead build a model for `log(price)`.\n",
        "\n",
        "**Remember that our goal is to predict `price` though!** Make sure you validate on the basis of what you care about."
      ]
    },
    {
      "cell_type": "code",
      "execution_count": 14,
      "metadata": {
        "id": "T9kQ7vusENjZ",
        "outputId": "1ac539c2-5a23-4428-f8b0-cb8322d5d4da",
        "colab": {
          "base_uri": "https://localhost:8080/",
          "height": 524
        }
      },
      "outputs": [
        {
          "output_type": "display_data",
          "data": {
            "text/plain": [
              "<Figure size 500x500 with 1 Axes>"
            ],
            "image/png": "[encoded data removed]"
          },
          "metadata": {}
        }
      ],
      "source": [
        "# Create new column with the log of price\n",
        "data['log_price'] = np.log(data['price'])\n",
        "\n",
        "# Smoothed histogram of log price\n",
        "sns.displot(data=data, x='log_price', kind='kde')\n",
        "plt.title('Smoothed histogram of log(Price)')\n",
        "plt.show()"
      ]
    },
    {
      "cell_type": "code",
      "execution_count": 15,
      "metadata": {
        "id": "01Z8MJOSUicp",
        "outputId": "6ff7c442-53e5-4807-e3a0-ff0f6f5db11d",
        "colab": {
          "base_uri": "https://localhost:8080/",
          "height": 472
        }
      },
      "outputs": [
        {
          "output_type": "display_data",
          "data": {
            "text/plain": [
              "<Figure size 640x480 with 1 Axes>"
            ],
            "image/png": "[encoded data removed]"
          },
          "metadata": {}
        }
      ],
      "source": [
        "plt.scatter(data['sqft_living'], data['log_price'])\n",
        "plt.xlabel('sqft_living')\n",
        "plt.ylabel('log_price')\n",
        "plt.title('Scatter plot of log(Price) vs Square Feet')\n",
        "plt.show()"
      ]
    },
    {
      "cell_type": "markdown",
      "source": [
        "What happens if we look at log(`sqft_living`)?"
      ],
      "metadata": {
        "id": "lfA3IKZrFi4D"
      }
    },
    {
      "cell_type": "code",
      "source": [
        "plt.scatter(np.log(data['sqft_living']), data['log_price'])\n",
        "plt.xlabel('log_sqft_living')\n",
        "plt.ylabel('log_price')\n",
        "plt.title('Scatter plot of log(Price) vs log(Square Feet)')\n",
        "plt.show()"
      ],
      "metadata": {
        "id": "eLeR3Z9yFifL",
        "outputId": "5c5567ce-293e-44fc-d810-3f5742a9f314",
        "colab": {
          "base_uri": "https://localhost:8080/",
          "height": 472
        }
      },
      "execution_count": 16,
      "outputs": [
        {
          "output_type": "display_data",
          "data": {
            "text/plain": [
              "<Figure size 640x480 with 1 Axes>"
            ],
            "image/png": "[encoded data removed]"
          },
          "metadata": {}
        }
      ]
    },
    {
      "cell_type": "markdown",
      "source": [
        "That actually looks pretty reasonable. Let's consider using the log of all our square footage variables.\n",
        "\n",
        "**------self note------**\n",
        "\n",
        "Code above creates plots with log(price), but doesn't create data column for log(price).\n",
        "\n",
        "Code below replaces the data column sqft_living, sqft_lot and sqft_above with their logistic values respectively.\n",
        "\n",
        "**------end note------**"
      ],
      "metadata": {
        "id": "oTpk5_U-FpRD"
      }
    },
    {
      "cell_type": "code",
      "source": [
        "# Replace square footage variables with their log\n",
        "data['sqft_living'] = np.log(data['sqft_living'])\n",
        "data['sqft_lot'] = np.log(data['sqft_lot'])\n",
        "data['sqft_above'] = np.log(data['sqft_above'])"
      ],
      "metadata": {
        "id": "QwG5mLHHFv0C"
      },
      "execution_count": null,
      "outputs": []
    },
    {
      "cell_type": "code",
      "source": [
        "# sqft_basement has 0 values that indicate no basement. We don't want to replace those\n",
        "data.loc[data[\"sqft_basement\"] > 0, \"sqft_basement\"] = np.log(data.loc[data[\"sqft_basement\"] > 0, \"sqft_basement\"])"
      ],
      "metadata": {
        "id": "BGnsDDAwFxgk"
      },
      "execution_count": 18,
      "outputs": []
    },
    {
      "cell_type": "markdown",
      "metadata": {
        "id": "2nhLnWdnC15E"
      },
      "source": [
        "**Categorical Variables**\n",
        "\n",
        "The four variables of type \"object\" are not numeric but coded as text. Let's look at what they are. In the following code blocks, we are just going to tabulate each of our categorical variables by looking at the `value_counts` property of our data."
      ]
    },
    {
      "cell_type": "code",
      "execution_count": 19,
      "metadata": {
        "id": "yIHslh748P1P",
        "outputId": "238bd29e-b471-4b48-94e2-f527fc7425de",
        "colab": {
          "base_uri": "https://localhost:8080/",
          "height": 489
        }
      },
      "outputs": [
        {
          "output_type": "execute_result",
          "data": {
            "text/plain": [
              "street\n",
              "2520 Mulberry Walk NE      4\n",
              "2500 Mulberry Walk NE      3\n",
              "26007 SE 27th St           2\n",
              "1273 NE Hickory Ln         2\n",
              "3715 NE 153rd St           2\n",
              "                          ..\n",
              "12439 235th Pl NE          1\n",
              "16718-16726 171st Pl NE    1\n",
              "16433 12th Ave SW          1\n",
              "8850 34th Ave SW           1\n",
              "12032-12038 SE 76th St     1\n",
              "Name: count, Length: 4471, dtype: int64"
            ],
            "text/html": [
              "<div>\n",
              "<style scoped>\n",
              "    .dataframe tbody tr th:only-of-type {\n",
              "        vertical-align: middle;\n",
              "    }\n",
              "\n",
              "    .dataframe tbody tr th {\n",
              "        vertical-align: top;\n",
              "    }\n",
              "\n",
              "    .dataframe thead th {\n",
              "        text-align: right;\n",
              "    }\n",
              "</style>\n",
              "<table border=\"1\" class=\"dataframe\">\n",
              "  <thead>\n",
              "    <tr style=\"text-align: right;\">\n",
              "      <th></th>\n",
              "      <th>count</th>\n",
              "    </tr>\n",
              "    <tr>\n",
              "      <th>street</th>\n",
              "      <th></th>\n",
              "    </tr>\n",
              "  </thead>\n",
              "  <tbody>\n",
              "    <tr>\n",
              "      <th>2520 Mulberry Walk NE</th>\n",
              "      <td>4</td>\n",
              "    </tr>\n",
              "    <tr>\n",
              "      <th>2500 Mulberry Walk NE</th>\n",
              "      <td>3</td>\n",
              "    </tr>\n",
              "    <tr>\n",
              "      <th>26007 SE 27th St</th>\n",
              "      <td>2</td>\n",
              "    </tr>\n",
              "    <tr>\n",
              "      <th>1273 NE Hickory Ln</th>\n",
              "      <td>2</td>\n",
              "    </tr>\n",
              "    <tr>\n",
              "      <th>3715 NE 153rd St</th>\n",
              "      <td>2</td>\n",
              "    </tr>\n",
              "    <tr>\n",
              "      <th>...</th>\n",
              "      <td>...</td>\n",
              "    </tr>\n",
              "    <tr>\n",
              "      <th>12439 235th Pl NE</th>\n",
              "      <td>1</td>\n",
              "    </tr>\n",
              "    <tr>\n",
              "      <th>16718-16726 171st Pl NE</th>\n",
              "      <td>1</td>\n",
              "    </tr>\n",
              "    <tr>\n",
              "      <th>16433 12th Ave SW</th>\n",
              "      <td>1</td>\n",
              "    </tr>\n",
              "    <tr>\n",
              "      <th>8850 34th Ave SW</th>\n",
              "      <td>1</td>\n",
              "    </tr>\n",
              "    <tr>\n",
              "      <th>12032-12038 SE 76th St</th>\n",
              "      <td>1</td>\n",
              "    </tr>\n",
              "  </tbody>\n",
              "</table>\n",
              "<p>4471 rows × 1 columns</p>\n",
              "</div><br><label><b>dtype:</b> int64</label>"
            ]
          },
          "metadata": {},
          "execution_count": 19
        }
      ],
      "source": [
        "data['street'].value_counts()"
      ]
    },
    {
      "cell_type": "markdown",
      "metadata": {
        "id": "SA8BYDoC8Z2F"
      },
      "source": [
        "Most street addresses have only one property. Without better geographic knowledge, it's going to be hard to use this variable.\n",
        "\n",
        "**Question:** If you really cared, how could you use the street address to get something potentially more useful? (Think about, e.g., google street view, google maps and routing, ...)\n",
        "\n",
        "**Frank answer**: To predicting price, street address can be used to generate longitude-latitude for map location, than further classified to regions."
      ]
    },
    {
      "cell_type": "code",
      "execution_count": 20,
      "metadata": {
        "id": "HCTrdnLG7RN8",
        "outputId": "6e721f9b-0e08-407e-aacf-c927544e9b5a",
        "colab": {
          "base_uri": "https://localhost:8080/",
          "height": 1000
        }
      },
      "outputs": [
        {
          "output_type": "execute_result",
          "data": {
            "text/plain": [
              "city\n",
              "Seattle                1559\n",
              "Renton                  291\n",
              "Bellevue                281\n",
              "Redmond                 234\n",
              "Kirkland                187\n",
              "Issaquah                186\n",
              "Kent                    183\n",
              "Auburn                  175\n",
              "Sammamish               171\n",
              "Federal Way             145\n",
              "Shoreline               123\n",
              "Woodinville             114\n",
              "Maple Valley             95\n",
              "Mercer Island            82\n",
              "Burien                   72\n",
              "Snoqualmie               69\n",
              "Kenmore                  65\n",
              "Des Moines               58\n",
              "North Bend               50\n",
              "Covington                42\n",
              "Duvall                   42\n",
              "Lake Forest Park         34\n",
              "Bothell                  33\n",
              "Newcastle                33\n",
              "Vashon                   29\n",
              "Tukwila                  28\n",
              "SeaTac                   28\n",
              "Enumclaw                 27\n",
              "Carnation                22\n",
              "Normandy Park            17\n",
              "Fall City                11\n",
              "Medina                   11\n",
              "Clyde Hill                9\n",
              "Black Diamond             8\n",
              "Ravensdale                7\n",
              "Pacific                   6\n",
              "Algona                    5\n",
              "Yarrow Point              4\n",
              "Skykomish                 3\n",
              "Milton                    2\n",
              "Preston                   2\n",
              "Inglewood-Finn Hill       1\n",
              "Snoqualmie Pass           1\n",
              "Beaux Arts Village        1\n",
              "Name: count, dtype: int64"
            ],
            "text/html": [
              "<div>\n",
              "<style scoped>\n",
              "    .dataframe tbody tr th:only-of-type {\n",
              "        vertical-align: middle;\n",
              "    }\n",
              "\n",
              "    .dataframe tbody tr th {\n",
              "        vertical-align: top;\n",
              "    }\n",
              "\n",
              "    .dataframe thead th {\n",
              "        text-align: right;\n",
              "    }\n",
              "</style>\n",
              "<table border=\"1\" class=\"dataframe\">\n",
              "  <thead>\n",
              "    <tr style=\"text-align: right;\">\n",
              "      <th></th>\n",
              "      <th>count</th>\n",
              "    </tr>\n",
              "    <tr>\n",
              "      <th>city</th>\n",
              "      <th></th>\n",
              "    </tr>\n",
              "  </thead>\n",
              "  <tbody>\n",
              "    <tr>\n",
              "      <th>Seattle</th>\n",
              "      <td>1559</td>\n",
              "    </tr>\n",
              "    <tr>\n",
              "      <th>Renton</th>\n",
              "      <td>291</td>\n",
              "    </tr>\n",
              "    <tr>\n",
              "      <th>Bellevue</th>\n",
              "      <td>281</td>\n",
              "    </tr>\n",
              "    <tr>\n",
              "      <th>Redmond</th>\n",
              "      <td>234</td>\n",
              "    </tr>\n",
              "    <tr>\n",
              "      <th>Kirkland</th>\n",
              "      <td>187</td>\n",
              "    </tr>\n",
              "    <tr>\n",
              "      <th>Issaquah</th>\n",
              "      <td>186</td>\n",
              "    </tr>\n",
              "    <tr>\n",
              "      <th>Kent</th>\n",
              "      <td>183</td>\n",
              "    </tr>\n",
              "    <tr>\n",
              "      <th>Auburn</th>\n",
              "      <td>175</td>\n",
              "    </tr>\n",
              "    <tr>\n",
              "      <th>Sammamish</th>\n",
              "      <td>171</td>\n",
              "    </tr>\n",
              "    <tr>\n",
              "      <th>Federal Way</th>\n",
              "      <td>145</td>\n",
              "    </tr>\n",
              "    <tr>\n",
              "      <th>Shoreline</th>\n",
              "      <td>123</td>\n",
              "    </tr>\n",
              "    <tr>\n",
              "      <th>Woodinville</th>\n",
              "      <td>114</td>\n",
              "    </tr>\n",
              "    <tr>\n",
              "      <th>Maple Valley</th>\n",
              "      <td>95</td>\n",
              "    </tr>\n",
              "    <tr>\n",
              "      <th>Mercer Island</th>\n",
              "      <td>82</td>\n",
              "    </tr>\n",
              "    <tr>\n",
              "      <th>Burien</th>\n",
              "      <td>72</td>\n",
              "    </tr>\n",
              "    <tr>\n",
              "      <th>Snoqualmie</th>\n",
              "      <td>69</td>\n",
              "    </tr>\n",
              "    <tr>\n",
              "      <th>Kenmore</th>\n",
              "      <td>65</td>\n",
              "    </tr>\n",
              "    <tr>\n",
              "      <th>Des Moines</th>\n",
              "      <td>58</td>\n",
              "    </tr>\n",
              "    <tr>\n",
              "      <th>North Bend</th>\n",
              "      <td>50</td>\n",
              "    </tr>\n",
              "    <tr>\n",
              "      <th>Covington</th>\n",
              "      <td>42</td>\n",
              "    </tr>\n",
              "    <tr>\n",
              "      <th>Duvall</th>\n",
              "      <td>42</td>\n",
              "    </tr>\n",
              "    <tr>\n",
              "      <th>Lake Forest Park</th>\n",
              "      <td>34</td>\n",
              "    </tr>\n",
              "    <tr>\n",
              "      <th>Bothell</th>\n",
              "      <td>33</td>\n",
              "    </tr>\n",
              "    <tr>\n",
              "      <th>Newcastle</th>\n",
              "      <td>33</td>\n",
              "    </tr>\n",
              "    <tr>\n",
              "      <th>Vashon</th>\n",
              "      <td>29</td>\n",
              "    </tr>\n",
              "    <tr>\n",
              "      <th>Tukwila</th>\n",
              "      <td>28</td>\n",
              "    </tr>\n",
              "    <tr>\n",
              "      <th>SeaTac</th>\n",
              "      <td>28</td>\n",
              "    </tr>\n",
              "    <tr>\n",
              "      <th>Enumclaw</th>\n",
              "      <td>27</td>\n",
              "    </tr>\n",
              "    <tr>\n",
              "      <th>Carnation</th>\n",
              "      <td>22</td>\n",
              "    </tr>\n",
              "    <tr>\n",
              "      <th>Normandy Park</th>\n",
              "      <td>17</td>\n",
              "    </tr>\n",
              "    <tr>\n",
              "      <th>Fall City</th>\n",
              "      <td>11</td>\n",
              "    </tr>\n",
              "    <tr>\n",
              "      <th>Medina</th>\n",
              "      <td>11</td>\n",
              "    </tr>\n",
              "    <tr>\n",
              "      <th>Clyde Hill</th>\n",
              "      <td>9</td>\n",
              "    </tr>\n",
              "    <tr>\n",
              "      <th>Black Diamond</th>\n",
              "      <td>8</td>\n",
              "    </tr>\n",
              "    <tr>\n",
              "      <th>Ravensdale</th>\n",
              "      <td>7</td>\n",
              "    </tr>\n",
              "    <tr>\n",
              "      <th>Pacific</th>\n",
              "      <td>6</td>\n",
              "    </tr>\n",
              "    <tr>\n",
              "      <th>Algona</th>\n",
              "      <td>5</td>\n",
              "    </tr>\n",
              "    <tr>\n",
              "      <th>Yarrow Point</th>\n",
              "      <td>4</td>\n",
              "    </tr>\n",
              "    <tr>\n",
              "      <th>Skykomish</th>\n",
              "      <td>3</td>\n",
              "    </tr>\n",
              "    <tr>\n",
              "      <th>Milton</th>\n",
              "      <td>2</td>\n",
              "    </tr>\n",
              "    <tr>\n",
              "      <th>Preston</th>\n",
              "      <td>2</td>\n",
              "    </tr>\n",
              "    <tr>\n",
              "      <th>Inglewood-Finn Hill</th>\n",
              "      <td>1</td>\n",
              "    </tr>\n",
              "    <tr>\n",
              "      <th>Snoqualmie Pass</th>\n",
              "      <td>1</td>\n",
              "    </tr>\n",
              "    <tr>\n",
              "      <th>Beaux Arts Village</th>\n",
              "      <td>1</td>\n",
              "    </tr>\n",
              "  </tbody>\n",
              "</table>\n",
              "</div><br><label><b>dtype:</b> int64</label>"
            ]
          },
          "metadata": {},
          "execution_count": 20
        }
      ],
      "source": [
        "data['city'].value_counts()"
      ]
    },
    {
      "cell_type": "code",
      "source": [
        "np.sum(data['city'].value_counts() < 20)"
      ],
      "metadata": {
        "id": "veZPcomuLmX_",
        "outputId": "b8c636cb-9b9c-4a59-ecfd-6de2b13d1bff",
        "colab": {
          "base_uri": "https://localhost:8080/"
        }
      },
      "execution_count": 21,
      "outputs": [
        {
          "output_type": "execute_result",
          "data": {
            "text/plain": [
              "np.int64(15)"
            ]
          },
          "metadata": {},
          "execution_count": 21
        }
      ]
    },
    {
      "cell_type": "markdown",
      "metadata": {
        "id": "Wc0vXdpQ9GP7"
      },
      "source": [
        "City might be useful, but it is very unbalanced.\n",
        "\n",
        "**Questions:**\n",
        "\n",
        "1. Do we think the actual name of the city matters? Why might the variable `city` contain useful information?\n",
        "\n",
        "2. If we want to predict something outside of the Seattle area, is the variable `city` useful? Could we make it useful with some more effort?\n",
        "\n",
        "**Frank answer**:\n",
        "\n",
        "1. City name matters in that it tells basic economics in the area. There are multiple Richmonds in US. But typically, one city names are not duplicated in one State.\n",
        "\n",
        "2. To predict price outside Seattle, useful information can be the informaiton from the cityskirts of Seattle. Alternatively, we could use price gradient against distance from center along the direction inside the nearby city to predict its outside."
      ]
    },
    {
      "cell_type": "code",
      "execution_count": 22,
      "metadata": {
        "id": "TrDAoWmE73aQ",
        "outputId": "84ed9a8d-4154-450f-bedd-92ea1d43cc4b",
        "colab": {
          "base_uri": "https://localhost:8080/",
          "height": 489
        }
      },
      "outputs": [
        {
          "output_type": "execute_result",
          "data": {
            "text/plain": [
              "statezip\n",
              "WA 98103    148\n",
              "WA 98052    135\n",
              "WA 98117    132\n",
              "WA 98115    129\n",
              "WA 98006    109\n",
              "           ... \n",
              "WA 98047      6\n",
              "WA 98288      3\n",
              "WA 98354      2\n",
              "WA 98050      2\n",
              "WA 98068      1\n",
              "Name: count, Length: 77, dtype: int64"
            ],
            "text/html": [
              "<div>\n",
              "<style scoped>\n",
              "    .dataframe tbody tr th:only-of-type {\n",
              "        vertical-align: middle;\n",
              "    }\n",
              "\n",
              "    .dataframe tbody tr th {\n",
              "        vertical-align: top;\n",
              "    }\n",
              "\n",
              "    .dataframe thead th {\n",
              "        text-align: right;\n",
              "    }\n",
              "</style>\n",
              "<table border=\"1\" class=\"dataframe\">\n",
              "  <thead>\n",
              "    <tr style=\"text-align: right;\">\n",
              "      <th></th>\n",
              "      <th>count</th>\n",
              "    </tr>\n",
              "    <tr>\n",
              "      <th>statezip</th>\n",
              "      <th></th>\n",
              "    </tr>\n",
              "  </thead>\n",
              "  <tbody>\n",
              "    <tr>\n",
              "      <th>WA 98103</th>\n",
              "      <td>148</td>\n",
              "    </tr>\n",
              "    <tr>\n",
              "      <th>WA 98052</th>\n",
              "      <td>135</td>\n",
              "    </tr>\n",
              "    <tr>\n",
              "      <th>WA 98117</th>\n",
              "      <td>132</td>\n",
              "    </tr>\n",
              "    <tr>\n",
              "      <th>WA 98115</th>\n",
              "      <td>129</td>\n",
              "    </tr>\n",
              "    <tr>\n",
              "      <th>WA 98006</th>\n",
              "      <td>109</td>\n",
              "    </tr>\n",
              "    <tr>\n",
              "      <th>...</th>\n",
              "      <td>...</td>\n",
              "    </tr>\n",
              "    <tr>\n",
              "      <th>WA 98047</th>\n",
              "      <td>6</td>\n",
              "    </tr>\n",
              "    <tr>\n",
              "      <th>WA 98288</th>\n",
              "      <td>3</td>\n",
              "    </tr>\n",
              "    <tr>\n",
              "      <th>WA 98354</th>\n",
              "      <td>2</td>\n",
              "    </tr>\n",
              "    <tr>\n",
              "      <th>WA 98050</th>\n",
              "      <td>2</td>\n",
              "    </tr>\n",
              "    <tr>\n",
              "      <th>WA 98068</th>\n",
              "      <td>1</td>\n",
              "    </tr>\n",
              "  </tbody>\n",
              "</table>\n",
              "<p>77 rows × 1 columns</p>\n",
              "</div><br><label><b>dtype:</b> int64</label>"
            ]
          },
          "metadata": {},
          "execution_count": 22
        }
      ],
      "source": [
        "data['statezip'].value_counts()"
      ]
    },
    {
      "cell_type": "markdown",
      "metadata": {
        "id": "CBSDYNmx9Peg"
      },
      "source": [
        "Zip code (`statezip`) seems like it might have more *interesting* variation than `city`.\n",
        "\n",
        "**Questions:**\n",
        "\n",
        "1. Do we think the actual numeric value of a property's zip code matters? Why might the variable `statezip` contain useful information?\n",
        "\n",
        "2. If we want to predict something outside of the Seattle area, is the variable `statezip` useful? Could we make it useful with some more effort?\n",
        "\n",
        "**Frank Answer**\n",
        "\n",
        "1. Numberical zipvalue may matter most when relating to geo location. Otherwise, it may be less valuable in regression models. However, it may be very valueble for neural networks."
      ]
    },
    {
      "cell_type": "code",
      "execution_count": 23,
      "metadata": {
        "id": "l9DgmDtJ8DeX",
        "outputId": "28cca219-5b7f-41f3-82ce-da35939082c7",
        "colab": {
          "base_uri": "https://localhost:8080/",
          "height": 146
        }
      },
      "outputs": [
        {
          "output_type": "execute_result",
          "data": {
            "text/plain": [
              "country\n",
              "USA    4546\n",
              "Name: count, dtype: int64"
            ],
            "text/html": [
              "<div>\n",
              "<style scoped>\n",
              "    .dataframe tbody tr th:only-of-type {\n",
              "        vertical-align: middle;\n",
              "    }\n",
              "\n",
              "    .dataframe tbody tr th {\n",
              "        vertical-align: top;\n",
              "    }\n",
              "\n",
              "    .dataframe thead th {\n",
              "        text-align: right;\n",
              "    }\n",
              "</style>\n",
              "<table border=\"1\" class=\"dataframe\">\n",
              "  <thead>\n",
              "    <tr style=\"text-align: right;\">\n",
              "      <th></th>\n",
              "      <th>count</th>\n",
              "    </tr>\n",
              "    <tr>\n",
              "      <th>country</th>\n",
              "      <th></th>\n",
              "    </tr>\n",
              "  </thead>\n",
              "  <tbody>\n",
              "    <tr>\n",
              "      <th>USA</th>\n",
              "      <td>4546</td>\n",
              "    </tr>\n",
              "  </tbody>\n",
              "</table>\n",
              "</div><br><label><b>dtype:</b> int64</label>"
            ]
          },
          "metadata": {},
          "execution_count": 23
        }
      ],
      "source": [
        "data['country'].value_counts()"
      ]
    },
    {
      "cell_type": "markdown",
      "metadata": {
        "id": "8BWgtK6z8JZE"
      },
      "source": [
        "Can't use the variable `country` - It doesn't *vary* 🙂."
      ]
    },
    {
      "cell_type": "markdown",
      "metadata": {
        "id": "lzakdBbUb0ax"
      },
      "source": [
        "**Aside: Categorical Variables.**\n",
        "\n",
        "The typical way to use (unordered) categorical variables is to encode them as dummy variables/binary variables/use one-hot-encoding --  all of which are jargon for making a new set of variables that are 0 or 1 with 1 indicating the observation belongs to a category and 0 indicates it does not.\n",
        "\n",
        "For example, if we had a variable `color` with two categories \"red\" and \"blue\", we just create two new variables `red` and `blue` where variable `red` = 1 for all observations that are red (and 0 otherwise) and `blue` is defined similarly. (Note: For standard linear models, you typically exclude one of the dummy variables. In our toy example, we don't need both the variables `red` and `blue` because if `red` = 1 we know `blue` = 0 and viceversa. That is, they have the same information.)\n",
        "\n",
        "We'll look at doing this in our price example when we consider including `city` and `statezip` in our model."
      ]
    },
    {
      "cell_type": "markdown",
      "metadata": {
        "id": "fKBUm9pS_a--"
      },
      "source": [
        "Before doing anything else, let's drop the variables we definitely won't use."
      ]
    },
    {
      "cell_type": "code",
      "execution_count": 24,
      "metadata": {
        "id": "khWiCZII_e84"
      },
      "outputs": [],
      "source": [
        "data = data.drop(columns=['date','street','country'])"
      ]
    },
    {
      "cell_type": "markdown",
      "metadata": {
        "id": "kBggP2xO_6cA"
      },
      "source": [
        "Finally, we also see that we have many other variables that are effectively capturing qualitative information or a mix. E.g. `bathrooms`, `bedrooms`, `floors`, `waterfront`, `view`, and `condition` might be thought of as categorical.\n",
        "\n",
        "Let's look at these variables more carefully."
      ]
    },
    {
      "cell_type": "code",
      "execution_count": 25,
      "metadata": {
        "id": "FxcmTUmJBsKw",
        "outputId": "f024caf5-3df6-4f19-d4d3-98f69497dda6",
        "colab": {
          "base_uri": "https://localhost:8080/"
        }
      },
      "outputs": [
        {
          "output_type": "stream",
          "name": "stdout",
          "text": [
            "bathrooms\n",
            "2.50    1183\n",
            "1.00     735\n",
            "1.75     628\n",
            "2.00     424\n",
            "2.25     413\n",
            "1.50     287\n",
            "2.75     270\n",
            "3.00     164\n",
            "3.50     159\n",
            "3.25     135\n",
            "3.75      34\n",
            "4.50      26\n",
            "4.25      22\n",
            "4.00      21\n",
            "0.75      17\n",
            "4.75       7\n",
            "5.00       5\n",
            "5.50       4\n",
            "5.25       4\n",
            "1.25       3\n",
            "8.00       1\n",
            "5.75       1\n",
            "6.50       1\n",
            "6.25       1\n",
            "6.75       1\n",
            "Name: count, dtype: int64\n",
            "\n",
            "\n",
            "bedrooms\n",
            "3    2023\n",
            "4    1512\n",
            "2     560\n",
            "5     338\n",
            "6      59\n",
            "1      37\n",
            "7      14\n",
            "8       2\n",
            "9       1\n",
            "Name: count, dtype: int64\n",
            "\n",
            "\n",
            "floors\n",
            "1.0    2148\n",
            "2.0    1790\n",
            "1.5     439\n",
            "3.0     127\n",
            "2.5      41\n",
            "3.5       1\n",
            "Name: count, dtype: int64\n",
            "\n",
            "\n",
            "waterfront\n",
            "0    4516\n",
            "1      30\n",
            "Name: count, dtype: int64\n",
            "\n",
            "\n",
            "view\n",
            "0    4099\n",
            "2     200\n",
            "3     115\n",
            "1      69\n",
            "4      63\n",
            "Name: count, dtype: int64\n",
            "\n",
            "\n",
            "condition\n",
            "3    2848\n",
            "4    1237\n",
            "5     425\n",
            "2      31\n",
            "1       5\n",
            "Name: count, dtype: int64\n"
          ]
        }
      ],
      "source": [
        "print(data['bathrooms'].value_counts())\n",
        "print('\\n')\n",
        "print(data['bedrooms'].value_counts())\n",
        "print('\\n')\n",
        "print(data['floors'].value_counts())\n",
        "print('\\n')\n",
        "print(data['waterfront'].value_counts())\n",
        "print('\\n')\n",
        "print(data['view'].value_counts())\n",
        "print('\\n')\n",
        "print(data['condition'].value_counts())"
      ]
    },
    {
      "cell_type": "markdown",
      "metadata": {
        "id": "TAJI0_7yy0Rq"
      },
      "source": [
        "Importantly, these variables all have an order to them. `bathrooms`, `bedrooms`, and `floors` also (arguably) have cardinal value. `view` and `condition` are clearly qualitative, but do have ordinal meaning. `waterfront` is already a dummy variable.\n",
        "\n",
        "We could treat these by including them as dummy variables, but it also makes sense to use them as is (which is what we are going to do). Many ML procedures will happily and appropriately deal with ordered categorical features and numeric features with few values."
      ]
    },
    {
      "cell_type": "markdown",
      "metadata": {
        "id": "pNO8PYJXvmj4"
      },
      "source": [
        "**Mixed variables**\n",
        "\n",
        "The variables `sqft_basement` and `yr_renovated` have a 0 category indicating \"no basement\" or \"never renovated\" respectively.\n",
        "\n",
        "We can add variables indicating the qualitative information. For many learners, adding this variable is also unnecessary."
      ]
    },
    {
      "cell_type": "code",
      "execution_count": 26,
      "metadata": {
        "id": "oqEo4UkTvssh"
      },
      "outputs": [],
      "source": [
        "# Add a variable for being renovated\n",
        "data['renovated_flag'] = np.where(data['yr_renovated'] == 0, 0, 1)\n",
        "\n",
        "# Add a variable for having a basement\n",
        "data['basement_flag'] = np.where(data['sqft_basement'] == 0, 0, 1)"
      ]
    },
    {
      "cell_type": "markdown",
      "metadata": {
        "id": "gO-cm2jqWdH5"
      },
      "source": [
        "# Model evaluation\n",
        "\n",
        "We are going to use 5-fold CV to evaluate our models. We want to keep the cross-validation folds the same across all of the models we build, so we're going to predefine the splits."
      ]
    },
    {
      "cell_type": "code",
      "execution_count": 27,
      "metadata": {
        "id": "FCFKawjSMkvH"
      },
      "outputs": [],
      "source": [
        "cvsplit = KFold(n_splits=5, shuffle=True, random_state=rng)"
      ]
    },
    {
      "cell_type": "markdown",
      "metadata": {
        "id": "d-NHEZ36W5SB"
      },
      "source": [
        "We also need to choose how to evaluate the models. For illustration, we're going to consider performance based on both MAE and MSE. We are going to estimate models using both `price` and `log_price` for illustration.\n",
        "\n",
        "When we build a model for `log_price`, we don't directly build a prediction rule for `price`. We are going to use the simplest approach to turning our `log_price` prediction into a `price` prediction by exponentiating. I.e. if $\\widehat{\\texttt{log_price}}$ is our prediction for `log_price`, we obtain a prediction for `price` as $\\exp\\{\\widehat{\\texttt{log_price}}\\}$.\n",
        "\n",
        "We're going to define functions to produce MSE and MAE from `log_price` predictions."
      ]
    },
    {
      "cell_type": "markdown",
      "source": [
        "**------self note------**\n",
        "\n",
        "**expmse(y_true, y_pred)**: Define a custom function of ExpMSE of a y_pred and y_true that calculates the MSE between exp(y-true) and exp(y_pred). The return value of negmse will be the the result of the function ExpMSE.\n",
        "\n",
        "**make_scorer(expmse)**: A function from sklearn.metrics module to convert custome loss function expmse into a score object. Results are used in cross_val_score, GridSearchCV, and Randomized SearchCV.\n",
        "\n",
        "**------end note------**"
      ],
      "metadata": {
        "id": "Y8fpr86rQZZH"
      }
    },
    {
      "cell_type": "code",
      "execution_count": null,
      "metadata": {
        "id": "Htclo5CJNsXx"
      },
      "outputs": [],
      "source": [
        "def expmse(y_true, y_pred):\n",
        "\n",
        "  y_true = y_true.to_numpy()\n",
        "  y_pred[y_pred < -20] = -20\n",
        "  y_pred[y_pred > 20] = 20 # Prevent overflow issues in really bad models because we are going to exponentiate\n",
        "  negmse = -np.mean((np.exp(y_true) - np.exp(y_pred))**2)\n",
        "\n",
        "  return negmse\n",
        "\n",
        "# Create a scorer object using the expmse function\n",
        "expmse_score = make_scorer(expmse)\n",
        "\n",
        "def expmae(y_true, y_pred):\n",
        "\n",
        "  y_true = y_true.to_numpy()\n",
        "  y_pred[y_pred < -20] = -20\n",
        "  y_pred[y_pred > 20] = 20 # Prevent overflow issues in really bad models because we are going to exponentiate\n",
        "  negmae = -np.mean(np.abs(np.exp(y_true) - np.exp(y_pred)))\n",
        "\n",
        "  return negmae\n",
        "\n",
        "# Create a scorer object using the expmae function\n",
        "expmae_score = make_scorer(expmae)\n"
      ]
    },
    {
      "cell_type": "markdown",
      "metadata": {
        "id": "thTV0AIN_Wop"
      },
      "source": [
        "# Baseline start\n",
        "\n",
        "As simple benchmark, let's look at sample means and medians.\n",
        "\n",
        "We're going to define functions for using the mean and median as prediction rules that we can use with `sklearn`'s built in cross-validation functions."
      ]
    },
    {
      "cell_type": "code",
      "execution_count": null,
      "metadata": {
        "id": "DF3ZbJg8Pq8d"
      },
      "outputs": [],
      "source": [
        "# Define function to use mean as estimator and make prediction\n",
        "class MeanEstimator(BaseEstimator, RegressorMixin):\n",
        "    def fit(self, X, y=None):\n",
        "        # Compute the mean of y during fitting\n",
        "        self.mean_ = np.mean(y)\n",
        "        return self\n",
        "\n",
        "    def predict(self, X):\n",
        "        # Return the mean for all predictions\n",
        "        return np.full(len(X), self.mean_)\n",
        "\n",
        "# Define function to use median as estimator and make prediction\n",
        "class MedianEstimator(BaseEstimator, RegressorMixin):\n",
        "    def fit(self, X, y=None):\n",
        "        # Compute the mean of y during fitting\n",
        "        self.median_ = np.median(y)\n",
        "        return self\n",
        "\n",
        "    def predict(self, X):\n",
        "        # Return the mean for all predictions\n",
        "        return np.full(len(X), self.median_)\n"
      ]
    },
    {
      "cell_type": "markdown",
      "metadata": {
        "id": "eRvHRko8YKNX"
      },
      "source": [
        "Let's look at how well the sample mean and sample median of `price` do for predicting `price` by 5-fold cross-validation."
      ]
    },
    {
      "cell_type": "code",
      "execution_count": null,
      "metadata": {
        "id": "Y78A3ulaUXhB"
      },
      "outputs": [],
      "source": [
        "# Cross validation RMSE and MAE using sample mean of price as prediction rule\n",
        "# The \"scoring\" argument tells cross-validation what out-of-sample prediction\n",
        "# metrics to compute.\n",
        "levmean_mse = cross_validate(MeanEstimator(), data['price'], data['price'],\n",
        "                             scoring=('neg_mean_squared_error','neg_mean_absolute_error'), cv=cvsplit)\n",
        "print('Level Mean: CV RMSE: {m1:=.2f}; CV MAE: {m2:=.2f}'\n",
        "  .format(m1=np.sqrt(-levmean_mse['test_neg_mean_squared_error'].mean()),\n",
        "          m2=-levmean_mse['test_neg_mean_absolute_error'].mean()))\n",
        "\n",
        "# Cross validation RMSE and MAE using sample median of price as prediction rule\n",
        "# The \"scoring\" argument tells cross-validation what out-of-sample prediction\n",
        "# metrics to compute.\n",
        "levmedian_mse = cross_validate(MedianEstimator(), data['price'], data['price'],\n",
        "                               scoring=('neg_mean_squared_error','neg_mean_absolute_error'), cv=cvsplit)\n",
        "print('Level Median: CV RMSE: {m1:=.2f}; CV MAE: {m2:=.2f}'\n",
        "  .format(m1=np.sqrt(-levmedian_mse['test_neg_mean_squared_error'].mean()),\n",
        "          m2=-levmedian_mse['test_neg_mean_absolute_error'].mean()))\n",
        "\n",
        "# We are going to use cross-validated MSE from the mean as our benchmark for MSE\n",
        "# We are going to use cross-validated MAE from the median as our benchmark for MAE\n",
        "benchMSE = -levmean_mse['test_neg_mean_squared_error'].mean()\n",
        "benchMAE = -levmedian_mse['test_neg_mean_absolute_error'].mean()"
      ]
    },
    {
      "cell_type": "code",
      "execution_count": null,
      "metadata": {
        "id": "Cyy4YO2jFtB5"
      },
      "outputs": [],
      "source": [
        "# Let's create a table to keep track of results\n",
        "model_results = pd.DataFrame()\n",
        "model_results['Model'] = ['Mean', 'Median']\n",
        "model_results['RMSE'] = [np.sqrt(-levmean_mse['test_neg_mean_squared_error'].mean()),\n",
        "                         np.sqrt(-levmedian_mse['test_neg_mean_squared_error'].mean())]\n",
        "model_results['R2 - MSE'] = [None,None]\n",
        "model_results['MAE'] = [-levmean_mse['test_neg_mean_absolute_error'].mean(),\n",
        "                        -levmedian_mse['test_neg_mean_absolute_error'].mean()]\n",
        "model_results['R2 - MAE'] = [None,None]\n",
        "model_results['p'] = [None,None]\n",
        "model_results['p_use'] = [None,None]\n",
        "model_results"
      ]
    },
    {
      "cell_type": "markdown",
      "metadata": {
        "id": "SwJfKKof0ZGS"
      },
      "source": [
        "# Baseline linear models.\n",
        "\n",
        "## Think about the model\n",
        "\n",
        "For black box machine learners that discover nonlinearity automatically, thinking about how to model nonlinearity and other transformations to make of our available variables is not a big issue. The ability to put less time into  thinking about these issues is a major plus for ML algorithms. **You should always be thoughtful about variables in a model though.**\n",
        "\n",
        "For learners like linear regression, thinking about the appropriate way to include variables is potentially very important though.\n"
      ]
    },
    {
      "cell_type": "markdown",
      "metadata": {
        "id": "_muYOXDf4eMR"
      },
      "source": [
        "## Baseline models: OLS"
      ]
    },
    {
      "cell_type": "markdown",
      "source": [
        "For our baseline models, we are going to repeatedly apply the same steps. Let's write some functions so we don't have to keep typing the same things."
      ],
      "metadata": {
        "id": "pJEoxSgCdUb2"
      }
    },
    {
      "cell_type": "code",
      "source": [
        "def perform_cross_validation(model, X, y, scoring, cvsplit, benchMSE, benchMAE, p):\n",
        "\n",
        "    results = cross_validate(model, X, y, scoring=scoring, cv=cvsplit)\n",
        "\n",
        "    rmse = np.sqrt(-results['test_mse'].mean())\n",
        "    r2 = 1 - (-results['test_mse'].mean() / benchMSE)\n",
        "    mae = -results['test_mae'].mean()\n",
        "    mae_r2 = 1 - (-results['test_mae'].mean() / benchMAE)\n",
        "    print(f'CV RMSE: {rmse:.2f}; CV R2: {r2:.3f}; p: {p:.0f}')\n",
        "    print(f'CV MAE: {mae:.2f}; CV MAE R2: {mae_r2:.3f}; p: {p:.0f}')\n",
        "\n",
        "    return results\n",
        "\n",
        "def update_model_results(model_results, model_name, results, p, p_use):\n",
        "\n",
        "    rmse = np.sqrt(-results['test_mse'].mean())\n",
        "    r2 = 1 - (-results['test_mse'].mean() / benchMSE)\n",
        "    mae = -results['test_mae'].mean()\n",
        "    mae_r2 = 1 - (-results['test_mae'].mean() / benchMAE)\n",
        "    model_results = model_results._append({\n",
        "        'Model': model_name,\n",
        "        'RMSE': rmse,\n",
        "        'R2 - MSE': r2,\n",
        "        'MAE': mae,\n",
        "        'R2 - MAE': mae_r2,\n",
        "        'p': p,\n",
        "        'p_use': p_use }, ignore_index=True)\n",
        "\n",
        "    return model_results\n"
      ],
      "metadata": {
        "id": "FkePNswXddBd"
      },
      "execution_count": null,
      "outputs": []
    },
    {
      "cell_type": "markdown",
      "source": [
        "We are going to keep track of MSE and MAE for price. Let's define the metrics we're looking at."
      ],
      "metadata": {
        "id": "P_74w47zf99Z"
      }
    },
    {
      "cell_type": "code",
      "source": [
        "# Evaluation metrics\n",
        "scoring_lev = {'mse': 'neg_mean_squared_error',\n",
        "               'mae': 'neg_mean_absolute_error'}\n",
        "\n",
        "scoring_log = {'mse': expmse_score,\n",
        "               'mae': expmae_score}"
      ],
      "metadata": {
        "id": "Xq8hqfP_gFNt"
      },
      "execution_count": null,
      "outputs": []
    },
    {
      "cell_type": "markdown",
      "source": [
        "We're going to use the \"formula\" interfact we imported from formulaic to help define our models.\n",
        "\n",
        "The basics we will use:\n",
        "1. Putting a variable inside \"C\" will make the variable be treated as categorical by turning it into dummy variables.\n",
        "2. Putting a variable inside \"poly\" will create a polynomial of \"degree\" in that variable\n",
        "3. Putting a : between variables creates the interaction between those variables\n",
        "4. Putting a * between variables includes the variables and their interactions\n"
      ],
      "metadata": {
        "id": "6cOu87jIgZCn"
      }
    },
    {
      "cell_type": "code",
      "source": [
        "# Linear terms in all baseline variables\n",
        "pure = (\"price ~ bathrooms + bedrooms + sqft_living + sqft_lot + floors \"\n",
        "            \"+ waterfront + view + condition + yr_built + yr_renovated + renovated_flag + basement_flag\")\n",
        "\n",
        "# Create variables based on model defined in formula\n",
        "y, X = model_matrix(pure, data)\n",
        "n, p_pure = X.shape\n",
        "\n",
        "# Outcome variable for log models\n",
        "logy = data['log_price']"
      ],
      "metadata": {
        "id": "LgQrciN1YW7B"
      },
      "execution_count": null,
      "outputs": []
    },
    {
      "cell_type": "markdown",
      "source": [
        "We're now going to estimate and evaluate our baseline model for `price` and for `log_price` using the five fold cross-validation splits defined [above](https://colab.research.google.com/github/chansen776/MBA-ML-Course-Materials/blob/main/Code/HousePriceExample1.ipynb#scrollTo=FCFKawjSMkvH&line=1&uniqifier=1).\n",
        "\n"
      ],
      "metadata": {
        "id": "Vho4md-9hR2_"
      }
    },
    {
      "cell_type": "code",
      "source": [
        "# Basic regression for price\n",
        "purelm = perform_cross_validation(LinearRegression(), X, y,\n",
        "                                  scoring=scoring_lev,\n",
        "                                  cvsplit=cvsplit,\n",
        "                                  benchMSE=benchMSE,\n",
        "                                  benchMAE=benchMAE,\n",
        "                                  p=p_pure)\n",
        "model_results = update_model_results(model_results, 'LM', purelm, p_pure, p_pure)\n",
        "\n",
        "# Basic regression for log-price\n",
        "pureloglm = perform_cross_validation(LinearRegression(), X, logy,\n",
        "                                  scoring=scoring_log,\n",
        "                                  cvsplit=cvsplit,\n",
        "                                  benchMSE=benchMSE,\n",
        "                                  benchMAE=benchMAE,\n",
        "                                  p=p_pure)\n",
        "model_results = update_model_results(model_results, 'logLM', pureloglm, p_pure, p_pure)"
      ],
      "metadata": {
        "id": "byaTrJ-1Yuh9"
      },
      "execution_count": null,
      "outputs": []
    },
    {
      "cell_type": "markdown",
      "metadata": {
        "id": "2NUsv_1Bugfz"
      },
      "source": [
        "**Nonlinearity**\n",
        "\n",
        "We should think about potential *nonlinearities* that we would like to allow our models to capture. For example, do we think that each unit increase in house's square footage at fixed values of other variables should be associated with the same change in predicted (log) price regardless of the square footage? E.g. do we think going from 1000 to 1100 square feet is the same \"value\" as going from 3000-3100 square feet? Do we think the \"value\" of going from 2000-2100 square feet is the same if we are talking about a three versus five bedroom property?\n",
        "\n",
        "A very simple and interpretable way to allow for nonlinearities is to use *polynomials* and *interactions*. E.g. we might include `sqft_living` and `sqft_living`$^2$ to allow for decreasing or increasing \"returns\" to square footage in our model, so our prediction rule would be\n",
        "\n",
        "$$\\widehat{\\texttt{price}} = b_0 + b_1 \\texttt{sqft_living} + b_2 \\texttt{sqft_living}^2 + ...$$\n",
        "\n",
        "or\n",
        "\n",
        "$$\\widehat{\\texttt{log_price}} = b_0 + b_1 \\texttt{sqft_living} + b_2 \\texttt{sqft_living}^2 + ...$$\n",
        "\n",
        "[Note that you cannot interpret $b_1$ and $b_2$ in isolation.]\n",
        "\n",
        "We might also include the *interaction* `sqft_living`*`bedrooms` to allow the predicted price change for a given change in `sqft_living` to be different for properties with different numbers of bedrooms. In this case, our model would be\n",
        "\n",
        "$$ \\widehat{\\texttt{price}} = b_0 + b_1 \\texttt{sqft_living} + b_2 \\texttt{sqft_living}^2 + b_3\\texttt{bedrooms} + b_4 \\texttt{sqft_living}*\\texttt{bedrooms} + ...$$\n",
        "\n",
        "or\n",
        "\n",
        "$$ \\widehat{\\texttt{log_price}} = b_0 + b_1 \\texttt{sqft_living} + b_2 \\texttt{sqft_living}^2 + b_3\\texttt{bedrooms} + b_4 \\texttt{sqft_living}*\\texttt{bedrooms} + ...$$\n",
        "\n",
        "[Note that you cannot interpret $b_1$, $b_2$, $b_3$, and $b_4$ in isolation.]\n",
        "\n",
        "In our baseline prediction rules we will include squares of all \"numeric\" variable and include the interaction of `sqft_living` with `bedrooms` and with `bathrooms`"
      ]
    },
    {
      "cell_type": "markdown",
      "source": [
        "Let's add some terms to try to capture nonlinearity if there is any."
      ],
      "metadata": {
        "id": "z4omAKDfYqsv"
      }
    },
    {
      "cell_type": "code",
      "source": [
        "# Baseline model. Quadratic in all continuous variables and interaction between\n",
        "# sqft_living and bedrooms and bathrooms\n",
        "\n",
        "base = (\"price ~ poly(bathrooms, degree=2, raw=True) + poly(bedrooms, degree=2, raw=True)\"\n",
        "             \" + poly(sqft_living, degree=2, raw=True) + poly(sqft_lot, degree=2, raw=True) + poly(floors, degree=2, raw=True) \"\n",
        "            \"+ waterfront + poly(view, degree=2, raw=True) + poly(condition, degree=2, raw=True) + \"\n",
        "            \"poly(yr_built, degree=2, raw=True) + poly(yr_renovated, degree=2, raw=True) + C(renovated_flag) + C(basement_flag)\"\n",
        "            \" + sqft_living:(bedrooms+bathrooms)\")\n",
        "\n",
        "# Create variables based on model defined in formula\n",
        "y, X = model_matrix(base, data)\n",
        "n, p_base = X.shape\n",
        "\n",
        "# Outcome variable for log models\n",
        "logy = data['log_price']"
      ],
      "metadata": {
        "id": "I9h8ciYZgYoJ"
      },
      "execution_count": null,
      "outputs": []
    },
    {
      "cell_type": "code",
      "source": [
        "# Baseline regression for price\n",
        "baselm = perform_cross_validation(LinearRegression(), X, y,\n",
        "                                  scoring=scoring_lev,\n",
        "                                  cvsplit=cvsplit,\n",
        "                                  benchMSE=benchMSE,\n",
        "                                  benchMAE=benchMAE,\n",
        "                                  p=p_base)\n",
        "model_results = update_model_results(model_results, 'Baseline LM', baselm, p_base, p_base)\n",
        "\n",
        "# Baseline regression for log-price\n",
        "baseloglm = perform_cross_validation(LinearRegression(), X, logy,\n",
        "                                  scoring=scoring_log,\n",
        "                                  cvsplit=cvsplit,\n",
        "                                  benchMSE=benchMSE,\n",
        "                                  benchMAE=benchMAE,\n",
        "                                  p=p_base)\n",
        "model_results = update_model_results(model_results, 'Baseline logLM', baseloglm, p_base, p_base)\n"
      ],
      "metadata": {
        "id": "NmFRUOF8fPBQ"
      },
      "execution_count": null,
      "outputs": []
    },
    {
      "cell_type": "markdown",
      "metadata": {
        "id": "otNhg3Vtd5Bg"
      },
      "source": [
        "Not bad. Both models are a sizeable improvement relative to the simple sample mean or median.\n",
        "\n",
        "Let's look at the `log_price` model refit using the entire dataset in more detail."
      ]
    },
    {
      "cell_type": "code",
      "execution_count": null,
      "metadata": {
        "id": "GVetOXJ5d4Zi"
      },
      "outputs": [],
      "source": [
        "model = sm.OLS(logy, X)\n",
        "result = model.fit(cov_type='HC3')  # cov_type = 'HC3' computes specification robust standard errors\n",
        "print(result.summary())\n",
        "\n",
        "print('\\n')\n",
        "pred_err = result.resid\n",
        "print(\"RMSE of model: \", np.sqrt(np.mean(pred_err**2)))\n",
        "print('\\n')"
      ]
    },
    {
      "cell_type": "markdown",
      "metadata": {
        "id": "TTaNZEQYhdxm"
      },
      "source": [
        "**Questions:**\n",
        "\n",
        "1. How does the reported $R^2$ relate to the CV $R^2$?\n",
        "2. What does the reported RMSE mean?\n",
        "3. How does `sqft_living` relate to the `log_price` prediction? (Ask ChatGPT and see if it gets it right. The last time I tried it was close but not perfect.)\n",
        "\n",
        "A useful way to think about gauging how variables relate to predictions is just to probe the rule by predicting at some values of interest. This can be especially useful for black-box prediction rules.\n",
        "\n",
        "Let's specifically look at 2000 vs 2100 square feet and 4 vs 5 bedrooms"
      ]
    },
    {
      "cell_type": "code",
      "execution_count": null,
      "metadata": {
        "id": "sAfWUw9Mvhlw"
      },
      "outputs": [],
      "source": [
        "newX = pd.DataFrame(columns = X.columns)\n",
        "newX = newX._append(X.iloc[125]) # Observation with a 2.5 bathroom, 4 bedroom, 2000 square foot house\n",
        "newX = pd.DataFrame(np.repeat(newX.values, 4, axis=0))\n",
        "newX.columns = X.columns\n",
        "newX.iloc[1,5] = np.log(2100)\n",
        "newX.iloc[1,6] = np.log(2100)**2\n",
        "newX.iloc[1,22] = 4*np.log(2100)\n",
        "newX.iloc[1,23] = 2.5*np.log(2100)\n",
        "newX.iloc[2,3] = 5\n",
        "newX.iloc[2,4] = 5**2\n",
        "newX.iloc[2,22] = 5*np.log(2000)\n",
        "newX.iloc[3,3] = 5\n",
        "newX.iloc[3,4] = 5**2\n",
        "newX.iloc[3,5] = np.log(2100)\n",
        "newX.iloc[3,6] = np.log(2100)**2\n",
        "newX.iloc[3,22] = 5*np.log(2100)\n",
        "newX.iloc[3,23] = 2.5*np.log(2100)\n",
        "\n",
        "# Predicted log prices for our four hypothetical houses\n",
        "yhat = result.predict(newX)\n",
        "print('Difference in predicted log(price) 2100 vs 2000 sqft (4 beds):', yhat[1]-yhat[0])\n",
        "print('Difference in predicted log(price) 2100 vs 2000 sqft (5 beds):', yhat[3]-yhat[2])\n",
        "print('Difference in predicted log(price) 4 vs 5 beds (2000 sqft):', yhat[2]-yhat[0])\n",
        "print('Difference in predicted log(price) 4 vs 5 beds (2100 sqft):', yhat[3]-yhat[1])\n",
        "print('\\n')\n",
        "print('Difference in predicted price 2100 vs 2000 sqft (4 beds):', np.exp(yhat[1])-np.exp(yhat[0]))\n",
        "print('Difference in predicted price 2100 vs 2000 sqft (5 beds):', np.exp(yhat[3])-np.exp(yhat[2]))\n",
        "print('Difference in predicted price 4 vs 5 beds (2000 sqft):', np.exp(yhat[2])-np.exp(yhat[0]))\n",
        "print('Difference in predicted price 4 vs 5 beds (2100 sqft):', np.exp(yhat[3])-np.exp(yhat[1]))\n",
        "\n"
      ]
    },
    {
      "cell_type": "markdown",
      "metadata": {
        "id": "hXHdRh2sykGy"
      },
      "source": [
        "# Baseline linear models: LAV regression\n",
        "\n",
        "We can run least absolute values regression using `sklearn`'s `QuantileRegressor`. We're still evaluation models based on 5-fold cross-validation using our previously defined splits."
      ]
    },
    {
      "cell_type": "code",
      "source": [
        "model = make_pipeline(StandardScaler(), QuantileRegressor(alpha = 0, solver = 'highs-ds'))\n",
        "# Lots of learners work best with variables on a common scale. StandardScaler()\n",
        "# standardizes the data. The pipeline is going to standardize before running\n",
        "# the quantile regression.\n",
        "\n",
        "# LAV regression for price\n",
        "baseqr = perform_cross_validation(model, X, y.to_numpy().ravel(),\n",
        "                                  scoring=scoring_lev,\n",
        "                                  cvsplit=cvsplit,\n",
        "                                  benchMSE=benchMSE,\n",
        "                                  benchMAE=benchMAE,\n",
        "                                  p=p_base)\n",
        "model_results = update_model_results(model_results, 'Baseline LAV', baseqr, p_base, p_base)\n",
        "\n",
        "# LAV regression for log-price\n",
        "baselogqr = perform_cross_validation(model, X, logy,\n",
        "                                  scoring=scoring_log,\n",
        "                                  cvsplit=cvsplit,\n",
        "                                  benchMSE=benchMSE,\n",
        "                                  benchMAE=benchMAE,\n",
        "                                  p=p_base)\n",
        "model_results = update_model_results(model_results, 'Baseline logLAV', baselogqr, p_base, p_base)\n"
      ],
      "metadata": {
        "id": "8XxT-RTCi17n"
      },
      "execution_count": null,
      "outputs": []
    },
    {
      "cell_type": "markdown",
      "metadata": {
        "id": "TEmA4oEIV0gp"
      },
      "source": [
        "# A More Flexible Model\n",
        "\n",
        "Maybe we haven't captured all the nonlinearity with our quadratic polynomials. Maybe there are interactions between variables besides the couple we thought about (`sqft_living` with `bedrooms` and `bathrooms`).\n",
        "\n",
        "Let's try a more elaborate model."
      ]
    },
    {
      "cell_type": "code",
      "source": [
        "# Specify model as formula\n",
        "flex = (\"price ~ poly(bathrooms, degree=4, raw=True) + poly(bedrooms, degree=4, raw=True)\"\n",
        "             \" + poly(sqft_living, degree=6, raw=True) + poly(sqft_lot, degree=4, raw=True) + poly(floors, degree=4, raw=True)\"\n",
        "             \" + waterfront + C(view) + C(condition)\"\n",
        "             \" + poly(yr_built, degree=4, raw=True) + poly(yr_renovated, degree=4, raw=True) + C(renovated_flag) + C(basement_flag)\"\n",
        "             \" + poly(bathrooms, degree=4, raw=True):(poly(bedrooms, degree=4, raw=True)\"\n",
        "             \" + poly(sqft_living, degree=6, raw=True) + poly(sqft_lot, degree=4, raw=True) + poly(floors, degree=4, raw=True)\"\n",
        "             \" + waterfront + C(view) + C(condition)\"\n",
        "             \" + poly(yr_built, degree=4, raw=True) + poly(yr_renovated, degree=4, raw=True) + C(renovated_flag) + C(basement_flag))\"\n",
        "             \" + poly(bedrooms, degree=4, raw=True):(poly(sqft_living, degree=6, raw=True)\"\n",
        "             \" + poly(sqft_lot, degree=4, raw=True) + poly(floors, degree=4, raw=True)\"\n",
        "             \" + waterfront + C(view) + C(condition)\"\n",
        "             \" + poly(yr_built, degree=4, raw=True) + poly(yr_renovated, degree=4, raw=True) + C(renovated_flag) + C(basement_flag))\"\n",
        "             \" + poly(sqft_living, degree=6, raw=True):(poly(sqft_lot, degree=4, raw=True) + poly(floors, degree=4, raw=True)\"\n",
        "             \" + waterfront + C(view) + C(condition)\"\n",
        "             \" + poly(yr_built, degree=4, raw=True) + poly(yr_renovated, degree=4, raw=True) + C(renovated_flag) + C(basement_flag))\"\n",
        "             \" + poly(sqft_lot, degree=4, raw=True):(poly(floors, degree=4, raw=True)\"\n",
        "             \" + waterfront + C(view) + C(condition)\"\n",
        "             \" + poly(yr_built, degree=4, raw=True) + poly(yr_renovated, degree=4, raw=True) + C(renovated_flag) + C(basement_flag))\"\n",
        "             \" + poly(floors, degree=4, raw=True):(waterfront + C(view) + C(condition)\"\n",
        "             \" + poly(yr_built, degree=4, raw=True) + poly(yr_renovated, degree=4, raw=True) + C(renovated_flag) + C(basement_flag))\"\n",
        "             \" + waterfront:(C(view) + C(condition)\"\n",
        "             \" + poly(yr_built, degree=4, raw=True) + poly(yr_renovated, degree=4, raw=True) + C(renovated_flag) + C(basement_flag))\"\n",
        "             \" + C(view):(C(condition) + poly(yr_built, degree=4, raw=True) + poly(yr_renovated, degree=4, raw=True) + C(renovated_flag) + C(basement_flag))\"\n",
        "             \" + C(condition):(poly(yr_built, degree=4, raw=True) + poly(yr_renovated, degree=4, raw=True) + C(renovated_flag) + C(basement_flag))\"\n",
        "             \" + poly(yr_built, degree=4, raw=True):(poly(yr_renovated, degree=4, raw=True) + C(renovated_flag) + C(basement_flag))\"\n",
        "             \" + poly(yr_renovated, degree=4, raw=True):(C(renovated_flag) + C(basement_flag))\"\n",
        "             \" + C(renovated_flag):C(basement_flag)\")\n",
        "\n",
        "# Create variables based on model defined in formula\n",
        "y, X = model_matrix(flex, data)\n",
        "n, p_flex = X.shape\n",
        "\n",
        "# Outcome variable for log models\n",
        "logy = data['log_price']"
      ],
      "metadata": {
        "id": "DPqQAWkaj3gm"
      },
      "execution_count": null,
      "outputs": []
    },
    {
      "cell_type": "markdown",
      "source": [
        "Let's run our more flexible model and see how it does according to 5-Fold CV."
      ],
      "metadata": {
        "id": "aG-axCnSkYc0"
      }
    },
    {
      "cell_type": "code",
      "source": [
        "model = make_pipeline(StandardScaler(), LinearRegression())\n",
        "# Lots of learners work best with variables on a common scale. StandardScaler()\n",
        "# standardizes the data. This can be very important with high order polynomials.\n",
        "\n",
        "# Regression for price from flexible model\n",
        "flexlm = perform_cross_validation(model, X, y,\n",
        "                                  scoring=scoring_lev,\n",
        "                                  cvsplit=cvsplit,\n",
        "                                  benchMSE=benchMSE,\n",
        "                                  benchMAE=benchMAE,\n",
        "                                  p=p_flex)\n",
        "\n",
        "# Regression for log-price from flexible model\n",
        "flexloglm = perform_cross_validation(model, X, logy,\n",
        "                                  scoring=scoring_log,\n",
        "                                  cvsplit=cvsplit,\n",
        "                                  benchMSE=benchMSE,\n",
        "                                  benchMAE=benchMAE,\n",
        "                                  p=p_flex)\n"
      ],
      "metadata": {
        "id": "1KhNrULakdg6"
      },
      "execution_count": null,
      "outputs": []
    },
    {
      "cell_type": "markdown",
      "metadata": {
        "id": "nGXS7F_PRkWa"
      },
      "source": [
        "**Aside:** I cheated in my definition of the scorer for the log models to prevent numeric issues in silly models (like this one). The actual performance is much worse.\n",
        "\n",
        "We're not going to add these performance metrics to our table because they're awful and make the table unreadable."
      ]
    },
    {
      "cell_type": "markdown",
      "metadata": {
        "id": "sFe4KqD-kHh7"
      },
      "source": [
        "It looks like the flexible model does a really bad job.\n",
        "\n",
        "**Questions:**\n",
        "1. I'm only showing validation sample performance measures. How do we think in-sample validation measures line up?\n",
        "2. Does the very poor validation performance of the \"interactions\" model mean nothing in the model adds predictive power beyond the other models?\n",
        "3. Are we sure we have tried everything we want? There are lots of \"intermediate\" models?\n",
        "4. Should we have even more interactions or allow for higher order nonlinearity? How do we specify all the choices?"
      ]
    },
    {
      "cell_type": "markdown",
      "metadata": {
        "id": "A38qnsL2krcX"
      },
      "source": [
        "## Lasso\n",
        "\n",
        "A popular approach to estimating linear models when there are many potential variables is the *Lasso*.\n",
        "\n",
        "Recall that conventional linear model estimates are obtained by solving\n",
        "\n",
        "$$\\min \\sum_{i} (y_i - b_0 - b_1 X_1 - ... - b_p X_p)^2$$\n",
        "\n",
        "where the sum is over all observations in the training data. That is, we try to find the linear prediction rule for $Y$ that is as close as possible to $Y$ in the training data.\n",
        "\n",
        "Lasso solves a similar problem\n",
        "\n",
        "$$\\min \\sum_{i} (y_i - b_0 - b_1 X_1 - ... - b_p X_p)^2 + \\lambda \\sum_j |b_j|.$$\n",
        "\n",
        "The key thing we have added is a *penalty term* $\\lambda \\sum_j |b_j|$. Intuitively, this penalty says that if you want to move a coefficient $b_j$ away from 0 to improve the in-sample fit, you also have to pay a cost introduced by the penalty term.\n",
        "\n",
        "In practice, the presence of the penalty may lead to variables being excluded from the model. Intuitively, if the benefit of moving a $b_j$ away from 0 is smaller than the cost, the coefficient will be left at 0.\n",
        "\n",
        "When we do Lasso, we have to choose the *tuning parameter* $\\lambda$ which controls the cost of increasing the size of coefficients. We choose $\\lambda$ by trying several values and choosing the best according to cross-validation (or just validation).\n",
        "\n",
        "[Aside: There are MANY other penalized regression procedures. Another popular one is Ridge. There's also grouped Lasso, Elastic Net, ... The basic idea of all of them is to guard against overfitting by penalizing large values of coefficients. Not all of them do variable selection.]\n"
      ]
    },
    {
      "cell_type": "markdown",
      "metadata": {
        "id": "hUdqnJ_xoCK7"
      },
      "source": [
        "Let's look at how Lasso does in our example. We have to start from a model that has the universe of variables that could matter. We'll start from both the polynomial and interactive models and see what happens."
      ]
    },
    {
      "cell_type": "markdown",
      "metadata": {
        "id": "_OZBz1R8o09o"
      },
      "source": [
        "# Lasso with baseline model"
      ]
    },
    {
      "cell_type": "markdown",
      "metadata": {
        "id": "ZORFBIM873sS"
      },
      "source": [
        "We're going to repeat the exercise but now use Lasso. Lasso requires us to choose how much we want it \"to cost\" to increase a parameter's magnitude (i.e. to move it away from zero). We're going to choose this by trying a bunch out and taking the best one. Ideally, we'd do this with another validation dataset."
      ]
    },
    {
      "cell_type": "markdown",
      "source": [
        "For our Lasso models, we are going to repeatedly apply the same steps. Let's write some functions so we don't have to keep typing the same things."
      ],
      "metadata": {
        "id": "QKQO0Ni6nWI8"
      }
    },
    {
      "cell_type": "code",
      "source": [
        "def perform_gridsearchcv(model, parameters, scoring, X, y, cvsplit, refit_metric='mse'):\n",
        "    grid_search = GridSearchCV(model, parameters, scoring=scoring, refit=refit_metric, cv=cvsplit)\n",
        "    grid_search.fit(X, y)\n",
        "    return grid_search\n",
        "\n",
        "def extract_performance_metrics(grid_search, benchMSE, benchMAE, p):\n",
        "\n",
        "    lranks = grid_search.cv_results_.get(f'rank_test_mse')\n",
        "    cvmse = -grid_search.cv_results_.get(f'mean_test_mse')\n",
        "    cvmae = -grid_search.cv_results_.get(f'mean_test_mae')\n",
        "    bestmse = cvmse[lranks == 1].min()\n",
        "    bestmae = cvmae[lranks == 1].min()\n",
        "\n",
        "    best_model = grid_search.best_estimator_\n",
        "\n",
        "    # Access Lasso model from the pipeline\n",
        "    lasso_model = best_model.named_steps['lasso']\n",
        "\n",
        "    # Retrieve coefficients\n",
        "    coefficients = lasso_model.coef_\n",
        "    p_use = sum(coefficients != 0)\n",
        "\n",
        "    # Print out summary of performance\n",
        "    print('CV RMSE: {m1:=.2f}; CV R2: {m2:=.3f}'\n",
        "      .format(m1=np.sqrt(bestmse),\n",
        "              m2=1-(bestmse/benchMSE)))\n",
        "\n",
        "    print('CV MAE: {m1:=.2f}; CV MAE R2: {m2:=.3f}'\n",
        "      .format(m1=bestmae,\n",
        "              m2=1-(bestmae/benchMAE)))\n",
        "\n",
        "    print(\"p: \", p)\n",
        "    print(\"p_use: \", p_use)\n",
        "\n",
        "    return bestmse, bestmae, p_use\n",
        "\n",
        "def add_to_results_table(model_results, model_name, bestmse, bestmae, benchMSE, benchMAE, p, p_use):\n",
        "\n",
        "    model_results = model_results._append({\n",
        "        'Model': model_name,\n",
        "        'RMSE': np.sqrt(bestmse),\n",
        "        'R2 - MSE': 1 - (bestmse / benchMSE),\n",
        "        'MAE': bestmae,\n",
        "        'R2 - MAE': 1 - (bestmae / benchMAE),\n",
        "        'p': p,\n",
        "        'p_use': p_use\n",
        "    }, ignore_index=True)\n",
        "\n",
        "    return model_results\n",
        "\n",
        "def plot_performance(grid_search, title='Performance Metrics'):\n",
        "\n",
        "    lambdas = grid_search.cv_results_.get('param_lasso__alpha').tolist()\n",
        "    cvrmse = np.sqrt(-grid_search.cv_results_.get('mean_test_mse'))\n",
        "    cvmae = -grid_search.cv_results_.get('mean_test_mae')\n",
        "    best_lambda = grid_search.best_params_.get('lasso__alpha')\n",
        "\n",
        "    # Make plot\n",
        "    plt.figure(figsize=(8, 6))\n",
        "    plt.semilogx(lambdas, cvrmse, label='CV RMSE')\n",
        "    plt.semilogx(lambdas, cvmae, label='CV MAE')\n",
        "    plt.axvline(best_lambda, linestyle=\"--\", color=\"black\", label=\"CV estimate\")\n",
        "    plt.xlabel(r\"$\\lambda$\")\n",
        "    plt.ylabel(\"Error Estimate\")\n",
        "    plt.title(title)\n",
        "    plt.legend()\n",
        "    plt.show()\n",
        "\n"
      ],
      "metadata": {
        "id": "DIGudIEVnZd-"
      },
      "execution_count": null,
      "outputs": []
    },
    {
      "cell_type": "markdown",
      "source": [
        "We're going to start from the same baseline model we used above."
      ],
      "metadata": {
        "id": "7My-ujMuoCGS"
      }
    },
    {
      "cell_type": "code",
      "source": [
        "# Create variables from our baseline model (defined in formula base)\n",
        "y, X = model_matrix(base, data)\n",
        "n, p_base = X.shape\n",
        "\n",
        "# Outcome variable for log models\n",
        "logy = data['log_price']"
      ],
      "metadata": {
        "id": "EEHU8F-cn-SP"
      },
      "execution_count": null,
      "outputs": []
    },
    {
      "cell_type": "markdown",
      "source": [
        "We're now going to estimate and evaluate our baseline model for `price` and for `log_price` using the same five fold cross-validation splits."
      ],
      "metadata": {
        "id": "TvBRwIuqoUn5"
      }
    },
    {
      "cell_type": "code",
      "source": [
        "# Sequence of penalty parameters to try\n",
        "ub = np.std(y)*np.sqrt(2*np.log(2*p_base/.05))/np.sqrt(n)\n",
        "lambdas = np.geomspace(start=ub/100, stop=ub, num=25)\n",
        "\n",
        "# Let's do cross-validation to choose a value for lambda\n",
        "model = make_pipeline(StandardScaler(), Lasso())\n",
        "# \"StandardScaler\" is important here. It standardizes the data. Because Lasso\n",
        "# depends on the coefficients of the linear model and the coefficients depend\n",
        "# on the scale of the X's, you can get very different answers depending on how\n",
        "# you choose to scale the variables.\n",
        "\n",
        "# Cross validation. Set up parameter we are trying to optimize.\n",
        "parameters = {'lasso__alpha':lambdas.ravel()}\n",
        "\n",
        "baselas = perform_gridsearchcv(model, parameters, scoring=scoring_lev,\n",
        "                               X=X, y=y, cvsplit=cvsplit, refit_metric='mse')\n",
        "\n",
        "baselasmse, baselasmae, baselasp = extract_performance_metrics(baselas, benchMSE, benchMAE, p_base)\n",
        "\n",
        "model_results = add_to_results_table(model_results, 'Baseline Lasso', baselasmse, baselasmae, benchMSE, benchMAE, p_base, baselasp)\n",
        "\n",
        "plot_performance(baselas, title='Baseline Lasso CV')"
      ],
      "metadata": {
        "id": "KCJdnXRGoZpW"
      },
      "execution_count": null,
      "outputs": []
    },
    {
      "cell_type": "markdown",
      "source": [
        "Let's see which variables the Lasso model uses."
      ],
      "metadata": {
        "id": "8Oy_RAq9s8wR"
      }
    },
    {
      "cell_type": "code",
      "source": [
        "best_model = baselas.best_estimator_\n",
        "\n",
        "# Access Lasso model from the pipeline\n",
        "lasso_model = best_model.named_steps['lasso']\n",
        "\n",
        "# Which variables do we use\n",
        "print(X.columns[lasso_model.coef_ != 0])\n",
        "\n",
        "# Which do we drop\n",
        "print(X.columns[lasso_model.coef_ == 0])\n",
        "\n"
      ],
      "metadata": {
        "id": "GsWUv2SIsvFv"
      },
      "execution_count": null,
      "outputs": []
    },
    {
      "cell_type": "markdown",
      "metadata": {
        "id": "yYElwtbAwIUB"
      },
      "source": [
        "Let's change and look at `log_price` as the dependent variable."
      ]
    },
    {
      "cell_type": "code",
      "source": [
        "# Log price model\n",
        "\n",
        "# Sequence of penalty parameters to try\n",
        "ub = np.std(logy)*np.sqrt(2*np.log(2*p_base/.05))/np.sqrt(n)\n",
        "lambdas = np.geomspace(start=ub/100, stop=ub, num=25)\n",
        "\n",
        "# Cross validation. Set up parameter we are trying to optimize.\n",
        "parameters = {'lasso__alpha':lambdas.ravel()}\n",
        "\n",
        "baseloglas = perform_gridsearchcv(model, parameters, scoring=scoring_log,\n",
        "                               X=X, y=logy, cvsplit=cvsplit, refit_metric='mse')\n",
        "\n",
        "baseloglasmse, baseloglasmae, baseloglasp = extract_performance_metrics(baseloglas,\n",
        "                                                                        benchMSE,\n",
        "                                                                        benchMAE,\n",
        "                                                                        p_base)\n",
        "\n",
        "model_results = add_to_results_table(model_results, 'Baseline logLasso',\n",
        "                                     baseloglasmse, baseloglasmae,\n",
        "                                     benchMSE, benchMAE, p_base, baseloglasp)\n",
        "\n",
        "plot_performance(baseloglas, title='Baseline logLasso CV')\n"
      ],
      "metadata": {
        "id": "7v7hRwR1tQbA"
      },
      "execution_count": null,
      "outputs": []
    },
    {
      "cell_type": "markdown",
      "source": [
        "Let's see which variables this Lasso model for `log_price` with cost parameter chosen by looking at CV `price` prediction uses."
      ],
      "metadata": {
        "id": "dcXNRQx2uFoz"
      }
    },
    {
      "cell_type": "code",
      "source": [
        "best_model = baseloglas.best_estimator_\n",
        "\n",
        "# Access Lasso model from the pipeline\n",
        "lasso_model = best_model.named_steps['lasso']\n",
        "\n",
        "# Variables in the baseline log model estimated via lasso and estimated coefficients\n",
        "baseloglas_coefs = pd.DataFrame(data={'Variable Names': X.columns[lasso_model.coef_ != 0], 'Coefficient': lasso_model.coef_[lasso_model.coef_ != 0]})\n",
        "print(baseloglas_coefs.to_markdown())\n"
      ],
      "metadata": {
        "id": "VhESnZQnuFNs"
      },
      "execution_count": null,
      "outputs": []
    },
    {
      "cell_type": "markdown",
      "metadata": {
        "id": "Ndr5MDAXwT-8"
      },
      "source": [
        "# Lasso with flexible model\n",
        "\n",
        "**(This block takes ~ 5 minutes to run.)**"
      ]
    },
    {
      "cell_type": "markdown",
      "source": [
        "We're just going to repeat now, but use the flexible model in place of the baseline model."
      ],
      "metadata": {
        "id": "1TOS-7YXujgk"
      }
    },
    {
      "cell_type": "code",
      "source": [
        "# Create variables from our flexible model (defined in formula flex)\n",
        "y, X = model_matrix(flex, data)\n",
        "n, p_flex = X.shape\n",
        "\n",
        "# Outcome variable for log models\n",
        "logy = data['log_price']"
      ],
      "metadata": {
        "id": "ODcCF1fcupCg"
      },
      "execution_count": null,
      "outputs": []
    },
    {
      "cell_type": "markdown",
      "source": [
        "We're now going to build the Lasso prediction models."
      ],
      "metadata": {
        "id": "nhHAV23Qu3Jh"
      }
    },
    {
      "cell_type": "code",
      "source": [
        "# Price model\n",
        "\n",
        "# Sequence of penalty parameters to try\n",
        "ub = np.std(y)*np.sqrt(2*np.log(2*p_flex/.05))/np.sqrt(n)\n",
        "lambdas = np.geomspace(start=ub/10, stop=ub, num=15)\n",
        "\n",
        "# Let's do cross-validation in the training data to choose a value for lambda\n",
        "model = make_pipeline(StandardScaler(), Lasso())\n",
        "# \"StandardScaler\" is important here. It standardizes the data. Because Lasso\n",
        "# depends on the coefficients of the linear model and the coefficients depend\n",
        "# on the scale of the X's, you can get very different answers depending on how\n",
        "# you choose to scale the variables.\n",
        "\n",
        "# Cross validation. Set up parameter we are trying to optimize.\n",
        "parameters = {'lasso__alpha':lambdas.ravel()}\n",
        "\n",
        "flexlas = perform_gridsearchcv(model, parameters, scoring=scoring_lev,\n",
        "                               X=X, y=y, cvsplit=cvsplit, refit_metric='mse')\n",
        "\n",
        "flexlasmse, flexlasmae, flexlasp = extract_performance_metrics(flexlas, benchMSE, benchMAE, p_flex)\n",
        "\n",
        "model_results = add_to_results_table(model_results, 'Flexible Lasso', flexlasmse,\n",
        "                                     flexlasmae, benchMSE, benchMAE, p_flex, flexlasp)\n",
        "\n",
        "plot_performance(flexlas, title='Flexible Lasso CV')\n"
      ],
      "metadata": {
        "id": "yhJb_mlQu2ud"
      },
      "execution_count": null,
      "outputs": []
    },
    {
      "cell_type": "code",
      "source": [
        "# Log-price model\n",
        "\n",
        "# Sequence of penalty parameters to try\n",
        "ub = np.std(logy)*np.sqrt(2*np.log(2*p_flex/.05))/np.sqrt(n)\n",
        "lambdas = np.geomspace(start=ub/10, stop=ub, num=15)\n",
        "\n",
        "# Cross validation. Set up parameter we are trying to optimize.\n",
        "parameters = {'lasso__alpha':lambdas.ravel()}\n",
        "\n",
        "flexloglas = perform_gridsearchcv(model, parameters, scoring=scoring_log,\n",
        "                               X=X, y=logy, cvsplit=cvsplit, refit_metric='mse')\n",
        "\n",
        "flexloglasmse, flexloglasmae, flexloglasp = extract_performance_metrics(flexloglas, benchMSE, benchMAE, p_flex)\n",
        "\n",
        "model_results = add_to_results_table(model_results, 'Flexible logLasso', flexloglasmse,\n",
        "                                     flexloglasmae, benchMSE, benchMAE, p_flex, flexloglasp)\n",
        "\n",
        "plot_performance(flexlas, title='Flexible logLasso CV')"
      ],
      "metadata": {
        "id": "CU7p1fnsznrw"
      },
      "execution_count": null,
      "outputs": []
    },
    {
      "cell_type": "markdown",
      "source": [
        "Let's look at the estimated model for `log_price`."
      ],
      "metadata": {
        "id": "QwKh-FsDygED"
      }
    },
    {
      "cell_type": "code",
      "execution_count": null,
      "metadata": {
        "id": "Y5lJx_iBc6Li"
      },
      "outputs": [],
      "source": [
        "best_model = flexloglas.best_estimator_\n",
        "\n",
        "# Access Lasso model from the pipeline\n",
        "lasso_model = best_model.named_steps['lasso']\n",
        "\n",
        "# Variables in the flexible log model estimated via lasso and estimated coefficients\n",
        "flexloglas_coefs = pd.DataFrame(data={'Variable Names': X.columns[lasso_model.coef_ != 0], 'Coefficient': lasso_model.coef_[lasso_model.coef_ != 0]})\n",
        "print(flexloglas_coefs.to_markdown())"
      ]
    },
    {
      "cell_type": "markdown",
      "metadata": {
        "id": "incLsjWDdgXK"
      },
      "source": [
        "**Questions:**\n",
        "\n",
        "1. We have a list of variables and coefficients. Is the model particularly interpretable?\n",
        "2. Should we conclude we have the \"correct\" variables?\n",
        "3. What if there are things we didn't try? How far should we go? Maybe we should have looked at higher order interactions (i.e. multiplying more than two variables together), other transformations, ...\n",
        "\n",
        "**Miscellaneous comments:**\n",
        "\n",
        "When we moved to Lasso, we could have included `sqft_above` and `sqft_basement` in the model along with `sqft_living` and let the data decide which are more useful. (For example, maybe basement square feet are not as valuable as above ground square feet, which can't be picked up when only `sqft_living` is included.)\n",
        "\n",
        "We haven't considered `statezip` or `city` yet.\n",
        "\n",
        "Penalized quantile regression (e.g. \"lasso for LAV\") exists and is available in `sklearn`'s `QuantileRegressor`.\n",
        "\n",
        "\n",
        "\n",
        "\n",
        "\n"
      ]
    },
    {
      "cell_type": "markdown",
      "metadata": {
        "id": "PhYex1DXhVK3"
      },
      "source": [
        "**Final Comment on Linear Models**\n",
        "\n",
        "Linear (and related) models are useful, but they do not do *feature learning*. I.e. they rely on the analyst to specify all the relevant features **and their transformations** before building the predictive model. In settings where there is strong intuition for what is important and how it relates to the target, this is not a huge problem. In setting with limited data, simple models (e.g. ignore transformations of continuous regressors and just include them as is) tend to work well.\n",
        "\n",
        "Rather than require pre-specification of all input features, most ML methods leverage the power of machines and clever algorithms to simultaneously **learn feature representations** and build the model for making predictions.\n",
        "\n",
        "The ability of ML algorithms to learn feature representations without needing prespecification is practically very important in complex environments or settings with large amounts of data. Even in our relatively simple house price example, we can already see that relying on prespecifying everything can be daunting.\n",
        "\n",
        "Often (though not always) these models outperform methods that do not do feature learning in terms of predictive performance. Even if they do not \"beat\" more traditional methods, they almost always come with the benefit of alleviating the analyst's burden of choice."
      ]
    },
    {
      "cell_type": "markdown",
      "metadata": {
        "id": "cerbcZ_XzuU6"
      },
      "source": [
        "# Regression Trees\n",
        "\n",
        "Rather than try to build all the relevant features ourselves. Let's fit a regression *tree* instead.\n",
        "\n",
        "The basic idea of a regression tree is to chop the data into rectangles based on the raw input variables and then fit a simple model - we'll just use the sample mean.\n",
        "\n",
        "The way we'll chop things into rectangles is by making binary splits of the data. By making chops of the data based on binary decisions, we simultaneously uncover nonlinearity (including interactions) and which variables are most informative in making our predictions. We do not have to prespecify the types of nonlinearity we think might matter, we just learn it from the data.\n",
        "\n",
        "Rather than try to talk about it, it's probably easier to just see how it works in our little example.\n",
        "\n"
      ]
    },
    {
      "cell_type": "markdown",
      "metadata": {
        "id": "_g6_LEPXjnIm"
      },
      "source": [
        "Let's start by pulling together a dataset that we will use for our trees. We'll focus on the same variables we used in our linear models. Note that we'll leave `sqft_above` and `sqft_basement` in as the tree can choose which representation of square footage it wants to use to best predict the outcome."
      ]
    },
    {
      "cell_type": "code",
      "execution_count": null,
      "metadata": {
        "id": "OQo8jId7IMWn"
      },
      "outputs": [],
      "source": [
        "data_tree = data.drop(columns=['city','statezip','renovated_flag','basement_flag'])\n",
        "\n",
        "# Let's make our outcome variables and predictors\n",
        "X = data_tree.drop(columns=['price','log_price'])\n",
        "y = data_tree['price']\n",
        "logy = data_tree['log_price']"
      ]
    },
    {
      "cell_type": "markdown",
      "metadata": {
        "id": "QDg3HYapJJty"
      },
      "source": [
        "Because we're just illustrating, we'll start by making a tree with just one split using the full data set."
      ]
    },
    {
      "cell_type": "code",
      "execution_count": null,
      "metadata": {
        "id": "FdtEVC6nNa9b"
      },
      "outputs": [],
      "source": [
        "# Let's fit a tree to price with 1 split = 2 leaves\n",
        "tree1 = DecisionTreeRegressor(max_leaf_nodes = 2)\n",
        "tree1.fit(X, y)\n",
        "plot_tree(tree1, feature_names=X.columns)\n",
        "plt.show()"
      ]
    },
    {
      "cell_type": "markdown",
      "metadata": {
        "id": "eypRN6H0kVzr"
      },
      "source": [
        "The first split in our tree is at `sqft_living` = $exp$(7.978) = 2916. We predict houses less than or equal to 2916 square feet to have price \\$457,977 and houses with more than 2916 square feet to have price \\$993,690. (The predictions are just the sample mean price of houses smaller than 2916 square feet and sample mean of price of houses larger than 2916 square feet.)\n",
        "\n",
        "This split was determined by looking at every possible split of every possible variable and asking which split provides the best prediction rule for `price` in the terms of having the minimum MSE.\n",
        "\n",
        "What happens when we want to have a prediction rule with 3 terminal nodes?"
      ]
    },
    {
      "cell_type": "code",
      "execution_count": null,
      "metadata": {
        "id": "YPO7O58jN5bu"
      },
      "outputs": [],
      "source": [
        "# Let's fit a tree with 2 splits = 3 leaves\n",
        "tree2 = DecisionTreeRegressor(max_leaf_nodes = 3)\n",
        "tree2.fit(X, y)\n",
        "plot_tree(tree2, feature_names=X.columns)\n",
        "plt.show()"
      ]
    },
    {
      "cell_type": "markdown",
      "metadata": {
        "id": "Pyq2kiYTldFF"
      },
      "source": [
        "We see that we have introduced another split along `sqft_living`. That we would split again on this variable was not predetermined. We tried every possible split along every possible variable of the subsample of houses with `sqft_living` $\\leq$ 2916 and every possible split along every possible variable of the subsample of houses with `sqft_living` $>$ 2916. Of all these possible choices, the best split, in the sense of reducing MSE of predicting `price`, was to split again at `sqft_living` = $\\exp$(8.723) = 6140.\n",
        "\n",
        "Our prediction rule now has three points, houses $\\leq$ 2915 square feet are predicted to have price \\$457,977. Houses with 2915 $<$ `sqft_living` $\\leq$ 6140 are predicted to have price \\$954,056. Houses greater than 6143 square feet are predicted to have price \\$2,873,812.\n",
        "\n",
        "We can, of course, keep going.\n"
      ]
    },
    {
      "cell_type": "code",
      "execution_count": null,
      "metadata": {
        "id": "bVCJ4mGNRb9u"
      },
      "outputs": [],
      "source": [
        "# Make the figure bigger than default so it's easier to read\n",
        "width = 10\n",
        "height = 7\n",
        "plt.figure(figsize=(width, height))\n",
        "\n",
        "# Let's fit a tree with 3 splits = 4 leaves\n",
        "tree3 = DecisionTreeRegressor(max_leaf_nodes = 4)\n",
        "tree3.fit(X, y)\n",
        "plot_tree(tree3, feature_names=X.columns)\n",
        "plt.show()"
      ]
    },
    {
      "cell_type": "markdown",
      "metadata": {
        "id": "9M6TV925WNhU"
      },
      "source": [
        "Let's make one more plot to show how the regression tree is uncovering nonlinearity without having to prespecify transformations of the features."
      ]
    },
    {
      "cell_type": "code",
      "execution_count": null,
      "metadata": {
        "id": "GHAwD6EHWX6x"
      },
      "outputs": [],
      "source": [
        "# Predict\n",
        "yfit = tree3.predict(X)\n",
        "xplot = np.sort(X['sqft_living'])\n",
        "yplot = np.sort(yfit)\n",
        "\n",
        "# Plot\n",
        "plt.figure()\n",
        "plt.plot(xplot, yplot, linewidth=2)\n",
        "plt.xlabel(\"Square Footage\")\n",
        "plt.ylabel(\"Price\")\n",
        "plt.title(\"Decision Tree Regression with Four Leaves\")\n",
        "plt.show()"
      ]
    },
    {
      "cell_type": "markdown",
      "metadata": {
        "id": "nk14AtqznT7Z"
      },
      "source": [
        "Basic tree models correspond to *step functions*. Step functions are simple, though not necessarily the best for lots of outcomes where we think *continuity* makes sense. We'll worry about this later."
      ]
    },
    {
      "cell_type": "markdown",
      "metadata": {
        "id": "6UoECI_TnmDN"
      },
      "source": [
        "Let's look at one more larger tree to see how we also pick up interactions."
      ]
    },
    {
      "cell_type": "code",
      "execution_count": null,
      "metadata": {
        "id": "QmvCuQHomqQY"
      },
      "outputs": [],
      "source": [
        "# Make the figure bigger than default so it's easier to read\n",
        "width = 14\n",
        "height = 10\n",
        "plt.figure(figsize=(width, height))\n",
        "\n",
        "# Let's fit a tree with 8 leaves\n",
        "tree8 = DecisionTreeRegressor(max_leaf_nodes = 8)\n",
        "tree8.fit(X, y)\n",
        "plot_tree(tree8, feature_names=X.columns)\n",
        "plt.show()"
      ]
    },
    {
      "cell_type": "markdown",
      "metadata": {
        "id": "ZUzv16fB1H8T"
      },
      "source": [
        "We can (and will) continue, though we'll stop showing the picture every time. The basic idea of trees is very simple. We keep make binary splits of the data where each split improves the fit to the training data. We can fit the training data very well with enough splits - though that's unlikely to generalize well.\n",
        "\n",
        "We choose which tree we want to use by (cross-) validation. There are lots of ways we could specify and train trees. Rather than look at number of leaves, we could look at depth. We might want to specify a minimum leaf size to avoid leaves with very few observations.\n",
        "\n",
        "We're just going to look at cross-validating over number of leaves and not worry about other details."
      ]
    },
    {
      "cell_type": "markdown",
      "source": [
        "We'll again define some functions for repetitive tasks."
      ],
      "metadata": {
        "id": "rWguWQhu0v9f"
      }
    },
    {
      "cell_type": "code",
      "source": [
        "def extract_tree_metrics(grid_search, benchMSE, benchMAE):\n",
        "\n",
        "    lranks = grid_search.cv_results_.get(f'rank_test_mse')\n",
        "    cvmse = -grid_search.cv_results_.get(f'mean_test_mse')\n",
        "    cvmae = -grid_search.cv_results_.get(f'mean_test_mae')\n",
        "    bestmse = cvmse[lranks == 1].min()\n",
        "    bestmae = cvmae[lranks == 1].min()\n",
        "\n",
        "    p_use = grid_search.best_params_.get('max_leaf_nodes')\n",
        "\n",
        "    # Print out summary of performance\n",
        "    print('CV RMSE: {m1:=.2f}; CV R2: {m2:=.3f}'\n",
        "      .format(m1=np.sqrt(bestmse),\n",
        "              m2=1-(bestmse/benchMSE)))\n",
        "\n",
        "    print('CV MAE: {m1:=.2f}; CV MAE R2: {m2:=.3f}'\n",
        "      .format(m1=bestmae,\n",
        "              m2=1-(bestmae/benchMAE)))\n",
        "\n",
        "    print(\"p_use: \", p_use)\n",
        "\n",
        "    return bestmse, bestmae, p_use\n",
        "\n",
        "def plot_tree_performance(grid_search):\n",
        "\n",
        "    leaves = grid_search.cv_results_.get('param_max_leaf_nodes')\n",
        "    leaves = leaves.tolist()\n",
        "\n",
        "    lranks = grid_search.cv_results_.get('rank_test_mse')\n",
        "    cvmse = -grid_search.cv_results_.get('mean_test_mse')\n",
        "    cvmae = -grid_search.cv_results_.get('mean_test_mae')\n",
        "\n",
        "    plt.plot(leaves, np.sqrt(cvmse), label = 'RMSE')\n",
        "    plt.plot(leaves, cvmae, label = 'MAE')\n",
        "    plt.axvline(grid_search.best_params_.get('max_leaf_nodes'),\n",
        "                linestyle=\"--\", color=\"black\", label=\"CV estimate\")\n",
        "    plt.xlabel(\"Number of leaves\")\n",
        "    plt.ylabel(\"Cross-validation RMSE\")\n",
        "    plt.legend()\n",
        "    plt.show()\n",
        "\n"
      ],
      "metadata": {
        "id": "fqSsDPL30y9H"
      },
      "execution_count": null,
      "outputs": []
    },
    {
      "cell_type": "code",
      "source": [
        "# Parameter we want to choose based on cross-validation performance - number of leaves\n",
        "parameters = {'max_leaf_nodes':range(2,101)}\n",
        "\n",
        "# Define model and do cross-validation\n",
        "tree = DecisionTreeRegressor()\n",
        "base_tree = perform_gridsearchcv(tree, parameters, scoring=scoring_lev,\n",
        "                                 X=X, y=y, cvsplit=cvsplit, refit_metric='mse')\n",
        "\n",
        "bestmse_base_tree, bestmae_base_tree, base_tree_p = extract_tree_metrics(base_tree, benchMSE, benchMAE)\n",
        "\n",
        "plot_tree_performance(base_tree)\n",
        "\n",
        "model_results = add_to_results_table(model_results, 'Decision Tree',\n",
        "                                     bestmse_base_tree, bestmae_base_tree,\n",
        "                                     benchMSE, benchMAE, '-', base_tree_p)\n",
        "\n"
      ],
      "metadata": {
        "id": "qQtJUoFvzzhr"
      },
      "execution_count": null,
      "outputs": []
    },
    {
      "cell_type": "markdown",
      "metadata": {
        "id": "7gTxMxq4ReWC"
      },
      "source": [
        "What does our estimated tree look like?"
      ]
    },
    {
      "cell_type": "code",
      "execution_count": null,
      "metadata": {
        "id": "zYdHsv-HRblX"
      },
      "outputs": [],
      "source": [
        "width = 15\n",
        "height = 15\n",
        "plt.figure(figsize=(width, height))\n",
        "\n",
        "# Let's plot the cv minimizing tree\n",
        "plot_tree(base_tree.best_estimator_, feature_names=X.columns)\n",
        "plt.show()"
      ]
    },
    {
      "cell_type": "markdown",
      "metadata": {
        "id": "bhlw8ChyyxlP"
      },
      "source": [
        "**We'd need a pretty big screen to see what's going on here.**"
      ]
    },
    {
      "cell_type": "markdown",
      "metadata": {
        "id": "HYn0rol8rq2L"
      },
      "source": [
        "Looks like lots of results with similar performance and highly variable across number of leaves. Default behavior in the software allows for very small leaves. For example, we can see from the estimated tree that we have leaves with just one observation. We might want to add more stability be ruling out small leaves."
      ]
    },
    {
      "cell_type": "code",
      "source": [
        "# Let's make it so each leaf must have 10 or more observations.\n",
        "# Everything else will be the same as for the baseline tree\n",
        "tree = DecisionTreeRegressor(min_samples_leaf=10)\n",
        "\n",
        "tree10 = perform_gridsearchcv(tree, parameters, scoring=scoring_lev,\n",
        "                              X=X, y=y, cvsplit=cvsplit, refit_metric='mse')\n",
        "\n",
        "bestmse_tree10, bestmae_tree10, tree10_p = extract_tree_metrics(tree10, benchMSE, benchMAE)\n",
        "\n",
        "plot_tree_performance(tree10)\n",
        "\n",
        "model_results = add_to_results_table(model_results, 'Decision Tree 10',\n",
        "                                     bestmse_tree10, bestmae_tree10,\n",
        "                                     benchMSE, benchMAE, '-', tree10_p)\n"
      ],
      "metadata": {
        "id": "ZrLcd6gM3Kp5"
      },
      "execution_count": null,
      "outputs": []
    },
    {
      "cell_type": "markdown",
      "metadata": {
        "id": "KBnP6KDUlJQh"
      },
      "source": [
        "As we did before, we can also use `log_price` as dependent variable."
      ]
    },
    {
      "cell_type": "code",
      "source": [
        "# All we need to do is change the dependent variable. We'll also set things\n",
        "# back to the default with no restriction on leaf size.\n",
        "# We also need to change our scoring rule to look at predicting price, not\n",
        "# log_price\n",
        "\n",
        "# Define model and do cross-validation\n",
        "tree = DecisionTreeRegressor()\n",
        "log_tree = perform_gridsearchcv(tree, parameters, scoring=scoring_log,\n",
        "                                 X=X, y=logy, cvsplit=cvsplit, refit_metric='mse')\n",
        "\n",
        "bestmse_log_tree, bestmae_log_tree, log_tree_p = extract_tree_metrics(log_tree, benchMSE, benchMAE)\n",
        "\n",
        "plot_tree_performance(log_tree)\n",
        "\n",
        "model_results = add_to_results_table(model_results, 'Decision Tree - log',\n",
        "                                     bestmse_log_tree, bestmae_log_tree,\n",
        "                                     benchMSE, benchMAE, '-', log_tree_p)\n"
      ],
      "metadata": {
        "id": "XmYc_kY33fEH"
      },
      "execution_count": null,
      "outputs": []
    },
    {
      "cell_type": "markdown",
      "source": [
        "Let's do the same thing as before and restrict to have at least 10 observations per leaf."
      ],
      "metadata": {
        "id": "7vnoIT6v4POd"
      }
    },
    {
      "cell_type": "code",
      "source": [
        "tree = DecisionTreeRegressor(min_samples_leaf=10)\n",
        "\n",
        "log_tree10 = perform_gridsearchcv(tree, parameters, scoring=scoring_log,\n",
        "                              X=X, y=logy, cvsplit=cvsplit, refit_metric='mse')\n",
        "\n",
        "bestmse_log_tree10, bestmae_log_tree10, log_tree10_p = extract_tree_metrics(log_tree10, benchMSE, benchMAE)\n",
        "\n",
        "plot_tree_performance(log_tree10)\n",
        "\n",
        "model_results = add_to_results_table(model_results, 'Decision Tree 10 - log',\n",
        "                                     bestmse_log_tree10, bestmae_log_tree10,\n",
        "                                     benchMSE, benchMAE, '-', log_tree10_p)\n"
      ],
      "metadata": {
        "id": "_BsXAxCO4aPr"
      },
      "execution_count": null,
      "outputs": []
    },
    {
      "cell_type": "markdown",
      "source": [
        "Let's look at the complete collection of our results."
      ],
      "metadata": {
        "id": "ugyC0ce14xCn"
      }
    },
    {
      "cell_type": "code",
      "source": [
        "model_results.sort_values(by=['RMSE'])"
      ],
      "metadata": {
        "id": "17cH0R1Z40Xb"
      },
      "execution_count": null,
      "outputs": []
    },
    {
      "cell_type": "markdown",
      "metadata": {
        "id": "33CotEjssn8v"
      },
      "source": [
        "The tree models work a bit worse than the linear models here.\n",
        "\n",
        "So, why do people like tree models?\n",
        "\n",
        "1. They are simple and fast. They don't require much thought. Scale and monotone transformations of the features don't matter.\n",
        "2. They underlie more complex procedures that we'll talk about next.\n",
        "3. They don't require pre-specifying all the things we think might matter.\n",
        "\n",
        "Finally, remember you should try out linear models as one of your prediction rules in many cases - certainly with small numbers of observations and standard numeric data. (Relatively simple) Linear models will often work well in that setting."
      ]
    },
    {
      "cell_type": "markdown",
      "metadata": {
        "id": "xce_kLuIx9pb"
      },
      "source": [
        "# Last thing - What about our categorical variables?\n",
        "\n"
      ]
    },
    {
      "cell_type": "markdown",
      "metadata": {
        "id": "wYjVXsio6IVR"
      },
      "source": [
        "Unordered categorical variables with many categories relative to the number of observations (so there are not many observations within each category) are a challenge to many supervised learners and one of the spots where linear models do pretty well.\n",
        "\n",
        "Let's try a couple of our models out with the categorical variables `city` and `statezip`."
      ]
    },
    {
      "cell_type": "markdown",
      "source": [
        "We will include each of `statezip` and `city` on its own. We'll also see what happens if we include all unique combinations of the two (equivalent to interacting `statezip` with `city`)."
      ],
      "metadata": {
        "id": "cuYi6uy1PmgI"
      }
    },
    {
      "cell_type": "code",
      "source": [
        "data['both'] = data['statezip'] + '_' + data['city']\n",
        "data['both'].value_counts()"
      ],
      "metadata": {
        "id": "j0B30VBuMZvD"
      },
      "execution_count": null,
      "outputs": []
    },
    {
      "cell_type": "markdown",
      "source": [
        "First, let's just define our models."
      ],
      "metadata": {
        "id": "bJ42ab1c59Y6"
      }
    },
    {
      "cell_type": "code",
      "source": [
        "basecity = (\"price ~ poly(bathrooms, degree=2, raw=True) + poly(bedrooms, degree=2, raw=True)\"\n",
        "             \" + poly(sqft_living, degree=2, raw=True) + poly(sqft_lot, degree=2, raw=True) + poly(floors, degree=2, raw=True) \"\n",
        "            \"+ waterfront + poly(view, degree=2, raw=True) + poly(condition, degree=2, raw=True) + \"\n",
        "            \"poly(yr_built, degree=2, raw=True) + poly(yr_renovated, degree=2, raw=True) + C(renovated_flag) + C(basement_flag)\"\n",
        "            \" + sqft_living:(bedrooms+bathrooms) + C(city)\")\n",
        "\n",
        "basezip = (\"price ~ poly(bathrooms, degree=2, raw=True) + poly(bedrooms, degree=2, raw=True)\"\n",
        "             \" + poly(sqft_living, degree=2, raw=True) + poly(sqft_lot, degree=2, raw=True) + poly(floors, degree=2, raw=True) \"\n",
        "            \"+ waterfront + poly(view, degree=2, raw=True) + poly(condition, degree=2, raw=True) + \"\n",
        "            \"poly(yr_built, degree=2, raw=True) + poly(yr_renovated, degree=2, raw=True) + C(renovated_flag) + C(basement_flag)\"\n",
        "            \" + sqft_living:(bedrooms+bathrooms) + C(statezip)\")\n",
        "\n",
        "baseboth = (\"price ~ poly(bathrooms, degree=2, raw=True) + poly(bedrooms, degree=2, raw=True)\"\n",
        "             \" + poly(sqft_living, degree=2, raw=True) + poly(sqft_lot, degree=2, raw=True) + poly(floors, degree=2, raw=True) \"\n",
        "            \"+ waterfront + poly(view, degree=2, raw=True) + poly(condition, degree=2, raw=True) + \"\n",
        "            \"poly(yr_built, degree=2, raw=True) + poly(yr_renovated, degree=2, raw=True) + C(renovated_flag) + C(basement_flag)\"\n",
        "            \" + sqft_living:(bedrooms+bathrooms) + C(both)\")\n",
        "\n",
        "# Big model to try with Lasso\n",
        "flex2 = (\"price ~ poly(bathrooms, degree=4, raw=True) + poly(bedrooms, degree=4, raw=True)\"\n",
        "             \" + poly(sqft_living, degree=6, raw=True) + poly(sqft_lot, degree=4, raw=True) + poly(floors, degree=4, raw=True)\"\n",
        "             \" + waterfront + C(view) + C(condition)\"\n",
        "             \" + poly(yr_built, degree=4, raw=True) + poly(yr_renovated, degree=4, raw=True) + C(renovated_flag) + C(basement_flag)\"\n",
        "             \" + poly(bathrooms, degree=4, raw=True):(poly(bedrooms, degree=4, raw=True)\"\n",
        "             \" + poly(sqft_living, degree=6, raw=True) + poly(sqft_lot, degree=4, raw=True) + poly(floors, degree=4, raw=True)\"\n",
        "             \" + waterfront + C(view) + C(condition)\"\n",
        "             \" + poly(yr_built, degree=4, raw=True) + poly(yr_renovated, degree=4, raw=True) + C(renovated_flag) + C(basement_flag))\"\n",
        "             \" + poly(bedrooms, degree=4, raw=True):(poly(sqft_living, degree=6, raw=True)\"\n",
        "             \" + poly(sqft_lot, degree=4, raw=True) + poly(floors, degree=4, raw=True)\"\n",
        "             \" + waterfront + C(view) + C(condition)\"\n",
        "             \" + poly(yr_built, degree=4, raw=True) + poly(yr_renovated, degree=4, raw=True) + C(renovated_flag) + C(basement_flag))\"\n",
        "             \" + poly(sqft_living, degree=6, raw=True):(poly(sqft_lot, degree=4, raw=True) + poly(floors, degree=4, raw=True)\"\n",
        "             \" + waterfront + C(view) + C(condition)\"\n",
        "             \" + poly(yr_built, degree=4, raw=True) + poly(yr_renovated, degree=4, raw=True) + C(renovated_flag) + C(basement_flag))\"\n",
        "             \" + poly(sqft_lot, degree=4, raw=True):(poly(floors, degree=4, raw=True)\"\n",
        "             \" + waterfront + C(view) + C(condition)\"\n",
        "             \" + poly(yr_built, degree=4, raw=True) + poly(yr_renovated, degree=4, raw=True) + C(renovated_flag) + C(basement_flag))\"\n",
        "             \" + poly(floors, degree=4, raw=True):(waterfront + C(view) + C(condition)\"\n",
        "             \" + poly(yr_built, degree=4, raw=True) + poly(yr_renovated, degree=4, raw=True) + C(renovated_flag) + C(basement_flag))\"\n",
        "             \" + waterfront:(C(view) + C(condition)\"\n",
        "             \" + poly(yr_built, degree=4, raw=True) + poly(yr_renovated, degree=4, raw=True) + C(renovated_flag) + C(basement_flag))\"\n",
        "             \" + C(view):(C(condition) + poly(yr_built, degree=4, raw=True) + poly(yr_renovated, degree=4, raw=True) + C(renovated_flag) + C(basement_flag))\"\n",
        "             \" + C(condition):(poly(yr_built, degree=4, raw=True) + poly(yr_renovated, degree=4, raw=True) + C(renovated_flag) + C(basement_flag))\"\n",
        "             \" + poly(yr_built, degree=4, raw=True):(poly(yr_renovated, degree=4, raw=True) + C(renovated_flag) + C(basement_flag))\"\n",
        "             \" + poly(yr_renovated, degree=4, raw=True):(C(renovated_flag) + C(basement_flag))\"\n",
        "             \" + C(renovated_flag):C(basement_flag) + C(both)\")"
      ],
      "metadata": {
        "id": "vzCjTTLi6AYe"
      },
      "execution_count": null,
      "outputs": []
    },
    {
      "cell_type": "markdown",
      "metadata": {
        "id": "o-Ci21Bp9jA5"
      },
      "source": [
        "# Baseline model including `city`"
      ]
    },
    {
      "cell_type": "code",
      "source": [
        "# Create variables based on model defined in formula\n",
        "y, X = model_matrix(basecity, data)\n",
        "n, p_city = X.shape\n",
        "\n",
        "logy = data['log_price']\n",
        "\n",
        "# price\n",
        "citylm = perform_cross_validation(LinearRegression(), X, y,\n",
        "                                  scoring=scoring_lev,\n",
        "                                  cvsplit=cvsplit,\n",
        "                                  benchMSE=benchMSE,\n",
        "                                  benchMAE=benchMAE,\n",
        "                                  p=p_city)\n",
        "model_results = update_model_results(model_results, 'City LM', citylm, p_city, p_city)\n",
        "\n",
        "# log-price\n",
        "cityloglm = perform_cross_validation(LinearRegression(), X, logy,\n",
        "                                  scoring=scoring_log,\n",
        "                                  cvsplit=cvsplit,\n",
        "                                  benchMSE=benchMSE,\n",
        "                                  benchMAE=benchMAE,\n",
        "                                  p=p_city)\n",
        "model_results = update_model_results(model_results, 'City logLM', cityloglm, p_city, p_city)"
      ],
      "metadata": {
        "id": "okX3wewi6ZSI"
      },
      "execution_count": null,
      "outputs": []
    },
    {
      "cell_type": "markdown",
      "source": [
        "# Baseline model including `statezip`"
      ],
      "metadata": {
        "id": "PFYdOCYc7GhF"
      }
    },
    {
      "cell_type": "code",
      "source": [
        "# Create variables based on model defined in formula\n",
        "y, X = model_matrix(basezip, data)\n",
        "n, p_zip = X.shape\n",
        "\n",
        "logy = data['log_price']\n",
        "\n",
        "# price\n",
        "ziplm = perform_cross_validation(LinearRegression(), X, y,\n",
        "                                  scoring=scoring_lev,\n",
        "                                  cvsplit=cvsplit,\n",
        "                                  benchMSE=benchMSE,\n",
        "                                  benchMAE=benchMAE,\n",
        "                                  p=p_zip)\n",
        "model_results = update_model_results(model_results, 'Zip LM', ziplm, p_zip, p_zip)\n",
        "\n",
        "# log-price\n",
        "ziploglm = perform_cross_validation(LinearRegression(), X, logy,\n",
        "                                  scoring=scoring_log,\n",
        "                                  cvsplit=cvsplit,\n",
        "                                  benchMSE=benchMSE,\n",
        "                                  benchMAE=benchMAE,\n",
        "                                  p=p_zip)\n",
        "model_results = update_model_results(model_results, 'Zip logLM', ziploglm, p_zip, p_zip)"
      ],
      "metadata": {
        "id": "8jLKBNXh7L6X"
      },
      "execution_count": null,
      "outputs": []
    },
    {
      "cell_type": "markdown",
      "metadata": {
        "id": "G5CenqD-9qhz"
      },
      "source": [
        "# Baseline model including full interaction of `city` and `statezip`"
      ]
    },
    {
      "cell_type": "code",
      "source": [
        "# Create variables based on model defined in formula\n",
        "y, X = model_matrix(baseboth, data)\n",
        "n, p_both = X.shape\n",
        "\n",
        "logy = data['log_price']\n",
        "\n",
        "# price\n",
        "bothlm = perform_cross_validation(LinearRegression(), X, y,\n",
        "                                  scoring=scoring_lev,\n",
        "                                  cvsplit=cvsplit,\n",
        "                                  benchMSE=benchMSE,\n",
        "                                  benchMAE=benchMAE,\n",
        "                                  p=p_both)\n",
        "model_results = update_model_results(model_results, 'Both LM', bothlm, p_both, p_both)\n",
        "\n",
        "# log-price\n",
        "bothloglm = perform_cross_validation(LinearRegression(), X, logy,\n",
        "                                  scoring=scoring_log,\n",
        "                                  cvsplit=cvsplit,\n",
        "                                  benchMSE=benchMSE,\n",
        "                                  benchMAE=benchMAE,\n",
        "                                  p=p_both)\n",
        "model_results = update_model_results(model_results, 'Both logLM', bothloglm, p_both, p_both)"
      ],
      "metadata": {
        "id": "KX7NAlhB7fvH"
      },
      "execution_count": null,
      "outputs": []
    },
    {
      "cell_type": "markdown",
      "metadata": {
        "id": "dpKKKwZlUPCf"
      },
      "source": [
        "The categorical variables, particulary `statezip`, seems to be adding a lot of predictive power. **Remember: What information are these categorical variables likely capturing?**\n"
      ]
    },
    {
      "cell_type": "markdown",
      "metadata": {
        "id": "_C0o6_CuUzE3"
      },
      "source": [
        "# Lasso and trees with categorical variables\n",
        "\n",
        "Rather than go through the full collection of models again. Let's just look at how adding these categorical variables affects a couple of the Lasso results and the trees."
      ]
    },
    {
      "cell_type": "markdown",
      "metadata": {
        "id": "4qVAMwjIW2rh"
      },
      "source": [
        "## Lasso with baseline variables and statezip dummies"
      ]
    },
    {
      "cell_type": "code",
      "source": [
        "# Lasso in the model with statezip\n",
        "\n",
        "# Price model\n",
        "# Create variables from our basezip model\n",
        "y, X = model_matrix(basezip, data)\n",
        "n, p_zip = X.shape\n",
        "\n",
        "# Sequence of penalty parameters to try\n",
        "ub = np.std(y)*np.sqrt(2*np.log(2*p_zip/.05))/np.sqrt(n)\n",
        "lambdas = np.geomspace(start=ub/100, stop=ub, num=25)\n",
        "\n",
        "# Let's do cross-validation to choose a value for lambda\n",
        "model = make_pipeline(StandardScaler(), Lasso())\n",
        "\n",
        "# Cross validation. Set up parameter we are trying to optimize.\n",
        "parameters = {'lasso__alpha':lambdas.ravel()}\n",
        "\n",
        "ziplas = perform_gridsearchcv(model, parameters, scoring=scoring_lev,\n",
        "                               X=X, y=y, cvsplit=cvsplit, refit_metric='mse')\n",
        "\n",
        "ziplasmse, ziplasmae, ziplasp = extract_performance_metrics(ziplas, benchMSE, benchMAE, p_zip)\n",
        "\n",
        "model_results = add_to_results_table(model_results, 'Zip Lasso', ziplasmse, ziplasmae, benchMSE, benchMAE, p_zip, ziplasp)\n",
        "\n",
        "plot_performance(ziplas, title='Zipcode Lasso CV')"
      ],
      "metadata": {
        "id": "adWvLjqTGXf3"
      },
      "execution_count": null,
      "outputs": []
    },
    {
      "cell_type": "code",
      "source": [
        "# log_price model\n",
        "logy = data['log_price']\n",
        "\n",
        "# Sequence of penalty parameters to try\n",
        "ub = np.std(logy)*np.sqrt(2*np.log(2*p_zip/.05))/np.sqrt(n)\n",
        "lambdas = np.geomspace(start=ub/100, stop=ub, num=25)\n",
        "\n",
        "# Cross validation. Set up parameter we are trying to optimize.\n",
        "parameters = {'lasso__alpha':lambdas.ravel()}\n",
        "\n",
        "ziploglas = perform_gridsearchcv(model, parameters, scoring=scoring_log,\n",
        "                               X=X, y=logy, cvsplit=cvsplit, refit_metric='mse')\n",
        "\n",
        "ziploglasmse, ziploglasmae, ziploglasp = extract_performance_metrics(ziploglas, benchMSE, benchMAE, p_zip)\n",
        "\n",
        "model_results = add_to_results_table(model_results, 'Zip logLasso', ziploglasmse, ziploglasmae, benchMSE, benchMAE, p_zip, ziploglasp)\n",
        "\n",
        "plot_performance(ziploglas, title='Zipcode logLasso CV')\n"
      ],
      "metadata": {
        "id": "txbzXcI0HDil"
      },
      "execution_count": null,
      "outputs": []
    },
    {
      "cell_type": "markdown",
      "metadata": {
        "id": "pDde5wVjXUG_"
      },
      "source": [
        "## Lasso with baseline variables and statezip x city dummies"
      ]
    },
    {
      "cell_type": "code",
      "source": [
        "# Lasso in the model with statezip x city\n",
        "\n",
        "# Price model\n",
        "# Create variables from our baseboth model\n",
        "y, X = model_matrix(baseboth, data)\n",
        "n, p_both = X.shape\n",
        "\n",
        "# Sequence of penalty parameters to try\n",
        "ub = np.std(y)*np.sqrt(2*np.log(2*p_both/.05))/np.sqrt(n)\n",
        "lambdas = np.geomspace(start=ub/100, stop=ub, num=25)\n",
        "\n",
        "# Let's do cross-validation to choose a value for lambda\n",
        "model = make_pipeline(StandardScaler(), Lasso())\n",
        "\n",
        "# Cross validation. Set up parameter we are trying to optimize.\n",
        "parameters = {'lasso__alpha':lambdas.ravel()}\n",
        "\n",
        "bothlas = perform_gridsearchcv(model, parameters, scoring=scoring_lev,\n",
        "                               X=X, y=y, cvsplit=cvsplit, refit_metric='mse')\n",
        "\n",
        "bothlasmse, bothlasmae, bothlasp = extract_performance_metrics(bothlas, benchMSE, benchMAE, p_both)\n",
        "\n",
        "model_results = add_to_results_table(model_results, 'Both Lasso', bothlasmse, bothlasmae, benchMSE, benchMAE, p_both, bothlasp)\n",
        "\n",
        "plot_performance(bothlas, title='Both Lasso CV')"
      ],
      "metadata": {
        "id": "mDUSmJw9T6Ie"
      },
      "execution_count": null,
      "outputs": []
    },
    {
      "cell_type": "code",
      "source": [
        "# log_price model\n",
        "logy = data['log_price']\n",
        "\n",
        "# Sequence of penalty parameters to try\n",
        "ub = np.std(logy)*np.sqrt(2*np.log(2*p_both/.05))/np.sqrt(n)\n",
        "lambdas = np.geomspace(start=ub/100, stop=ub, num=25)\n",
        "\n",
        "# Cross validation. Set up parameter we are trying to optimize.\n",
        "parameters = {'lasso__alpha':lambdas.ravel()}\n",
        "\n",
        "bothloglas = perform_gridsearchcv(model, parameters, scoring=scoring_log,\n",
        "                               X=X, y=logy, cvsplit=cvsplit, refit_metric='mse')\n",
        "\n",
        "bothloglasmse, bothloglasmae, bothloglasp = extract_performance_metrics(bothloglas, benchMSE, benchMAE, p_both)\n",
        "\n",
        "model_results = add_to_results_table(model_results, 'Both logLasso',\n",
        "                                     bothloglasmse, bothloglasmae,\n",
        "                                     benchMSE, benchMAE, p_both, bothloglasp)\n",
        "\n",
        "plot_performance(bothloglas, title='Both logLasso CV')\n"
      ],
      "metadata": {
        "id": "Gx5Zzu49UVOU"
      },
      "execution_count": null,
      "outputs": []
    },
    {
      "cell_type": "markdown",
      "metadata": {
        "id": "37w16tesaxHd"
      },
      "source": [
        "## Lasso with flexible variables and statezip x city dummies\n",
        "\n",
        "For giggles, let's look at what happens when we take the \"flexible\" model and throw in the `statezip` x `city` dummies.\n",
        "\n",
        "**This block takes ~10 minutes to run**"
      ]
    },
    {
      "cell_type": "code",
      "source": [
        "# Lasso in the very flexible model\n",
        "\n",
        "# Price model\n",
        "# Create variables from our flex2 model\n",
        "y, X = model_matrix(flex2, data)\n",
        "n, p_flex2 = X.shape\n",
        "\n",
        "# Sequence of penalty parameters to try\n",
        "ub = np.std(y)*np.sqrt(2*np.log(2*p_flex2/.05))/np.sqrt(n)\n",
        "lambdas = np.geomspace(start=ub/100, stop=ub, num=25)\n",
        "\n",
        "# Let's do cross-validation to choose a value for lambda\n",
        "model = make_pipeline(StandardScaler(), Lasso())\n",
        "\n",
        "# Cross validation. Set up parameter we are trying to optimize.\n",
        "parameters = {'lasso__alpha':lambdas.ravel()}\n",
        "\n",
        "flex2las = perform_gridsearchcv(model, parameters, scoring=scoring_lev,\n",
        "                               X=X, y=y, cvsplit=cvsplit, refit_metric='mse')\n",
        "\n",
        "flex2lasmse, flex2lasmae, flex2lasp = extract_performance_metrics(flex2las, benchMSE, benchMAE, p_flex2)\n",
        "\n",
        "model_results = add_to_results_table(model_results, 'Very Flexible Lasso', flex2lasmse, flex2lasmae, benchMSE, benchMAE, p_flex2, flex2lasp)\n",
        "\n",
        "plot_performance(flex2las, title='Very Flexible Lasso CV')"
      ],
      "metadata": {
        "id": "RkMAI1P3Uruu"
      },
      "execution_count": null,
      "outputs": []
    },
    {
      "cell_type": "code",
      "source": [
        "# log_price model\n",
        "# Create variables from our flex2 model\n",
        "logy = data['log_price']\n",
        "\n",
        "# Sequence of penalty parameters to try\n",
        "ub = np.std(logy)*np.sqrt(2*np.log(2*p_flex2/.05))/np.sqrt(n)\n",
        "lambdas = np.geomspace(start=ub/100, stop=ub, num=25)\n",
        "\n",
        "# Let's do cross-validation to choose a value for lambda\n",
        "model = make_pipeline(StandardScaler(), Lasso())\n",
        "\n",
        "# Cross validation. Set up parameter we are trying to optimize.\n",
        "parameters = {'lasso__alpha':lambdas.ravel()}\n",
        "\n",
        "flex2loglas = perform_gridsearchcv(model, parameters, scoring=scoring_log,\n",
        "                               X=X, y=logy, cvsplit=cvsplit, refit_metric='mse')\n",
        "\n",
        "flex2loglasmse, flex2loglasmae, flex2loglasp = extract_performance_metrics(flex2loglas, benchMSE, benchMAE, p_flex2)\n",
        "\n",
        "model_results = add_to_results_table(model_results, 'Very Flexible logLasso', flex2loglasmse, flex2loglasmae, benchMSE, benchMAE, p_flex2, flex2loglasp)\n",
        "\n",
        "plot_performance(flex2loglas, title='Very Flexible logLasso CV')"
      ],
      "metadata": {
        "id": "UU1vB0M7Vwwk"
      },
      "execution_count": null,
      "outputs": []
    },
    {
      "cell_type": "markdown",
      "metadata": {
        "id": "DumRTotOkn3e"
      },
      "source": [
        "# Tree with `statezip` and `city`"
      ]
    },
    {
      "cell_type": "markdown",
      "metadata": {
        "id": "Vvvy8Fe8ktxi"
      },
      "source": [
        "For use with trees, we are going to need to create dummy variables for `statezip` and `city`."
      ]
    },
    {
      "cell_type": "code",
      "execution_count": null,
      "metadata": {
        "id": "_4us7XKtkseW"
      },
      "outputs": [],
      "source": [
        "data_tree = data.drop(columns=['renovated_flag','basement_flag'])\n",
        "data_tree = pd.get_dummies(data_tree, columns=['statezip','city'])\n",
        "\n",
        "# Let's make our outcome variables and predictors\n",
        "X = data_tree.drop(columns=['price','log_price','both'])\n",
        "y = data_tree['price']\n",
        "logy = data_tree['log_price']"
      ]
    },
    {
      "cell_type": "markdown",
      "metadata": {
        "id": "h22OQPdalB8g"
      },
      "source": [
        "Let's look at a baseline tree for `price`."
      ]
    },
    {
      "cell_type": "code",
      "source": [
        "# Outcome variable is price\n",
        "# Parameter we want to choose based on cross-validation performance - number of leaves\n",
        "parameters = {'max_leaf_nodes':range(2,101)}\n",
        "\n",
        "# Define model and do cross-validation\n",
        "tree = DecisionTreeRegressor()\n",
        "both_tree = perform_gridsearchcv(tree, parameters, scoring=scoring_lev,\n",
        "                                 X=X, y=y, cvsplit=cvsplit, refit_metric='mse')\n",
        "\n",
        "bestmse_both_tree, bestmae_both_tree, both_tree_p = extract_tree_metrics(both_tree, benchMSE, benchMAE)\n",
        "\n",
        "plot_tree_performance(both_tree)\n",
        "\n",
        "model_results = add_to_results_table(model_results, 'Decision Tree w Dummies',\n",
        "                                     bestmse_both_tree, bestmae_both_tree,\n",
        "                                     benchMSE, benchMAE, '-', both_tree_p)\n",
        "\n"
      ],
      "metadata": {
        "id": "Wse5IV1zWw-O"
      },
      "execution_count": null,
      "outputs": []
    },
    {
      "cell_type": "markdown",
      "source": [
        "Baseline tree for `log_price`"
      ],
      "metadata": {
        "id": "YbAlaNlkW1z2"
      }
    },
    {
      "cell_type": "code",
      "source": [
        "# Outcome variable is log_price\n",
        "# Parameter we want to choose based on cross-validation performance - number of leaves\n",
        "parameters = {'max_leaf_nodes':range(2,101)}\n",
        "\n",
        "# Define model and do cross-validation\n",
        "tree = DecisionTreeRegressor()\n",
        "both_logtree = perform_gridsearchcv(tree, parameters, scoring=scoring_log,\n",
        "                                 X=X, y=logy, cvsplit=cvsplit, refit_metric='mse')\n",
        "\n",
        "bestmse_both_logtree, bestmae_both_logtree, both_logtree_p = extract_tree_metrics(both_logtree, benchMSE, benchMAE)\n",
        "\n",
        "plot_tree_performance(both_logtree)\n",
        "\n",
        "model_results = add_to_results_table(model_results, 'Decision Tree w Dummies - Log',\n",
        "                                     bestmse_both_logtree, bestmae_both_logtree,\n",
        "                                     benchMSE, benchMAE, '-', both_logtree_p)\n",
        "\n"
      ],
      "metadata": {
        "id": "yE98h7RzW4V0"
      },
      "execution_count": null,
      "outputs": []
    },
    {
      "cell_type": "markdown",
      "source": [
        "Let's look at all the results again."
      ],
      "metadata": {
        "id": "7vw7CKtPYE8C"
      }
    },
    {
      "cell_type": "code",
      "source": [
        "model_results.sort_values(by=['RMSE'])"
      ],
      "metadata": {
        "id": "1vUuBvrVYHfY"
      },
      "execution_count": null,
      "outputs": []
    },
    {
      "cell_type": "markdown",
      "source": [
        "# Summary\n",
        "\n",
        "Linear models are very useful and tend to do well with structured, numeric data in relatively small samples. In many settings, sensible linear models should be in the set of learners considered. Linear models also come with a lot of overhead and choice on the side of the analyst that makes them cumbersome and unappealing in more complex settings.\n",
        "\n",
        "Trees offer a simple approach to modeling with representation learning. They are fast and flexible. Simple trees (relatively few terminal nodes) are also highly interpretable and intuitive. Basic trees are also crude in that they provide step function approximations. They are a building block to other learners though and a solid baseline procedure."
      ],
      "metadata": {
        "id": "Opv6vRgLn6Zl"
      }
    }
  ],
  "metadata": {
    "colab": {
      "provenance": [],
      "include_colab_link": true
    },
    "kernelspec": {
      "display_name": "Python 3 (ipykernel)",
      "language": "python",
      "name": "python3"
    },
    "language_info": {
      "codemirror_mode": {
        "name": "ipython",
        "version": 3
      },
      "file_extension": ".py",
      "mimetype": "text/x-python",
      "name": "python",
      "nbconvert_exporter": "python",
      "pygments_lexer": "ipython3",
      "version": "3.11.7"
    }
  },
  "nbformat": 4,
  "nbformat_minor": 0
}