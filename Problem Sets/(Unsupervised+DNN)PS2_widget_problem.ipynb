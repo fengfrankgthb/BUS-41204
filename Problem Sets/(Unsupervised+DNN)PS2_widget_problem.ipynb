{
  "cells": [
    {
      "cell_type": "markdown",
      "metadata": {
        "id": "view-in-github",
        "colab_type": "text"
      },
      "source": [
        "<a href=\"https://colab.research.google.com/github/fengfrankgthb/BUS-41204/blob/main/Problem%20Sets/(Unsupervised%2BDNN)PS2_widget_problem.ipynb\" target=\"_parent\"><img src=\"https://colab.research.google.com/assets/colab-badge.svg\" alt=\"Open In Colab\"/></a>"
      ]
    },
    {
      "cell_type": "code",
      "source": [
        "# !pip is Package Install Python to install dataset library,\n",
        "# process information is hidden into null device\n",
        "# including \"2\"error / \"1\"output / \"0\"input\n",
        "!pip install datasets > /dev/null 2>&1\n"
      ],
      "metadata": {
        "id": "3w0e-_hTT0pW"
      },
      "execution_count": 34,
      "outputs": []
    },
    {
      "cell_type": "code",
      "execution_count": 36,
      "metadata": {
        "id": "Kd78BQCfRzGk"
      },
      "outputs": [],
      "source": [
        "# some interactive widgets output not savable in github\n",
        "# load same common wine data included in ML\n",
        "# prepare PCA principal component analysis\n",
        "# StandardScaler to z-score normalize dataset mean=0 std=1\n",
        "import ipywidgets as widgets\n",
        "import matplotlib.pyplot as plt\n",
        "import numpy as np\n",
        "import pandas as pd\n",
        "import seaborn as sns\n",
        "\n",
        "from sklearn.cluster import KMeans\n",
        "from sklearn.datasets import load_wine\n",
        "from sklearn.decomposition import PCA\n",
        "\n",
        "from sklearn.model_selection import train_test_split\n",
        "from sklearn.preprocessing import StandardScaler"
      ]
    },
    {
      "cell_type": "markdown",
      "metadata": {
        "id": "6R3n77dfRzHV"
      },
      "source": [
        "# **Task: Unsupervised Learning**\n",
        "\n",
        "For Unsupervised Learning Task, you'll follow these steps:\n",
        "\n",
        "- 3.1 Explore and cluster the data.\n",
        "- 3.2 Apply PCA to the data.\n",
        "- 3.3 Wine recommendation."
      ]
    },
    {
      "cell_type": "markdown",
      "metadata": {
        "id": "YRK49B7cRzHW"
      },
      "source": [
        "## **3.1 Explore and cluster the data**\n",
        "We load the wine dataset from Scikit-learn's built-in collection, including features and target labels.\n",
        "This dataset contains information on different chemical properties of wines, which will be useful\n",
        "for the clustering and and PCA analysis."
      ]
    },
    {
      "cell_type": "code",
      "execution_count": null,
      "metadata": {
        "id": "pmNUQbN-RzHW"
      },
      "outputs": [],
      "source": [
        "df = load_wine(as_frame=True)\n",
        "df = df.frame\n",
        "df = df.drop(columns=[\"target\"])\n",
        "df.head()"
      ]
    },
    {
      "cell_type": "markdown",
      "source": [
        "**Exercise**: to add Code to show tail rows of data"
      ],
      "metadata": {
        "id": "09waIbXmOcP9"
      }
    },
    {
      "cell_type": "code",
      "source": [
        "df.tail()"
      ],
      "metadata": {
        "id": "akAGI4hnOsZT"
      },
      "execution_count": null,
      "outputs": []
    },
    {
      "cell_type": "markdown",
      "metadata": {
        "id": "IV5dLkIRRzHY"
      },
      "source": [
        "### Scale data:\n",
        "\n",
        "Before proceeding with the analysis, we scale the data. This step standardizes the range of the\n",
        "features, preventing variables with larger scales from dominating the results."
      ]
    },
    {
      "cell_type": "code",
      "execution_count": 39,
      "metadata": {
        "id": "MyWfRuHuRzHa"
      },
      "outputs": [],
      "source": [
        "# define scalre as StandardScaler\n",
        "scaler = StandardScaler()\n",
        "\n",
        "features = scaler.fit(df) # learn and store the scaling parameters mean/std in features\n",
        "features = features.transform(df) # scale data and uodate features\n",
        "\n",
        "scaled_df = pd.DataFrame(features, columns=df.columns) # create scaled_df using features and original column\n",
        "scaled_df.head() # print head rows of scaled_df\n",
        "\n",
        "X = scaled_df.values # prepare X for trainging"
      ]
    },
    {
      "cell_type": "markdown",
      "source": [
        "**------self note------**\n",
        "\n",
        "Above Code use \"features\" to first store the mean/std then keep the scaled data. Since fit() object keeps its result (mean/std), there is no need to use a variable \"features\" to duplicate them.\n",
        "\n",
        "A clearer version of code would be:\n",
        "\n",
        "    scaler = StandardScaler()\n",
        "    scaler.fit(df)\n",
        "    features_scaled = scaler.transform(df)\n",
        "\n",
        "    scaled_df = pd.DataFrame(features_scaled, columns=df.columns)\n",
        "    scaled_df.head()\n",
        "\n",
        "**------end note------**"
      ],
      "metadata": {
        "id": "6G2cIPVJWHgH"
      }
    },
    {
      "cell_type": "markdown",
      "metadata": {
        "id": "CuFqR6lTRzHa"
      },
      "source": [
        "Next, we apply K-means clustering to the scaled data, determining the optimal number of clusters\n",
        "using the elbow method. The elbow method helps identify the point where adding more clusters no\n",
        "longer significantly improves the model’s performance, allowing us to choose the ideal number of\n",
        "clusters for our analysis."
      ]
    },
    {
      "cell_type": "code",
      "execution_count": null,
      "metadata": {
        "id": "b3IJ_fHtRzHb"
      },
      "outputs": [],
      "source": [
        "wcss = {} # WCSS: Within Cluster Sum of Square\n",
        "for i in range(1, 11):\n",
        "    kmeans = KMeans(n_clusters=i, init=\"k-means++\", random_state=42)\n",
        "    kmeans.fit(X)\n",
        "    wcss[i] = kmeans.inertia_\n",
        "\n",
        "plt.plot(wcss.keys(), wcss.values(), \"gs-\")\n",
        "plt.xlabel(\"Values of 'k'\")\n",
        "plt.ylabel(\"WCSS\")\n",
        "plt.show()"
      ]
    },
    {
      "cell_type": "markdown",
      "metadata": {
        "id": "byO1Tc1RRzHc"
      },
      "source": [
        "**Question:** Based on the elbow method, how many clusters would you choose for the K-means clustering? Explain your reasoning. Use an LLM to figure out what WCSS stands for.\n",
        "\n",
        "**Frank Answer** k=3 is the elbow. Between k=1 to 3, WCSS dropps steeply. Between K=3 and 10, WCSS dropps flattly. It means k=3 is the truning point of WCSS slope.\n",
        "\n",
        "**WCSS** is the loss function of K-menas clustering. The lower the WCSS, the more accurate the clustering rules. The formular is:\n",
        "\n",
        "$$WCSS = \\sum_{i=1}^{K} \\sum_{x_j \\in C_i} ||x_j - \\mu_i||^2$$\n",
        "\n",
        "where $\\mu_i$ is the center of i-th cluster $C_i$, and $x_j$ is the j-th data point\n"
      ]
    },
    {
      "cell_type": "markdown",
      "metadata": {
        "id": "X5A1tvt4RzHc"
      },
      "source": [
        "**Answer:** See above"
      ]
    },
    {
      "cell_type": "code",
      "execution_count": null,
      "metadata": {
        "id": "dzWuDA27RzHc"
      },
      "outputs": [],
      "source": [
        "kmeans = KMeans(n_clusters=3)\n",
        "kmeans.fit(X)"
      ]
    },
    {
      "cell_type": "markdown",
      "metadata": {
        "id": "-LCCbgGnRzHc"
      },
      "source": [
        "**Exercise**\n",
        "\n",
        "To scatterplot the data at K-means 3 clusters, use code below:\n",
        "\n",
        "    # Get cluster labels and centroids\n",
        "    labels = kmeans.labels_\n",
        "    centroids = kmeans.cluster_centers_\n",
        "\n",
        "    # Extract the three important columns\n",
        "    x_alcohol = X['alcohol']\n",
        "    y_ash = X['ash']\n",
        "    z_hue = X['hue']\n",
        "    centroids_alcohol = centroids[:, X.columns.get_loc('alcohol')]\n",
        "    centroids_ash = centroids[:, X.columns.get_loc('ash')]\n",
        "    centroids_hue = centroids[:, X.columns.get_loc('hue')]\n",
        "\n",
        "    # Create the 3D scatter plot\n",
        "    fig = plt.figure(figsize=(10, 8))\n",
        "    ax = fig.add_subplot(111, projection='3d')\n",
        "\n",
        "    # Scatter plot the data points, colored by their cluster label\n",
        "    scatter = ax.scatter(x_alcohol, y_ash, z_hue, c=labels, cmap='viridis', marker='o', s=50)\n",
        "\n",
        "    # Plot the centroids\n",
        "    ax.scatter(centroids_alcohol, centroids_ash, centroids_hue, c='red', marker='X', s=200, label='Centroids')\n",
        "\n",
        "    # Add labels and title\n",
        "    ax.set_xlabel('Alcohol')\n",
        "    ax.set_ylabel('Ash')\n",
        "    ax.set_zlabel('Hue')\n",
        "    ax.set_title('K-Means Clustering (K=3) in 3D')\n",
        "    ax.legend()\n",
        "\n",
        "    # Add a colorbar for the cluster labels\n",
        "    cbar = fig.colorbar(scatter)\n",
        "    cbar.set_label('Cluster')\n",
        "\n",
        "    plt.show()"
      ]
    },
    {
      "cell_type": "markdown",
      "metadata": {
        "id": "4Vyo075yRzHd"
      },
      "source": [
        "## **3.2 Apply PCA to the data**\n",
        "Now, we apply Principal Component Analysis (PCA) to reduce the dimensionality of the data, extracting the first two principal components. This allows us to visualize the data in two dimensions while preserving most of the variance."
      ]
    },
    {
      "cell_type": "code",
      "execution_count": 42,
      "metadata": {
        "id": "LqmGrx6wRzHd"
      },
      "outputs": [],
      "source": [
        "num_components = df.shape[1]\n",
        "pca = PCA(n_components=num_components)\n",
        "reduced_X = pd.DataFrame(\n",
        "    data=pca.fit_transform(X), columns=[f\"PC{i}\" for i in range(1, num_components + 1)]\n",
        ")\n",
        "centers = pca.transform(kmeans.cluster_centers_)"
      ]
    },
    {
      "cell_type": "code",
      "execution_count": null,
      "metadata": {
        "id": "j9gbC1vyRzHd"
      },
      "outputs": [],
      "source": [
        "explained_variance_ratio = np.cumsum(pca.explained_variance_ratio_)\n",
        "# Plot the explained variance ratio\n",
        "plt.figure(figsize=(8, 6))\n",
        "plt.plot(\n",
        "    range(1, num_components + 1), explained_variance_ratio, marker=\"o\", linestyle=\"--\"\n",
        ")\n",
        "plt.title(\"Explained Variance Ratio by Components\")\n",
        "plt.xlabel(\"Number of Components\")\n",
        "plt.ylabel(\"Explained Variance Ratio\")\n",
        "plt.grid(True)\n",
        "plt.show()"
      ]
    },
    {
      "cell_type": "markdown",
      "metadata": {
        "id": "LcbC9toPRzHd"
      },
      "source": [
        "**Question:** How many principal components should be selected to explain at least 80% of the variance in the dataset?\n",
        "\n",
        "**Answer:** With 5 PCs, the explained variance ratio is 0.8, or 80%."
      ]
    },
    {
      "cell_type": "markdown",
      "metadata": {
        "id": "wUijXAzgRzHd"
      },
      "source": [
        "## Scatterplot with 2 PCs:\n",
        "\n",
        "We now visualize the first two principal components, with the data points colored according to their cluster assignments. This visualization helps us understand how the clusters are distributed in the reduced two-dimensional space."
      ]
    },
    {
      "cell_type": "code",
      "execution_count": null,
      "metadata": {
        "id": "tzWBs_ajRzHe"
      },
      "outputs": [],
      "source": [
        "plt.figure(figsize=(7, 5))\n",
        "\n",
        "# Scatter plot\n",
        "plt.scatter(reduced_X[\"PC1\"], reduced_X[\"PC2\"], c=kmeans.labels_)\n",
        "plt.scatter(centers[:, 0], centers[:, 1], marker=\"x\", s=100, c=\"red\")\n",
        "plt.xlabel(\"PC1\")\n",
        "plt.ylabel(\"PC2\")\n",
        "plt.title(\"Wine Cluster\")\n",
        "plt.tight_layout()"
      ]
    },
    {
      "cell_type": "markdown",
      "source": [
        "## Compare with plots of other PCs:\n",
        "\n",
        "See the scatterplot with PC1&3 below, in which less and fewer variances are captured by comparing to the plot with PC1&2."
      ],
      "metadata": {
        "id": "WxnAr2QXj_Mz"
      }
    },
    {
      "cell_type": "code",
      "source": [
        "plt.figure(figsize=(7, 5))\n",
        "\n",
        "# Scatter plot\n",
        "plt.scatter(reduced_X[\"PC1\"], reduced_X[\"PC3\"], c=kmeans.labels_)\n",
        "plt.scatter(centers[:, 0], centers[:, 1], marker=\"x\", s=100, c=\"red\")\n",
        "plt.xlabel(\"PC1\")\n",
        "plt.ylabel(\"PC3\")\n",
        "plt.title(\"Wine Cluster\")\n",
        "plt.tight_layout()"
      ],
      "metadata": {
        "id": "f0G6eDfRkGV2"
      },
      "execution_count": null,
      "outputs": []
    },
    {
      "cell_type": "markdown",
      "metadata": {
        "id": "DsvVThpaRzHe"
      },
      "source": [
        "Now, let's take a look at how each feature loads onto the first two principal components. This will show us which features have the biggest impact on the data’s variance in the reduced space."
      ]
    },
    {
      "cell_type": "code",
      "execution_count": null,
      "metadata": {
        "id": "uRdIAAxYRzHe"
      },
      "outputs": [],
      "source": [
        "component_df = pd.DataFrame(\n",
        "    (pca.components_[:2, :].T * np.sqrt(pca.explained_variance_[:2])).T,\n",
        "    index=[\"PC1\", \"PC2\"],\n",
        "    columns=df.columns,\n",
        ")\n",
        "# Heat map\n",
        "sns.heatmap(component_df)\n",
        "plt.show()"
      ]
    },
    {
      "cell_type": "markdown",
      "source": [
        "**Exercise** Heatmap for first 5 PCs that explaining 80% variances:"
      ],
      "metadata": {
        "id": "EI8BfVd4ymKs"
      }
    },
    {
      "cell_type": "code",
      "source": [
        "component_df = pd.DataFrame(\n",
        "    (pca.components_[:5, :].T * np.sqrt(pca.explained_variance_[:5])).T,\n",
        "    index=[\"PC1\", \"PC2\", \"PC3\", \"PC4\", \"PC5\"],\n",
        "    columns=df.columns,\n",
        ")\n",
        "# Heat map\n",
        "sns.heatmap(component_df)\n",
        "plt.show()"
      ],
      "metadata": {
        "id": "daGtQdNly0i-"
      },
      "execution_count": null,
      "outputs": []
    },
    {
      "cell_type": "markdown",
      "metadata": {
        "id": "aq4PqUoIRzHf"
      },
      "source": [
        "The following interactive scatter plot shows the first two principal components of the wine dataset, with data points color-coded by cluster assignment. You can select different features from the dropdown to visualize how each feature is distributed across these two principal components. This allows us to explore how the features relate to the two principal components.\n",
        "\n",
        "**------self note------**\n",
        "\n",
        "Widget's interactive results has to be cleared out before save to github.\n",
        "\n",
        "**------end note------**"
      ]
    },
    {
      "cell_type": "code",
      "execution_count": 48,
      "metadata": {
        "id": "6fomgGNSRzHf"
      },
      "outputs": [],
      "source": [
        "def plot_scatter(variable):\n",
        "    plt.figure(figsize=(10, 7))\n",
        "\n",
        "    # Scatter plot with cluster colors\n",
        "    scatter = plt.scatter(\n",
        "        reduced_X[\"PC1\"],\n",
        "        reduced_X[\"PC2\"],\n",
        "        c=kmeans.labels_,\n",
        "        cmap=\"viridis\",\n",
        "        s=30,\n",
        "        alpha=0.7,\n",
        "    )\n",
        "\n",
        "    # Plot cluster centers\n",
        "    plt.scatter(\n",
        "        centers[:, 0],\n",
        "        centers[:, 1],\n",
        "        marker=\"x\",\n",
        "        s=150,\n",
        "        c=\"red\",\n",
        "        label=\"Cluster Centers\",\n",
        "    )\n",
        "\n",
        "    plt.xlabel(\"PC1\")\n",
        "    plt.ylabel(\"PC2\")\n",
        "    plt.title(\"Wine Cluster with Annotated Labels\")\n",
        "    plt.legend()\n",
        "\n",
        "    # Introduce small random noise to avoid overlap\n",
        "    np.random.seed(42)  # For consistent results\n",
        "    x_offsets = np.random.uniform(-0.2, 0.2, len(df))\n",
        "    y_offsets = np.random.uniform(-0.2, 0.2, len(df))\n",
        "\n",
        "    # Annotate points with the chosen variable\n",
        "    for i, txt in enumerate(df[variable]):\n",
        "        plt.annotate(\n",
        "            txt,\n",
        "            (reduced_X[\"PC1\"][i] + x_offsets[i], reduced_X[\"PC2\"][i] + y_offsets[i]),\n",
        "            fontsize=8,\n",
        "            ha=\"center\",\n",
        "            va=\"center\",\n",
        "        )\n",
        "\n",
        "    plt.tight_layout()\n",
        "    plt.show()\n"
      ]
    },
    {
      "cell_type": "markdown",
      "source": [
        "Code (widgets) below is deleted from code block above.\n",
        "\n",
        "    '''\n",
        "    ---entired block is deactivated for github saving---\n",
        "    # Create a dropdown widget for selecting the variable\n",
        "\n",
        "    dropdown = widgets.Dropdown(\n",
        "        options=df.columns,\n",
        "        value=\"alcohol\",\n",
        "        description=\"Variable:\",\n",
        "        disabled=False,\n",
        "    )\n",
        "\n",
        "    # Use interact to create an interactive plot\n",
        "    widgets.interact(plot_scatter, variable=dropdown)\n",
        "    ---end of block---\n",
        "    '''"
      ],
      "metadata": {
        "id": "zTleQaBIdx3R"
      }
    },
    {
      "cell_type": "markdown",
      "metadata": {
        "id": "ylxlIo0aRzHf"
      },
      "source": [
        "By default, the dropdown above is set to alcohol, which has a strong influence on the second principal component (PC2). You will notice that higher alcohol values tend to cluster at higher PC2 values. Similarly, malic acid plays a significant role in the first principal component (PC1). If you select malic_acid from the dropdown, you'll observe that large values of malic acid are primarily found at lower PC1 values. This reflects how the PCA transformation captures variations in the dataset, with PC1 and PC2 separating the features into distinct clusters."
      ]
    },
    {
      "cell_type": "markdown",
      "metadata": {
        "id": "uprFsbgaRzHf"
      },
      "source": [
        "### **3.3 Wine recommendation**\n",
        "In this task, we’ll apply everything we’ve learned so far to find the perfect bottle of wine for a birthday party.\n",
        "You're invited to a celebration and want to bring an excellent Swiss wine. You already know a wine your friend enjoys and hope to find a similar one—but not the exact same!\n",
        "To identify comparable wines, we’ll use a dataset that focuses specifically on Swiss varieties, as the previous dataset included a broader selection. Let's begin by loading the new dataset."
      ]
    },
    {
      "cell_type": "code",
      "execution_count": null,
      "metadata": {
        "id": "OXLmLNm0RzHg"
      },
      "outputs": [],
      "source": [
        "swiss_wine = pd.read_csv(\n",
        "    \"https://raw.githubusercontent.com/chansen776/MBA-ML-Course-Materials/refs/heads/main/Data/wines_data.csv\"\n",
        ")\n",
        "swiss_wine.head()"
      ]
    },
    {
      "cell_type": "markdown",
      "metadata": {
        "id": "3AuCuD8PRzHg"
      },
      "source": [
        "**------self note------**\n",
        "\n",
        "Use swiss_wine.tail() can find out there are only 17 wines in the dataset.\n",
        "\n",
        "**------end note------**\n",
        "\n",
        "Your friend enjoys wine from the Schwarzenbach winery, and you'd like to find similar options. To do this, we'll first cluster the data to group similar wines. Then, for better visualization, we'll reduce the dimensionality to two so we can represent the results graphically."
      ]
    },
    {
      "cell_type": "code",
      "execution_count": null,
      "metadata": {
        "id": "yWXpIyFSRzHg"
      },
      "outputs": [],
      "source": [
        "# Clustering\n",
        "swiss_wine_numeric = swiss_wine[[\"Alkohol\", \"Gesamtsäure\", \"Restzucker\", \"Jahrgang\"]]\n",
        "swiss_wine_numeric = scaler.fit_transform(swiss_wine_numeric)\n",
        "kmeans = KMeans(n_clusters=3)\n",
        "kmeans.fit(swiss_wine_numeric)"
      ]
    },
    {
      "cell_type": "code",
      "execution_count": 51,
      "metadata": {
        "id": "DedwjroaRzHg"
      },
      "outputs": [],
      "source": [
        "# Dimensionality Reduction\n",
        "pca = PCA(n_components=2)\n",
        "scaler = StandardScaler()\n",
        "swiss_wine_numeric = scaler.fit_transform(swiss_wine_numeric)\n",
        "reduced_swiss_wine = pca.fit_transform(swiss_wine_numeric)"
      ]
    },
    {
      "cell_type": "markdown",
      "metadata": {
        "id": "YsJA95PZRzHh"
      },
      "source": [
        "Now, we're ready to identify similar wines. To visualize the results, we'll plot the first two principal components and annotate each point with its corresponding cluster label. This will help us see how the wines are grouped and identify those most similar to the ones from Schwarzenbach."
      ]
    },
    {
      "cell_type": "code",
      "execution_count": null,
      "metadata": {
        "id": "H-Myl2U0RzHh"
      },
      "outputs": [],
      "source": [
        "centers = pca.transform(kmeans.cluster_centers_)\n",
        "for cluster_id in range(kmeans.n_clusters):\n",
        "    plt.scatter(\n",
        "        reduced_swiss_wine[kmeans.labels_ == cluster_id, 0],  # PC1\n",
        "        reduced_swiss_wine[kmeans.labels_ == cluster_id, 1],  # PC2\n",
        "        label=f\"Cluster {cluster_id + 1}\",  # Assign proper cluster labels\n",
        "        alpha=0.7,\n",
        "    )\n",
        "\n",
        "plt.scatter(\n",
        "    centers[:, 0],\n",
        "    centers[:, 1],\n",
        "    marker=\"x\",\n",
        "    s=100,\n",
        "    c=\"red\",\n",
        ")\n",
        "\n",
        "point_index = 0\n",
        "x_point, y_point = reduced_swiss_wine[point_index]\n",
        "print(swiss_wine.iloc[point_index])\n",
        "\n",
        "plt.text(\n",
        "    x_point,\n",
        "    y_point + 0.1,\n",
        "    \"Schwarzenbach\",\n",
        "    fontsize=12,\n",
        "    ha=\"center\",\n",
        "    color=\"black\",\n",
        ")\n",
        "\n",
        "\n",
        "plt.xlabel(\"PC1\")\n",
        "plt.ylabel(\"PC2\")\n",
        "plt.title(\"Swiss Wine Cluster\")\n",
        "plt.legend()\n",
        "plt.tight_layout()\n",
        "plt.show()"
      ]
    },
    {
      "cell_type": "markdown",
      "metadata": {
        "id": "iv4XClxqRzHh"
      },
      "source": [
        "**Question:** Wines from which clusters would you recommend? Pick one cluster (1/2/3) and see which wines you should\n",
        "bring to your friend's party.\n"
      ]
    },
    {
      "cell_type": "markdown",
      "metadata": {
        "id": "dgJxOOJBRzHh"
      },
      "source": [
        "**Answer:** cluster-1 contains the **Schwarzenbach** that we know the firend likes."
      ]
    },
    {
      "cell_type": "code",
      "execution_count": null,
      "metadata": {
        "id": "b5GLWaCPRzHi"
      },
      "outputs": [],
      "source": [
        "# Pick you cluster\n",
        "cluster_id = 1\n",
        "swiss_wine[kmeans.labels_ == cluster_id - 1]"
      ]
    },
    {
      "cell_type": "markdown",
      "source": [
        "# **Task:** **Transfer Learning** with PACS (Photo-Art-Cartoon-Sketch) Dataset"
      ],
      "metadata": {
        "id": "0zwOz9MpUFAl"
      }
    },
    {
      "cell_type": "markdown",
      "metadata": {
        "id": "a2d1edb5"
      },
      "source": [
        "## Setup\n",
        "Import necessary libraries and define basic settings like training/testing domains, batch size, number of epochs, and device."
      ]
    },
    {
      "cell_type": "code",
      "execution_count": 3,
      "metadata": {
        "id": "f3e7a84e"
      },
      "outputs": [],
      "source": [
        "import matplotlib.pyplot as plt\n",
        "import torch\n",
        "import torch.nn as nn\n",
        "import torch.optim as optim\n",
        "from datasets import load_dataset\n",
        "from torch.utils.data import DataLoader\n",
        "from torchvision import transforms\n",
        "from torchvision.models import ResNet18_Weights, resnet18\n",
        "\n",
        "# Settings\n",
        "train_domain = \"photo\"\n",
        "test_domains = [\"art_painting\", \"cartoon\", \"sketch\"]\n",
        "batch_size = 32\n",
        "num_epochs = 5 # One would typically train using way more epochs. We use 5 for a quick demo.\n",
        "device = torch.device(\"cpu\")  # No GPU\n",
        "\n",
        "# Set the random seed for reproducibility\n",
        "seed = 42\n",
        "torch.manual_seed(seed)\n",
        "torch.backends.cudnn.deterministic = True\n",
        "torch.backends.cudnn.benchmark = False"
      ]
    },
    {
      "cell_type": "markdown",
      "metadata": {
        "id": "098670f9"
      },
      "source": [
        "# Problem Statement: Domain Shift\n",
        "\n",
        "In real-world applications, visual recognition systems often encounter data that differs in style or appearance from what they were trained on — a challenge known as **domain shift**. To build robust models that generalize well across different visual styles, we turn to **domain generalization** benchmarks.\n",
        "\n",
        "Our objective is to **train a model that can classify objects accurately across domains**, using only the image itself as input. Specifically, we want to assess whether a model trained on images from one visual domain (e.g., natural photographs) can generalize to a significantly different domain (e.g., hand-drawn sketches), without seeing examples from the target domain during training.\n",
        "\n",
        "**------self note------**\n",
        "\n",
        "Examples of Domain Shift: **Domains** can be specific in device, technology, time, location/geography, and demography.\n",
        "\n",
        "**1. Changes in Image Acquisition**:\n",
        "* Synthetic to Real Images\n",
        "* Different Cameras/Sensors\n",
        "* Medical Imaging\n",
        "\n",
        "**2. Variations in Environmental Conditions**:\n",
        "* Weather Conditions\n",
        "* Lighting Conditions\n",
        "* Time of Day\n",
        "\n",
        "**3. Differences in Content and Style**:\n",
        "* Artistic Styles\n",
        "* Image Background\n",
        "* Object Pose and Viewpoint:\n",
        "\n",
        "**4. Dataset Bias**:\n",
        "* Geographic Bias\n",
        "* Demographic Bias (face recog)\n",
        "* Class Imbalance\n",
        "\n",
        "**5. Digital Pathology**:\n",
        "* Different medical centers or different times can have variations in color, brightness, and contrast due to staining variations and scanner properties. Even different tissue or staining types can introduce domain shift.\n",
        "\n",
        "---\n",
        "\n",
        "# Dataset: PACS\n",
        "\n",
        "To evaluate this, we use the **PACS dataset** — a popular benchmark for domain generalization and adaptation research. The dataset features four distinct visual domains:\n",
        "\n",
        "- **Art Painting** – artistic renditions in diverse painting styles  \n",
        "- **Cartoon** – simplified and stylized illustrations  \n",
        "- **Photo** – real-world, natural images (similar to ImageNet)  \n",
        "- **Sketch** – black-and-white hand-drawn sketches\n",
        "\n",
        "Each domain contains images from the **same 7 object categories**:\n",
        "\n",
        "`['dog', 'elephant', 'giraffe', 'guitar', 'horse', 'house', 'person']`\n",
        "\n",
        "This consistent label set allows for direct cross-domain evaluation.\n",
        "\n",
        "**------self note------**\n",
        "\n",
        "there are 9991 rows (9991 images) in PACS, total files size 119MB.\n",
        "\n",
        "**------end note------**\n",
        "\n",
        "---\n",
        "\n",
        "# Experimental Setup\n",
        "\n",
        "We adopt a simplified domain generalization setup, we only train on one domain and test on all other domains.\n",
        "\n",
        "- **Train** on: `'photo'` domain (real-world images)  \n",
        "- **Test** on: `'art_painting'`, `'cartoon'`, `'sketch'` domains\n",
        "\n",
        "This tests the model’s ability to generalize from natural photos to a starkly different visual style\n",
        "without access to the data of the domains during training.\n",
        "\n",
        "---\n",
        "\n",
        "# Load the PACS Dataset\n",
        "\n",
        "Download the PACS dataset using **Hugging Face** `datasets`, and filter by the selected training and testing domains.\n",
        "\n",
        "**------About Hugging Face------**\n",
        "\n",
        "The **Hugging Face** Datasets library is a powerful and user-friendly tool for accessing, sharing, and efficiently processing datasets for ML tasks, particularly in NLP, Computer Vision, and Audio. It's a core component of the Hugging Face ecosystem, tightly integrated with the Hugging Face Hub and the Transformers library. Here's a breakdown of what makes up the Hugging Face Datasets:\n",
        "\n",
        "**1. A Vast Hub of Ready-to-Use Datasets**:\n",
        "\n",
        "Over 250,000 publicly available datasets are hosted on the Hugging Face Hub, covering a wide range of tasks, including:\n",
        "* NLP: Text classification, question answering, machine translation, summarization, text generation, and more. Examples are SQuAD, IMDB, Common Crawl, and many multilingual datasets.\n",
        "* Computer Vision: Image classification, object detection, image segmentation, etc. Examples include CIFAR-10, ImageNet, and COCO.\n",
        "* Computer Audio: Speech recognition, audio classification, etc. Examples include LibriSpeech and Common Voice.\n",
        "* Multimodal: Datasets combining different modalities like text and images.\n",
        "* Tabular: Datasets in formats like CSV and JSON for various machine learning tasks.\n",
        "You can easily discover and load these datasets with a single line of Python code using the **load_dataset()** function.\n",
        "\n",
        "**2. Efficient Data Handling and Processing**:\n",
        "\n",
        "* Memory Efficiency: The library is designed to handle large datasets efficiently. It often uses memory mapping and streaming techniques, allowing you to work with datasets that are larger than your RAM without loading the entire dataset into memory at once.\n",
        "* Fast Data Access: It leverages the Apache Arrow format as its underlying data structure, enabling zero-copy reads and efficient data manipulation.\n",
        "* Easy Data Preprocessing: The library provides convenient methods for common data preprocessing steps, such as:\n",
        "  * Tokenization: Integrating seamlessly with Hugging Face Tokenizers.\n",
        "  * Splitting: Dividing datasets into training, validation, and test sets.\n",
        "  * Shuffling: Randomizing the order of data samples.\n",
        "  * Filtering: Selecting specific subsets of the data based on criteria.\n",
        "  * Mapping: Applying functions to each element of the dataset for transformations.\n",
        "  * Batching: Grouping data samples into batches for training.\n",
        "\n",
        "**3. Integration with Popular Frameworks**: Hugging Face Datasets has built-in interoperability with popular machine learning frameworks like PyTorch, TensorFlow, NumPy, Pandas, and JAX. You can easily convert datasets into formats suitable for these frameworks.\n",
        "\n",
        "**4. Tools for Creating and Sharing Your Own Datasets**: The library allows you * to load datasets from various local file formats (e.g., CSV, JSON, text files, image folders, audio files).\n",
        "* It provides tools and guidelines for creating your own dataset loading scripts and sharing your datasets on the Hugging Face Hub with the community. This fosters collaboration and makes valuable data accessible to others.\n",
        "\n",
        "**5. Dataset Information and Metadata**:\n",
        "\n",
        "* Each dataset on the Hub comes with a dataset card that provides important information like a description, supported tasks, languages, size, and licensing.\n",
        "The library allows you to access metadata about the dataset, such as feature names and data types.\n",
        "\n",
        "**In essence, the Hugging Face Datasets library acts as a central hub and a powerful toolkit for working with machine learning datasets. It simplifies the process of finding, loading, preprocessing, and sharing data, making it an invaluable resource for researchers and practitioners in the field.**\n",
        "\n",
        "For example, to load the *imdb* dataset, use code:\n",
        "\n",
        "    pip install datasets\n",
        "    from datasets import load_dataset\n",
        "\n",
        "    # Load the 'imdb' dataset\n",
        "    imdb_dataset = load_dataset(\"imdb\")\n",
        "\n"
      ]
    },
    {
      "cell_type": "code",
      "execution_count": null,
      "metadata": {
        "id": "3ddb4bab"
      },
      "outputs": [],
      "source": [
        "# Load PACS dataset from Hugging Face\n",
        "dataset = load_dataset(\"flwrlabs/pacs\")\n",
        "\n",
        "# Get class info\n",
        "label_info = dataset[\"train\"].features[\"label\"]\n",
        "num_classes = len(label_info.names)\n",
        "\n",
        "# Filter by domain\n",
        "train_dataset = dataset[\"train\"].filter(lambda x: x[\"domain\"] == train_domain)\n",
        "test_dataset = dataset[\"train\"].filter(lambda x: x[\"domain\"] in test_domains)"
      ]
    },
    {
      "cell_type": "markdown",
      "source": [
        "**Exerciuse**\n",
        "\n",
        "Add code below to show the 50th images in tain-dataset and test_dataset."
      ],
      "metadata": {
        "id": "Ulq76pJC2lbb"
      }
    },
    {
      "cell_type": "code",
      "source": [
        "example = train_dataset[49]\n",
        "image = example['image']\n",
        "\n",
        "# Display the image using matplotlib\n",
        "plt.imshow(image)\n",
        "plt.show()\n",
        "\n",
        "example = test_dataset[49]\n",
        "image = example['image']\n",
        "\n",
        "# Display the image using matplotlib\n",
        "plt.imshow(image)\n",
        "plt.show()"
      ],
      "metadata": {
        "id": "1xytoB-d0rTo"
      },
      "execution_count": null,
      "outputs": []
    },
    {
      "cell_type": "markdown",
      "metadata": {
        "id": "334b29f8"
      },
      "source": [
        "# Define and Apply Image Transforms\n",
        "Set up separate transform pipelines for training and testing (resizing, normalization, augmentation,\n",
        "etc.). Use `.with_transform()` to apply preprocessing transforms to each domain dataset."
      ]
    },
    {
      "cell_type": "code",
      "execution_count": 23,
      "metadata": {
        "id": "67dc9ff3"
      },
      "outputs": [],
      "source": [
        "# Image transforms\n",
        "transform_train = transforms.Compose([\n",
        "    transforms.Resize((224, 224)),\n",
        "    transforms.RandomHorizontalFlip(),\n",
        "    transforms.ToTensor(),\n",
        "])\n",
        "transform_test = transforms.Compose([\n",
        "    transforms.Resize((224, 224)),\n",
        "    transforms.ToTensor(),\n",
        "])\n",
        "\n",
        "# Apply transforms\n",
        "def apply_transform(batch, transform):\n",
        "    batch[\"image\"] = [transform(img) for img in batch[\"image\"]]\n",
        "    return batch\n",
        "\n",
        "train_dataset = train_dataset.with_transform(lambda batch: apply_transform(batch, transform_train))\n",
        "test_dataset = test_dataset.with_transform(lambda batch: apply_transform(batch, transform_test))"
      ]
    },
    {
      "cell_type": "markdown",
      "source": [
        "Code to compare the transformed images with originals. Note the **incorrect Image Format** for plt.imshow():\n",
        "\n",
        "* **The transforms.ToTensor()** converts the PIL Image object (typical format of images in Hugging Face datasets) into a PyTorch tensor. **matplotlib.pyplot.imshow()** expects a NumPy array-like image in the format (height, width, channels) for RGB images or (height, width) for grayscale. A PyTorch tensor has a channel-first format (channels, height, width).\n",
        "\n",
        "  * **Solution**: To permute the dimensions of the tensor and convert it to a NumPy array by **image_tensor.permute(1, 2, 0).numpy()**\n",
        "\n",
        "The 50th image train_dataset is fliped by *transforms.RandomHorizontalFlip()*, whereas the one in test_dataset remained as is."
      ],
      "metadata": {
        "id": "PRJzMOSm5t5v"
      }
    },
    {
      "cell_type": "code",
      "source": [
        "example = train_dataset[49]\n",
        "image_tensor = example['image']\n",
        "image_np = image_tensor.permute(1, 2, 0).numpy()  # Change (C, H, W) to (H, W, C)\n",
        "plt.imshow(image_np)\n",
        "plt.title(\"50th Image (Transformed - Train)\")\n",
        "plt.axis('off')\n",
        "plt.show()\n",
        "\n",
        "example = test_dataset[49]\n",
        "image_tensor = example['image']\n",
        "image_np = image_tensor.permute(1, 2, 0).numpy()  # Change (C, H, W) to (H, W, C)\n",
        "plt.imshow(image_np)\n",
        "plt.title(\"50th Image (Transformed - Test)\")\n",
        "plt.axis('off')\n",
        "plt.show()"
      ],
      "metadata": {
        "id": "Yo1fZRAx5dVl"
      },
      "execution_count": null,
      "outputs": []
    },
    {
      "cell_type": "markdown",
      "metadata": {
        "id": "f0a70b6b"
      },
      "source": [
        "# Visual Inspection\n",
        "Let's have a look at typical images of the training and test domain."
      ]
    },
    {
      "cell_type": "code",
      "execution_count": null,
      "metadata": {
        "id": "7e29c095"
      },
      "outputs": [],
      "source": [
        "def show_example(dataset, label_names, title):\n",
        "    example = dataset[1]  # safer to use 0 than 1 in case dataset is small\n",
        "    img = example[\"image\"]\n",
        "    label = example[\"label\"]\n",
        "    plt.imshow(img.permute(1, 2, 0))\n",
        "    plt.title(f\"{title} - Class: {label_names[label]}\")\n",
        "    plt.axis(\"off\")\n",
        "    plt.show()\n",
        "\n",
        "\n",
        "# Show example from training domain\n",
        "show_example(train_dataset, label_info.names, f\"Train Domain: {train_domain}\")\n",
        "\n",
        "# Show example(s) from test domain(s)\n",
        "for domain in test_domains:\n",
        "    for example in test_dataset:\n",
        "        if example[\"domain\"] == domain:\n",
        "            img = example[\"image\"]\n",
        "            label = example[\"label\"]\n",
        "            plt.imshow(img.permute(1, 2, 0))\n",
        "            plt.title(f\"Test Domain: {domain} - Class: {label_info.names[label]}\")\n",
        "            plt.axis(\"off\")\n",
        "            plt.show()\n",
        "            break"
      ]
    },
    {
      "cell_type": "markdown",
      "metadata": {
        "id": "71c6c08c"
      },
      "source": [
        "# DataLoader Sanity Check\n",
        "Create PyTorch DataLoaders and inspect a batch to verify image shapes and labels."
      ]
    },
    {
      "cell_type": "code",
      "execution_count": null,
      "metadata": {
        "id": "675d613d"
      },
      "outputs": [],
      "source": [
        "train_loader = DataLoader(train_dataset, batch_size=32, shuffle=True)\n",
        "test_loader = DataLoader(test_dataset, batch_size=32, shuffle=False)\n",
        "\n",
        "# Sanity check\n",
        "batch = next(iter(train_loader))\n",
        "print(type(batch[\"image\"]))\n",
        "print(batch[\"image\"].shape)\n",
        "print(batch[\"label\"])"
      ]
    },
    {
      "cell_type": "markdown",
      "source": [
        "**------self note------**\n",
        "\n",
        "Explain the results above:\n",
        "\n",
        "**torch.Size([32, 3, 224, 224])** is the batch shape. There are **32** images in this batch, each image has **3** color channels, with H x W as **224 x 224**.\n",
        "\n",
        "**tensor([*2*, 6, *1*, 5, 6, 5, 1, 2, *0*, 3, 6, 5, 4, 6, 6, 4, 0, 1, 2, 5, 6, 0, 6, 3,3, 5, 0, 6, 2, 6, 5, 5])** is the batch tensor for labels in the batch. It indicates the first image in batch is **2:photo**, third image is a **1:cartoon**, and the 9th image is a **0:art_painting**.\n",
        "\n",
        "**------end note------**"
      ],
      "metadata": {
        "id": "KPxwhkqm_6ev"
      }
    },
    {
      "cell_type": "markdown",
      "metadata": {
        "id": "d24d34c4"
      },
      "source": [
        "# Model Setup: ResNet-18\n",
        "\n",
        "For image classification tasks, convolutional neural networks (CNNs) are commonly used due to their ability to extract spatial features from images. In this notebook, we use a **pretrained ResNet-18** model, a lightweight yet effective architecture.\n",
        "\n",
        "We replace the final fully connected layer to match the number of classes in our dataset. To reduce computational load, we **freeze the backbone** of the network and fine-tune only the classifier head. This approach allows us to adapt the model to our specific task without retraining the entire network, which is especially useful when working on CPUs or with limited resources.\n",
        "\n",
        "**------self note------**\n",
        "\n",
        "Typically, we have these arguements when calling resnet18() as defaults:\n",
        "\n",
        "* **Pre-trained = False**: The model's weights are initialized randomly. It does not load weights that have been pre-trained on a large dataset like ImageNet.\n",
        "* **num_classes = 1000**: The final fully connected layer is configured to output predictions for 1000 classes, which is the number of classes in the ImageNet dataset.\n",
        "* **Other architecture-specific parameters**: These are usually internal to the ResNet-18 definition and you don't typically need to change them for standard use. They define the number of layers, filter sizes, strides, etc.e.\n",
        "  * **block = torchvision.models.resnet.BasicBlock**: the type of residual block to use. For ResNet-18, the default is torchvision.models.resnet.BasicBlock.\n",
        "  * **layers = [2, 2, 2, 2]**: a list that specifies the number of residual blocks in each of the four \"stages\" of the ResNet. For ResNet-18, the default is [2, 2, 2, 2], meaning two BasicBlocks in each of the four residual stages. This is what defines the \"18\" in ResNet-18 (counting the initial conv layer, pooling, the 4 stages with 2 blocks each (2x4=8 conv layers), the final avgpool, and the FC layer: 1 + 1 + 8x2 + 1 = 18 layers with weights)\n",
        "  * **zero_init_residual = false**: a boolean that determines whether to initialize the weights of the last Batch Normalization layer in each residual block to zero. This was a technique proposed in the original ResNet paper to help with training very deep networks initially.\n",
        "  * **groups = 1**: This parameter relates to Grouped Convolutions. For standard ResNet-18, the default is 1, meaning standard convolutions are used. You might see this parameter used in more advanced architectures like ResNeXt.\n",
        "  * **width_per_group = 64**: This parameter also relates to grouped convolutions and controls the number of channels within each group.\n",
        "  * **replace_stride_with_dilation = None**: a boolean that can be used to replace the stride of the first convolution in certain residual blocks with a dilation. This is often used in tasks like semantic segmentation to maintain a larger feature map size.\n",
        "  * **norm_layer = torch.nn.BatchNorm2d**: This parameter allows to specify the type of normalization layer to use (e.g., torch.nn.BatchNorm2d, torch.nn.InstanceNorm2d). The default is Batch Normalization.\n"
      ]
    },
    {
      "cell_type": "code",
      "execution_count": 28,
      "metadata": {
        "id": "a122f704",
        "colab": {
          "base_uri": "https://localhost:8080/"
        },
        "outputId": "8272c180-79cd-48fc-9880-e5aa9dd05c88"
      },
      "outputs": [
        {
          "output_type": "stream",
          "name": "stderr",
          "text": [
            "Downloading: \"https://download.pytorch.org/models/resnet18-f37072fd.pth\" to /root/.cache/torch/hub/checkpoints/resnet18-f37072fd.pth\n",
            "100%|██████████| 44.7M/44.7M [00:00<00:00, 152MB/s]\n"
          ]
        }
      ],
      "source": [
        "# Model setup (ResNet18)\n",
        "model = resnet18(weights=ResNet18_Weights.DEFAULT)\n",
        "num_ftrs = model.fc.in_features\n",
        "model.fc = nn.Linear(num_ftrs, num_classes)\n",
        "\n",
        "# Freeze backbone\n",
        "for param in model.parameters():\n",
        "    param.requires_grad = False\n",
        "\n",
        "# Unfreeze only classifier\n",
        "for param in model.fc.parameters():\n",
        "    param.requires_grad = True\n",
        "\n",
        "model = model.to(device)"
      ]
    },
    {
      "cell_type": "markdown",
      "metadata": {
        "id": "ec56a642"
      },
      "source": [
        "# State-of-the-Art CNNs\n",
        "\n",
        "Recent advancements in convolutional neural networks and hybrid architectures have led to highly accurate, large-scale models. These state-of-the-art architectures are commonly used in cutting-edge applications and typically require significant compute resources such as multi-GPU or TPU setups.\n",
        "\n",
        "Below is a list of modern architectures, along with **ResNet-18** for comparison, which remains a popular baseline due to its simplicity and efficiency.\n",
        "\n",
        "| Model                  | Parameters | ImageNet Top-1 Accuracy | Highlights |\n",
        "|------------------------|------------|--------------------------|------------|\n",
        "| **CoAtNet-7**          | ~2.44B     | ~90.88%                  | Hybrid model combining convolution and attention; excels on large-scale tasks |\n",
        "| **ViT-G/14**           | ~1.84B     | ~90.45%                  | Giant Vision Transformer achieving top-tier performance on ImageNet |\n",
        "| **EfficientNetV2-L**   | ~120M      | ~85.7%                   | Efficient architecture found via neural architecture search (NAS) |\n",
        "| **RegNetY-32GF**       | ~145M      | ~82.9%                   | Balances performance and efficiency; part of the RegNet design space |\n",
        "| **ResNet-18**          | ~11.7M     | ~69.8%                   | Lightweight CNN; widely used in resource-constrained and rapid prototyping settings |\n",
        "\n",
        "\n",
        "\n",
        "---\n",
        "\n",
        "# Why Use ResNet-18?\n",
        "\n",
        "**ResNet-18** is a much smaller network with only **~11.7 million parameters**. While it is no longer considered state-of-the-art in terms of accuracy, it remains a strong baseline due to its:\n",
        "\n",
        "- Fast training on CPU or resource-limited environments\n",
        "- Solid generalization capabilities\n",
        "- Simplicity and interpretability\n",
        "\n",
        "In this notebook, we use ResNet-18 due to **computational constraints** and the need for efficient training during domain adaptation tasks."
      ]
    },
    {
      "cell_type": "code",
      "execution_count": 29,
      "metadata": {
        "id": "df9618eb"
      },
      "outputs": [],
      "source": [
        "# Initialize lists to track training performance\n",
        "train_losses = []\n",
        "train_accuracies = []"
      ]
    },
    {
      "cell_type": "markdown",
      "metadata": {
        "id": "n4RvCYQNVUIL"
      },
      "source": [
        "# Training Loop\n",
        "\n",
        "Train the model on the training domain for the specified number of epochs, tracking training loss and accuracy throughout.  \n",
        "**Note:** Training takes approximately 30 minutes. You don't necessarily need to run the code, as the results are already computed (see below).\n",
        "\n",
        "**------self note------**\n",
        "\n",
        "**criterion = nn.CrossEntropyLoss()** defines the loss function here. This is the standard and generally the correct choice for multi-class classification tasks in PyTorch.\n",
        "\n",
        "**What Cross-Entropy Loss Does?** Cross-entropy loss measures the dissimilarity between the predicted probability distribution of the model and the true distribution of the labels. In a multi-class classification scenario:\n",
        "\n",
        "  * Model Output: Your ResNet-18 model (after the final fully connected layer and typically before a softmax in the loss calculation - as CrossEntropyLoss handles this internally) will output a tensor of raw, unnormalized scores (often called logits) for each class for each image in the batch.\n",
        "\n",
        "  * True Labels: Your target labels for each image in the batch will be integer values representing the correct class index (e.g., 0, 1, 2, ... up to num_classes - 1).\n",
        "\n",
        "  * Internal Softmax: nn.CrossEntropyLoss() internally applies the softmax function to the model's raw output logits. The softmax function converts these raw scores into a probability distribution over the classes, where each probability is between 0 and 1, and the sum of probabilities for all classes for a given image is 1. The softmax function for a vector of logits z=[z_1, z_2,...,z_C], (where C is the number of classes) is calculated as:\n",
        "\n",
        "$$P(y=i|z)=\\frac{e^{z_i}}{\\sum_{j=1}^{C}e^{z_j}}$$\n",
        "\n",
        "&nbsp;&nbsp;&nbsp;&nbsp;&nbsp;&nbsp;&nbsp;&nbsp;&nbsp;&nbsp;&nbsp;&nbsp;&nbsp;&nbsp;&nbsp;&nbsp;&nbsp;&nbsp;&nbsp;&nbsp;where $P(y=i∣z)$ is the predicted probability that the image belongs to class i.\n",
        "\n",
        "  * Negative Log-Likelihood (NLL): After the softmax, the CrossEntropyLoss calculates the negative log-likelihood (NLL) of the true class. For a single training example, if the true class is c, and the predicted probability for class c from the softmax output is $p_c$, the NLL is $-log(p_c)$.\n",
        "\n",
        "  * Averaging: Finally, the loss is averaged over all the training examples in the current batch.\n",
        "\n",
        "**Why CrossEntropy Suits for Multi-Class Classification?**\n",
        "\n",
        "* Probability Distribution: It encourages the model to output a probability distribution that aligns with the true class. The model is penalized more when it assigns a low probability to the correct class.\n",
        "* Handles Mutually Exclusive Classes: It's designed for scenarios where each image belongs to exactly one class (which is typical for image classification).\n",
        "* Combines Softmax and NLL: By performing the softmax internally, it simplifies the training pipeline. You don't need to explicitly add a separate softmax layer before calculating the loss.\n",
        "* Gradient Flow: It provides useful gradients for backpropagation, allowing the model to learn effectively.\n",
        "\n",
        "Note: It took me 19min and 14min to run this module of training first and second time, both much faster than I did on the X-ray dataset in also 5 epoch.\n",
        "\n",
        "\n",
        "**------end note------**"
      ]
    },
    {
      "cell_type": "code",
      "execution_count": 30,
      "metadata": {
        "outputId": "bf44d15e-e946-427d-b91c-52e0e4375295",
        "id": "mrOZHmVUVUIL",
        "colab": {
          "base_uri": "https://localhost:8080/"
        }
      },
      "outputs": [
        {
          "output_type": "stream",
          "name": "stdout",
          "text": [
            "Epoch 1/5 - Loss: 72.2053 - Train Acc: 60.48%\n",
            "Epoch 2/5 - Loss: 33.8577 - Train Acc: 91.32%\n",
            "Epoch 3/5 - Loss: 21.5283 - Train Acc: 94.61%\n",
            "Epoch 4/5 - Loss: 15.8796 - Train Acc: 96.71%\n",
            "Epoch 5/5 - Loss: 12.8021 - Train Acc: 96.53%\n"
          ]
        }
      ],
      "source": [
        "# Training\n",
        "criterion = nn.CrossEntropyLoss()\n",
        "optimizer = optim.Adam(model.parameters(), lr=3e-4)\n",
        "\n",
        "for epoch in range(num_epochs):\n",
        "    model.train()\n",
        "    running_loss = 0.0\n",
        "    correct = 0\n",
        "    total = 0\n",
        "\n",
        "    for batch in train_loader:\n",
        "        inputs = batch[\"image\"].to(device)\n",
        "        labels = batch[\"label\"].to(device)\n",
        "\n",
        "        optimizer.zero_grad()\n",
        "        outputs = model(inputs)\n",
        "        loss = criterion(outputs, labels)\n",
        "        loss.backward()\n",
        "        optimizer.step()\n",
        "\n",
        "        running_loss += loss.item()\n",
        "        _, preds = torch.max(outputs, 1)\n",
        "        correct += (preds == labels).sum().item()\n",
        "        total += labels.size(0)\n",
        "\n",
        "    acc = correct / total * 100\n",
        "    train_losses.append(running_loss)\n",
        "    train_accuracies.append(acc)\n",
        "    print(f\"Epoch {epoch + 1}/{num_epochs} - Loss: {running_loss:.4f} - Train Acc: {acc:.2f}%\")\n"
      ]
    },
    {
      "cell_type": "markdown",
      "metadata": {
        "id": "7f133f2b"
      },
      "source": [
        "# Training Performance Visualization\n",
        "Plot training loss and accuracy across epochs."
      ]
    },
    {
      "cell_type": "code",
      "execution_count": 31,
      "metadata": {
        "id": "8aca80d1",
        "outputId": "f3a57b3f-07f7-4920-bc21-24121107799d",
        "colab": {
          "base_uri": "https://localhost:8080/",
          "height": 319
        }
      },
      "outputs": [
        {
          "output_type": "display_data",
          "data": {
            "text/plain": [
              "<Figure size 1200x500 with 2 Axes>"
            ],
            "image/png": "[encoded data removed]"
          },
          "metadata": {}
        }
      ],
      "source": [
        "epochs = list(range(1, len(train_losses) + 1))\n",
        "plt.figure(figsize=(12, 5))\n",
        "\n",
        "plt.subplot(1, 2, 1)\n",
        "plt.plot(epochs, train_losses, label='Loss')\n",
        "plt.xlabel(\"Epoch\")\n",
        "plt.ylabel(\"Loss\")\n",
        "plt.title(\"Training Loss\")\n",
        "plt.grid(True)\n",
        "\n",
        "plt.subplot(1, 2, 2)\n",
        "plt.plot(epochs, train_accuracies, label='Accuracy')\n",
        "plt.xlabel(\"Epoch\")\n",
        "plt.ylabel(\"Accuracy (%)\")\n",
        "plt.title(\"Training Accuracy\")\n",
        "plt.grid(True)\n",
        "\n",
        "plt.tight_layout()\n",
        "plt.show()\n"
      ]
    },
    {
      "cell_type": "markdown",
      "metadata": {
        "id": "5ae9f2f8"
      },
      "source": [
        "# Evaluation\n",
        "Evaluate the model on the test domains and compute final accuracy."
      ]
    },
    {
      "cell_type": "markdown",
      "metadata": {
        "id": "0ff1575f"
      },
      "source": [
        "# Test Accuracy Across Domains\n",
        "Visualize how well the model performs on the target domains after training."
      ]
    },
    {
      "cell_type": "code",
      "execution_count": 32,
      "metadata": {
        "colab": {
          "referenced_widgets": [
            "8e412d4cdb8847b1a921d9d687cdc6f3",
            "2614adbfcdf3453e8d00b6c589417ce5",
            "aebc9f7b9067453b849dfce16b38707c",
            "deb4576939824161a887f66a177abf7b",
            "63c2cfd3074545f2803064099699cc0f",
            "511986f9f2bf4e8f96cab8705e680e7e",
            "4c39ba17e8284e398ff6fa7d7880f108",
            "9b50888baeca475aa1db71be28da1007",
            "b5dc2dd12b0440279851a6f4edc64245",
            "3178ea9c054e43658fe010ccb9b22d24",
            "a693f8bc14e64ff3a2fe3efb4d0ebdd3",
            "2e99c3bc1a6e461bbc3750bb24f28b9c",
            "e63bd602bded4eecb04abd48e1869c93",
            "c3d2df1b691944a5b838948542f14059",
            "63fd2518f1d349cf865caff60b24030a",
            "797f6a3609cc4bd3a96aefbae21759ea",
            "fa5524f4d7264737a6b13becc232df94",
            "e8242f7e7506444fbf5513a0dcac0387",
            "8a8bb63d80d0469fb440d8ed0d3c18d2",
            "c6675b7f61714e17aabc1ac2fd8ea086",
            "6ec160344a2d4ddd9a082692cefaa8ec",
            "f335b14fe27047d4ac73a8b4d352ff5a",
            "f5eee93183054ba9b8205d4ff3ae6a5d",
            "072c9c2a581241efb721d233dd0caae5",
            "8eae35ee40ca49799ff2e97b1a9ea0bf",
            "a644f035c154449fa07518edc47cc9e9",
            "5a33accff9594beda2d5557a21c8e458",
            "820132245adc48f5b2b8e06744ac08ee",
            "71f278ddac454c73b08a89663ac08c1c",
            "386868275ee74cdda97fb686a1d93bea",
            "95227319c51f480bb2e18cb2030f3a5c",
            "bcaa0cbb26d94a9f8bf171d556760e30",
            "c4cd51d07a0143869ac794e276c32a40"
          ],
          "base_uri": "https://localhost:8080/",
          "height": 169
        },
        "id": "7f626663",
        "outputId": "c7419566-43f1-44c9-f274-b0ae98e455ff"
      },
      "outputs": [
        {
          "output_type": "display_data",
          "data": {
            "text/plain": [
              "Filter:   0%|          | 0/9991 [00:00<?, ? examples/s]"
            ],
            "application/vnd.jupyter.widget-view+json": {
              "version_major": 2,
              "version_minor": 0,
              "model_id": "8e412d4cdb8847b1a921d9d687cdc6f3"
            }
          },
          "metadata": {}
        },
        {
          "output_type": "stream",
          "name": "stdout",
          "text": [
            "Accuracy on 'art_painting': 56.79%\n"
          ]
        },
        {
          "output_type": "display_data",
          "data": {
            "text/plain": [
              "Filter:   0%|          | 0/9991 [00:00<?, ? examples/s]"
            ],
            "application/vnd.jupyter.widget-view+json": {
              "version_major": 2,
              "version_minor": 0,
              "model_id": "2e99c3bc1a6e461bbc3750bb24f28b9c"
            }
          },
          "metadata": {}
        },
        {
          "output_type": "stream",
          "name": "stdout",
          "text": [
            "Accuracy on 'cartoon': 21.76%\n"
          ]
        },
        {
          "output_type": "display_data",
          "data": {
            "text/plain": [
              "Filter:   0%|          | 0/9991 [00:00<?, ? examples/s]"
            ],
            "application/vnd.jupyter.widget-view+json": {
              "version_major": 2,
              "version_minor": 0,
              "model_id": "f5eee93183054ba9b8205d4ff3ae6a5d"
            }
          },
          "metadata": {}
        },
        {
          "output_type": "stream",
          "name": "stdout",
          "text": [
            "Accuracy on 'sketch': 17.18%\n"
          ]
        }
      ],
      "source": [
        "\n",
        "domain_accuracies = {}\n",
        "\n",
        "model.eval()\n",
        "with torch.no_grad():\n",
        "    for domain in test_domains:\n",
        "        domain_subset = dataset[\"train\"].filter(\n",
        "            lambda x: x[\"domain\"] == domain, load_from_cache_file=False\n",
        "        )\n",
        "\n",
        "        domain_subset = domain_subset.with_transform(\n",
        "            lambda batch: apply_transform(batch, transform_test)\n",
        "        )\n",
        "        domain_loader = DataLoader(domain_subset, batch_size=64)\n",
        "\n",
        "        correct = 0\n",
        "        total = 0\n",
        "\n",
        "        for batch in domain_loader:\n",
        "            inputs = batch[\"image\"].to(device)\n",
        "            labels = batch[\"label\"].to(device)\n",
        "\n",
        "            outputs = model(inputs)\n",
        "            _, preds = torch.max(outputs, 1)\n",
        "            correct += (preds == labels).sum().item()\n",
        "            total += labels.size(0)\n",
        "\n",
        "        acc = correct / total * 100\n",
        "        domain_accuracies[domain] = acc\n",
        "        print(f\"Accuracy on '{domain}': {acc:.2f}%\")"
      ]
    },
    {
      "cell_type": "code",
      "execution_count": null,
      "metadata": {
        "id": "e4d881c5",
        "outputId": "b174fe53-c8f8-42d2-c2b9-a7fc6639c49f"
      },
      "outputs": [
        {
          "data": {
            "image/png": "[encoded data removed]",
            "text/plain": [
              "<Figure size 800x500 with 1 Axes>"
            ]
          },
          "metadata": {},
          "output_type": "display_data"
        }
      ],
      "source": [
        "domains = list(domain_accuracies.keys())\n",
        "accuracies = list(domain_accuracies.values())\n",
        "\n",
        "plt.figure(figsize=(8, 5))\n",
        "bars = plt.bar(domains, accuracies, edgecolor=\"black\", alpha=0.85)\n",
        "\n",
        "# Add accuracy labels on top of each bar\n",
        "for bar, acc in zip(bars, accuracies):\n",
        "    yval = bar.get_height()\n",
        "    plt.text(\n",
        "        bar.get_x() + bar.get_width() / 2.0,\n",
        "        yval + 1,\n",
        "        f\"{acc:.1f}%\",\n",
        "        ha=\"center\",\n",
        "        va=\"bottom\",\n",
        "        fontsize=10,\n",
        "    )\n",
        "\n",
        "plt.xlabel(\"Target Domain\", fontsize=12)\n",
        "plt.ylabel(\"Accuracy (%)\", fontsize=12)\n",
        "plt.title(f\"Test Accuracy by Domain (Trained on '{train_domain}')\", fontsize=14)\n",
        "plt.ylim(0, max(accuracies) + 10)\n",
        "plt.grid(axis=\"y\", linestyle=\"--\", linewidth=0.5)\n",
        "plt.xticks(fontsize=10)\n",
        "plt.yticks(fontsize=10)\n",
        "plt.tight_layout()\n",
        "plt.show()\n"
      ]
    },
    {
      "cell_type": "markdown",
      "metadata": {
        "id": "5cd1c3a7"
      },
      "source": [
        "The model achieves a test accuracy of **56.8%** on the `'art_painting'` domain, 26.3% on the\n",
        "`'cartoon'` domain and 27.7% on the `'sketch'` domain, compared to **97.72%** on the training domain\n",
        "`'photo'`. While this is significantly\n",
        "better than random guessing (which would yield about **14.3%** accuracy with 7 classes) for all test\n",
        "domains, it clearly illustrates the challenge of **domain shift**.\n",
        "\n",
        "The model was trained exclusively on `'photo'` images, and struggles to generalize to the visually\n",
        "distinct test domains. This performance gap is a common issue in domain adaptation and\n",
        "underscores the importance of training on **diverse and representative domains** to improve\n",
        "generalization to unseen styles.\n",
        "\n",
        "Here are some approaches to improve the performance on the test domain:\n",
        "\n",
        "- **Train on multiple source domains**  \n",
        "  Including additional domains (e.g., `'sketch'`, `'cartoon'`) during training can help the model learn more robust, domain-invariant features.\n",
        "\n",
        "- **Use stronger data augmentation**  \n",
        "  Techniques such as color jittering, random cropping, rotation, or even style transfer can simulate domain variability during training.\n",
        "\n",
        "- **Fine-tune more layers**  \n",
        "  Instead of freezing the entire backbone, selectively unfreezing the last few blocks (e.g., `layer4`) can help the model adapt better to the target domain.\n",
        "\n",
        "- **Use a more expressive model**  \n",
        "  Switching to a deeper architecture like ResNet-50 or EfficientNet (if compute allows) may improve generalization.\n",
        "\n",
        "- **Domain adaptation techniques**  \n",
        "  Explore advanced strategies like **Domain-Adversarial Training (DANN)**, **Maximum Mean Discrepancy (MMD)**, or **CORAL** to align feature distributions between source and target domains.\n",
        "\n",
        "- **Self-training on target domain**  \n",
        "  If unlabeled target data is available, semi-supervised learning (e.g. **pseudo-labeling**) can help bridge the domain gap."
      ]
    },
    {
      "cell_type": "markdown",
      "metadata": {
        "id": "ac060046"
      },
      "source": [
        "# Question\n",
        "What factors might explain the significant variation in test accuracy across different domains?\n",
        "The model achieves 56.8% accuracy on the `'art_painting'` domain, 26.3% on `'cartoon'`, and 27.7% on\n",
        "`'sketch'`, compared to 97.72% on the training domain `'photo'`.\n",
        "\n",
        "Why do you think the model generalizes better to `'art_painting'` than to `''cartoon'` or `'sketch'`? What characteristics of these domains might make them more or less challenging for the model?\n",
        "\n",
        "**Frank Answer**\n",
        "\n",
        "Domain shift is the major problem from training to test.\n",
        "\n",
        "* **Art_painting**: are either in realism (e;g., impressionism, fauvism, surrealism) style or stressing on realism components. It is reasonable that a lot art paintings bear similar components with photos the training data\n",
        "\n",
        "* **Cartoon** exageration ertain components from the image to stress an non-realistic impression. This is the major sources of domain variance that pre-trained ResNet18 is not optimized.\n",
        "\n",
        "* **Sketch** bears some skeleton components of images, but loses a lot more detail specifics on which a pretrained computer model mostly rely to predict. Compare to cartoons that contains both skeleton and some detail specifics, it is reasonable to see that model performance on Sktech is worse.\n",
        "\n",
        "**Solution**: Like the search rankings that weigh abstract and titles more than textbody, we can incorporate the model that weighs more on skeleton/profile information than finer details. That is to identify the neurons what coincide with skeleton/profile information and boost weights on them during training."
      ]
    },
    {
      "cell_type": "markdown",
      "source": [
        "# Short-Answer Case Question:"
      ],
      "metadata": {
        "id": "oR57WuVyW__c"
      }
    },
    {
      "cell_type": "markdown",
      "source": [
        "Consider applying Reinforcement Learning (RL) to optimize dynamic pricing strategies in e-commerce. Reflect on the following practical considerations:\n",
        "\n",
        "* **Measuring Success**: How would you define success in a real-world pricing system? Think about key metrics such as conversion rates, revenue, or customer satisfaction.\n",
        "\n",
        "*  **Training the Model**: How much time would you allocate for model training? Would you prefer to train the model over a fixed period, or allow it to continuously learn from real-time data? What are the advantages and trade-offs of each approach?\n",
        "\n",
        "* **Tracking States**: What states are important for dynamic pricing (e.g., market conditions, customer behavior, competitor prices)? How would you make sure these states are measurable and useful in making pricing decisions?\n",
        "\n",
        "*  **Action Space Constraints**: What constraints would you place on the pricing model (e.g., price ranges or rate limits) to ensure practical, realistic outcomes? How would these constraints be enforced within the RL model?\n",
        "\n",
        "*  **Simulation In Practice**: How realistic do you think the simulation model for dynamic pricing is? Would you trust its predictions in a real-world setting? How would you test or validate the simulation using actual e-commerce data?"
      ],
      "metadata": {
        "id": "VocGAltzXasC"
      }
    }
  ],
  "metadata": {
    "colab": {
      "provenance": [],
      "include_colab_link": true
    },
    "kernelspec": {
      "display_name": "Python 3",
      "name": "python3"
    },
    "language_info": {
      "codemirror_mode": {
        "name": "ipython",
        "version": 3
      },
      "file_extension": ".py",
      "mimetype": "text/x-python",
      "name": "python",
      "nbconvert_exporter": "python",
      "pygments_lexer": "ipython3",
      "version": "3.12.1"
    },
    "widgets": {
      "application/vnd.jupyter.widget-state+json": {
        "8e412d4cdb8847b1a921d9d687cdc6f3": {
          "model_module": "@jupyter-widgets/controls",
          "model_name": "HBoxModel",
          "model_module_version": "1.5.0",
          "state": {
            "_dom_classes": [],
            "_model_module": "@jupyter-widgets/controls",
            "_model_module_version": "1.5.0",
            "_model_name": "HBoxModel",
            "_view_count": null,
            "_view_module": "@jupyter-widgets/controls",
            "_view_module_version": "1.5.0",
            "_view_name": "HBoxView",
            "box_style": "",
            "children": [
              "IPY_MODEL_2614adbfcdf3453e8d00b6c589417ce5",
              "IPY_MODEL_aebc9f7b9067453b849dfce16b38707c",
              "IPY_MODEL_deb4576939824161a887f66a177abf7b"
            ],
            "layout": "IPY_MODEL_63c2cfd3074545f2803064099699cc0f"
          }
        },
        "2614adbfcdf3453e8d00b6c589417ce5": {
          "model_module": "@jupyter-widgets/controls",
          "model_name": "HTMLModel",
          "model_module_version": "1.5.0",
          "state": {
            "_dom_classes": [],
            "_model_module": "@jupyter-widgets/controls",
            "_model_module_version": "1.5.0",
            "_model_name": "HTMLModel",
            "_view_count": null,
            "_view_module": "@jupyter-widgets/controls",
            "_view_module_version": "1.5.0",
            "_view_name": "HTMLView",
            "description": "",
            "description_tooltip": null,
            "layout": "IPY_MODEL_511986f9f2bf4e8f96cab8705e680e7e",
            "placeholder": "​",
            "style": "IPY_MODEL_4c39ba17e8284e398ff6fa7d7880f108",
            "value": "Filter: 100%"
          }
        },
        "aebc9f7b9067453b849dfce16b38707c": {
          "model_module": "@jupyter-widgets/controls",
          "model_name": "FloatProgressModel",
          "model_module_version": "1.5.0",
          "state": {
            "_dom_classes": [],
            "_model_module": "@jupyter-widgets/controls",
            "_model_module_version": "1.5.0",
            "_model_name": "FloatProgressModel",
            "_view_count": null,
            "_view_module": "@jupyter-widgets/controls",
            "_view_module_version": "1.5.0",
            "_view_name": "ProgressView",
            "bar_style": "success",
            "description": "",
            "description_tooltip": null,
            "layout": "IPY_MODEL_9b50888baeca475aa1db71be28da1007",
            "max": 9991,
            "min": 0,
            "orientation": "horizontal",
            "style": "IPY_MODEL_b5dc2dd12b0440279851a6f4edc64245",
            "value": 9991
          }
        },
        "deb4576939824161a887f66a177abf7b": {
          "model_module": "@jupyter-widgets/controls",
          "model_name": "HTMLModel",
          "model_module_version": "1.5.0",
          "state": {
            "_dom_classes": [],
            "_model_module": "@jupyter-widgets/controls",
            "_model_module_version": "1.5.0",
            "_model_name": "HTMLModel",
            "_view_count": null,
            "_view_module": "@jupyter-widgets/controls",
            "_view_module_version": "1.5.0",
            "_view_name": "HTMLView",
            "description": "",
            "description_tooltip": null,
            "layout": "IPY_MODEL_3178ea9c054e43658fe010ccb9b22d24",
            "placeholder": "​",
            "style": "IPY_MODEL_a693f8bc14e64ff3a2fe3efb4d0ebdd3",
            "value": " 9991/9991 [00:08&lt;00:00, 1187.22 examples/s]"
          }
        },
        "63c2cfd3074545f2803064099699cc0f": {
          "model_module": "@jupyter-widgets/base",
          "model_name": "LayoutModel",
          "model_module_version": "1.2.0",
          "state": {
            "_model_module": "@jupyter-widgets/base",
            "_model_module_version": "1.2.0",
            "_model_name": "LayoutModel",
            "_view_count": null,
            "_view_module": "@jupyter-widgets/base",
            "_view_module_version": "1.2.0",
            "_view_name": "LayoutView",
            "align_content": null,
            "align_items": null,
            "align_self": null,
            "border": null,
            "bottom": null,
            "display": null,
            "flex": null,
            "flex_flow": null,
            "grid_area": null,
            "grid_auto_columns": null,
            "grid_auto_flow": null,
            "grid_auto_rows": null,
            "grid_column": null,
            "grid_gap": null,
            "grid_row": null,
            "grid_template_areas": null,
            "grid_template_columns": null,
            "grid_template_rows": null,
            "height": null,
            "justify_content": null,
            "justify_items": null,
            "left": null,
            "margin": null,
            "max_height": null,
            "max_width": null,
            "min_height": null,
            "min_width": null,
            "object_fit": null,
            "object_position": null,
            "order": null,
            "overflow": null,
            "overflow_x": null,
            "overflow_y": null,
            "padding": null,
            "right": null,
            "top": null,
            "visibility": null,
            "width": null
          }
        },
        "511986f9f2bf4e8f96cab8705e680e7e": {
          "model_module": "@jupyter-widgets/base",
          "model_name": "LayoutModel",
          "model_module_version": "1.2.0",
          "state": {
            "_model_module": "@jupyter-widgets/base",
            "_model_module_version": "1.2.0",
            "_model_name": "LayoutModel",
            "_view_count": null,
            "_view_module": "@jupyter-widgets/base",
            "_view_module_version": "1.2.0",
            "_view_name": "LayoutView",
            "align_content": null,
            "align_items": null,
            "align_self": null,
            "border": null,
            "bottom": null,
            "display": null,
            "flex": null,
            "flex_flow": null,
            "grid_area": null,
            "grid_auto_columns": null,
            "grid_auto_flow": null,
            "grid_auto_rows": null,
            "grid_column": null,
            "grid_gap": null,
            "grid_row": null,
            "grid_template_areas": null,
            "grid_template_columns": null,
            "grid_template_rows": null,
            "height": null,
            "justify_content": null,
            "justify_items": null,
            "left": null,
            "margin": null,
            "max_height": null,
            "max_width": null,
            "min_height": null,
            "min_width": null,
            "object_fit": null,
            "object_position": null,
            "order": null,
            "overflow": null,
            "overflow_x": null,
            "overflow_y": null,
            "padding": null,
            "right": null,
            "top": null,
            "visibility": null,
            "width": null
          }
        },
        "4c39ba17e8284e398ff6fa7d7880f108": {
          "model_module": "@jupyter-widgets/controls",
          "model_name": "DescriptionStyleModel",
          "model_module_version": "1.5.0",
          "state": {
            "_model_module": "@jupyter-widgets/controls",
            "_model_module_version": "1.5.0",
            "_model_name": "DescriptionStyleModel",
            "_view_count": null,
            "_view_module": "@jupyter-widgets/base",
            "_view_module_version": "1.2.0",
            "_view_name": "StyleView",
            "description_width": ""
          }
        },
        "9b50888baeca475aa1db71be28da1007": {
          "model_module": "@jupyter-widgets/base",
          "model_name": "LayoutModel",
          "model_module_version": "1.2.0",
          "state": {
            "_model_module": "@jupyter-widgets/base",
            "_model_module_version": "1.2.0",
            "_model_name": "LayoutModel",
            "_view_count": null,
            "_view_module": "@jupyter-widgets/base",
            "_view_module_version": "1.2.0",
            "_view_name": "LayoutView",
            "align_content": null,
            "align_items": null,
            "align_self": null,
            "border": null,
            "bottom": null,
            "display": null,
            "flex": null,
            "flex_flow": null,
            "grid_area": null,
            "grid_auto_columns": null,
            "grid_auto_flow": null,
            "grid_auto_rows": null,
            "grid_column": null,
            "grid_gap": null,
            "grid_row": null,
            "grid_template_areas": null,
            "grid_template_columns": null,
            "grid_template_rows": null,
            "height": null,
            "justify_content": null,
            "justify_items": null,
            "left": null,
            "margin": null,
            "max_height": null,
            "max_width": null,
            "min_height": null,
            "min_width": null,
            "object_fit": null,
            "object_position": null,
            "order": null,
            "overflow": null,
            "overflow_x": null,
            "overflow_y": null,
            "padding": null,
            "right": null,
            "top": null,
            "visibility": null,
            "width": null
          }
        },
        "b5dc2dd12b0440279851a6f4edc64245": {
          "model_module": "@jupyter-widgets/controls",
          "model_name": "ProgressStyleModel",
          "model_module_version": "1.5.0",
          "state": {
            "_model_module": "@jupyter-widgets/controls",
            "_model_module_version": "1.5.0",
            "_model_name": "ProgressStyleModel",
            "_view_count": null,
            "_view_module": "@jupyter-widgets/base",
            "_view_module_version": "1.2.0",
            "_view_name": "StyleView",
            "bar_color": null,
            "description_width": ""
          }
        },
        "3178ea9c054e43658fe010ccb9b22d24": {
          "model_module": "@jupyter-widgets/base",
          "model_name": "LayoutModel",
          "model_module_version": "1.2.0",
          "state": {
            "_model_module": "@jupyter-widgets/base",
            "_model_module_version": "1.2.0",
            "_model_name": "LayoutModel",
            "_view_count": null,
            "_view_module": "@jupyter-widgets/base",
            "_view_module_version": "1.2.0",
            "_view_name": "LayoutView",
            "align_content": null,
            "align_items": null,
            "align_self": null,
            "border": null,
            "bottom": null,
            "display": null,
            "flex": null,
            "flex_flow": null,
            "grid_area": null,
            "grid_auto_columns": null,
            "grid_auto_flow": null,
            "grid_auto_rows": null,
            "grid_column": null,
            "grid_gap": null,
            "grid_row": null,
            "grid_template_areas": null,
            "grid_template_columns": null,
            "grid_template_rows": null,
            "height": null,
            "justify_content": null,
            "justify_items": null,
            "left": null,
            "margin": null,
            "max_height": null,
            "max_width": null,
            "min_height": null,
            "min_width": null,
            "object_fit": null,
            "object_position": null,
            "order": null,
            "overflow": null,
            "overflow_x": null,
            "overflow_y": null,
            "padding": null,
            "right": null,
            "top": null,
            "visibility": null,
            "width": null
          }
        },
        "a693f8bc14e64ff3a2fe3efb4d0ebdd3": {
          "model_module": "@jupyter-widgets/controls",
          "model_name": "DescriptionStyleModel",
          "model_module_version": "1.5.0",
          "state": {
            "_model_module": "@jupyter-widgets/controls",
            "_model_module_version": "1.5.0",
            "_model_name": "DescriptionStyleModel",
            "_view_count": null,
            "_view_module": "@jupyter-widgets/base",
            "_view_module_version": "1.2.0",
            "_view_name": "StyleView",
            "description_width": ""
          }
        },
        "2e99c3bc1a6e461bbc3750bb24f28b9c": {
          "model_module": "@jupyter-widgets/controls",
          "model_name": "HBoxModel",
          "model_module_version": "1.5.0",
          "state": {
            "_dom_classes": [],
            "_model_module": "@jupyter-widgets/controls",
            "_model_module_version": "1.5.0",
            "_model_name": "HBoxModel",
            "_view_count": null,
            "_view_module": "@jupyter-widgets/controls",
            "_view_module_version": "1.5.0",
            "_view_name": "HBoxView",
            "box_style": "",
            "children": [
              "IPY_MODEL_e63bd602bded4eecb04abd48e1869c93",
              "IPY_MODEL_c3d2df1b691944a5b838948542f14059",
              "IPY_MODEL_63fd2518f1d349cf865caff60b24030a"
            ],
            "layout": "IPY_MODEL_797f6a3609cc4bd3a96aefbae21759ea"
          }
        },
        "e63bd602bded4eecb04abd48e1869c93": {
          "model_module": "@jupyter-widgets/controls",
          "model_name": "HTMLModel",
          "model_module_version": "1.5.0",
          "state": {
            "_dom_classes": [],
            "_model_module": "@jupyter-widgets/controls",
            "_model_module_version": "1.5.0",
            "_model_name": "HTMLModel",
            "_view_count": null,
            "_view_module": "@jupyter-widgets/controls",
            "_view_module_version": "1.5.0",
            "_view_name": "HTMLView",
            "description": "",
            "description_tooltip": null,
            "layout": "IPY_MODEL_fa5524f4d7264737a6b13becc232df94",
            "placeholder": "​",
            "style": "IPY_MODEL_e8242f7e7506444fbf5513a0dcac0387",
            "value": "Filter: 100%"
          }
        },
        "c3d2df1b691944a5b838948542f14059": {
          "model_module": "@jupyter-widgets/controls",
          "model_name": "FloatProgressModel",
          "model_module_version": "1.5.0",
          "state": {
            "_dom_classes": [],
            "_model_module": "@jupyter-widgets/controls",
            "_model_module_version": "1.5.0",
            "_model_name": "FloatProgressModel",
            "_view_count": null,
            "_view_module": "@jupyter-widgets/controls",
            "_view_module_version": "1.5.0",
            "_view_name": "ProgressView",
            "bar_style": "success",
            "description": "",
            "description_tooltip": null,
            "layout": "IPY_MODEL_8a8bb63d80d0469fb440d8ed0d3c18d2",
            "max": 9991,
            "min": 0,
            "orientation": "horizontal",
            "style": "IPY_MODEL_c6675b7f61714e17aabc1ac2fd8ea086",
            "value": 9991
          }
        },
        "63fd2518f1d349cf865caff60b24030a": {
          "model_module": "@jupyter-widgets/controls",
          "model_name": "HTMLModel",
          "model_module_version": "1.5.0",
          "state": {
            "_dom_classes": [],
            "_model_module": "@jupyter-widgets/controls",
            "_model_module_version": "1.5.0",
            "_model_name": "HTMLModel",
            "_view_count": null,
            "_view_module": "@jupyter-widgets/controls",
            "_view_module_version": "1.5.0",
            "_view_name": "HTMLView",
            "description": "",
            "description_tooltip": null,
            "layout": "IPY_MODEL_6ec160344a2d4ddd9a082692cefaa8ec",
            "placeholder": "​",
            "style": "IPY_MODEL_f335b14fe27047d4ac73a8b4d352ff5a",
            "value": " 9991/9991 [00:06&lt;00:00, 1347.27 examples/s]"
          }
        },
        "797f6a3609cc4bd3a96aefbae21759ea": {
          "model_module": "@jupyter-widgets/base",
          "model_name": "LayoutModel",
          "model_module_version": "1.2.0",
          "state": {
            "_model_module": "@jupyter-widgets/base",
            "_model_module_version": "1.2.0",
            "_model_name": "LayoutModel",
            "_view_count": null,
            "_view_module": "@jupyter-widgets/base",
            "_view_module_version": "1.2.0",
            "_view_name": "LayoutView",
            "align_content": null,
            "align_items": null,
            "align_self": null,
            "border": null,
            "bottom": null,
            "display": null,
            "flex": null,
            "flex_flow": null,
            "grid_area": null,
            "grid_auto_columns": null,
            "grid_auto_flow": null,
            "grid_auto_rows": null,
            "grid_column": null,
            "grid_gap": null,
            "grid_row": null,
            "grid_template_areas": null,
            "grid_template_columns": null,
            "grid_template_rows": null,
            "height": null,
            "justify_content": null,
            "justify_items": null,
            "left": null,
            "margin": null,
            "max_height": null,
            "max_width": null,
            "min_height": null,
            "min_width": null,
            "object_fit": null,
            "object_position": null,
            "order": null,
            "overflow": null,
            "overflow_x": null,
            "overflow_y": null,
            "padding": null,
            "right": null,
            "top": null,
            "visibility": null,
            "width": null
          }
        },
        "fa5524f4d7264737a6b13becc232df94": {
          "model_module": "@jupyter-widgets/base",
          "model_name": "LayoutModel",
          "model_module_version": "1.2.0",
          "state": {
            "_model_module": "@jupyter-widgets/base",
            "_model_module_version": "1.2.0",
            "_model_name": "LayoutModel",
            "_view_count": null,
            "_view_module": "@jupyter-widgets/base",
            "_view_module_version": "1.2.0",
            "_view_name": "LayoutView",
            "align_content": null,
            "align_items": null,
            "align_self": null,
            "border": null,
            "bottom": null,
            "display": null,
            "flex": null,
            "flex_flow": null,
            "grid_area": null,
            "grid_auto_columns": null,
            "grid_auto_flow": null,
            "grid_auto_rows": null,
            "grid_column": null,
            "grid_gap": null,
            "grid_row": null,
            "grid_template_areas": null,
            "grid_template_columns": null,
            "grid_template_rows": null,
            "height": null,
            "justify_content": null,
            "justify_items": null,
            "left": null,
            "margin": null,
            "max_height": null,
            "max_width": null,
            "min_height": null,
            "min_width": null,
            "object_fit": null,
            "object_position": null,
            "order": null,
            "overflow": null,
            "overflow_x": null,
            "overflow_y": null,
            "padding": null,
            "right": null,
            "top": null,
            "visibility": null,
            "width": null
          }
        },
        "e8242f7e7506444fbf5513a0dcac0387": {
          "model_module": "@jupyter-widgets/controls",
          "model_name": "DescriptionStyleModel",
          "model_module_version": "1.5.0",
          "state": {
            "_model_module": "@jupyter-widgets/controls",
            "_model_module_version": "1.5.0",
            "_model_name": "DescriptionStyleModel",
            "_view_count": null,
            "_view_module": "@jupyter-widgets/base",
            "_view_module_version": "1.2.0",
            "_view_name": "StyleView",
            "description_width": ""
          }
        },
        "8a8bb63d80d0469fb440d8ed0d3c18d2": {
          "model_module": "@jupyter-widgets/base",
          "model_name": "LayoutModel",
          "model_module_version": "1.2.0",
          "state": {
            "_model_module": "@jupyter-widgets/base",
            "_model_module_version": "1.2.0",
            "_model_name": "LayoutModel",
            "_view_count": null,
            "_view_module": "@jupyter-widgets/base",
            "_view_module_version": "1.2.0",
            "_view_name": "LayoutView",
            "align_content": null,
            "align_items": null,
            "align_self": null,
            "border": null,
            "bottom": null,
            "display": null,
            "flex": null,
            "flex_flow": null,
            "grid_area": null,
            "grid_auto_columns": null,
            "grid_auto_flow": null,
            "grid_auto_rows": null,
            "grid_column": null,
            "grid_gap": null,
            "grid_row": null,
            "grid_template_areas": null,
            "grid_template_columns": null,
            "grid_template_rows": null,
            "height": null,
            "justify_content": null,
            "justify_items": null,
            "left": null,
            "margin": null,
            "max_height": null,
            "max_width": null,
            "min_height": null,
            "min_width": null,
            "object_fit": null,
            "object_position": null,
            "order": null,
            "overflow": null,
            "overflow_x": null,
            "overflow_y": null,
            "padding": null,
            "right": null,
            "top": null,
            "visibility": null,
            "width": null
          }
        },
        "c6675b7f61714e17aabc1ac2fd8ea086": {
          "model_module": "@jupyter-widgets/controls",
          "model_name": "ProgressStyleModel",
          "model_module_version": "1.5.0",
          "state": {
            "_model_module": "@jupyter-widgets/controls",
            "_model_module_version": "1.5.0",
            "_model_name": "ProgressStyleModel",
            "_view_count": null,
            "_view_module": "@jupyter-widgets/base",
            "_view_module_version": "1.2.0",
            "_view_name": "StyleView",
            "bar_color": null,
            "description_width": ""
          }
        },
        "6ec160344a2d4ddd9a082692cefaa8ec": {
          "model_module": "@jupyter-widgets/base",
          "model_name": "LayoutModel",
          "model_module_version": "1.2.0",
          "state": {
            "_model_module": "@jupyter-widgets/base",
            "_model_module_version": "1.2.0",
            "_model_name": "LayoutModel",
            "_view_count": null,
            "_view_module": "@jupyter-widgets/base",
            "_view_module_version": "1.2.0",
            "_view_name": "LayoutView",
            "align_content": null,
            "align_items": null,
            "align_self": null,
            "border": null,
            "bottom": null,
            "display": null,
            "flex": null,
            "flex_flow": null,
            "grid_area": null,
            "grid_auto_columns": null,
            "grid_auto_flow": null,
            "grid_auto_rows": null,
            "grid_column": null,
            "grid_gap": null,
            "grid_row": null,
            "grid_template_areas": null,
            "grid_template_columns": null,
            "grid_template_rows": null,
            "height": null,
            "justify_content": null,
            "justify_items": null,
            "left": null,
            "margin": null,
            "max_height": null,
            "max_width": null,
            "min_height": null,
            "min_width": null,
            "object_fit": null,
            "object_position": null,
            "order": null,
            "overflow": null,
            "overflow_x": null,
            "overflow_y": null,
            "padding": null,
            "right": null,
            "top": null,
            "visibility": null,
            "width": null
          }
        },
        "f335b14fe27047d4ac73a8b4d352ff5a": {
          "model_module": "@jupyter-widgets/controls",
          "model_name": "DescriptionStyleModel",
          "model_module_version": "1.5.0",
          "state": {
            "_model_module": "@jupyter-widgets/controls",
            "_model_module_version": "1.5.0",
            "_model_name": "DescriptionStyleModel",
            "_view_count": null,
            "_view_module": "@jupyter-widgets/base",
            "_view_module_version": "1.2.0",
            "_view_name": "StyleView",
            "description_width": ""
          }
        },
        "f5eee93183054ba9b8205d4ff3ae6a5d": {
          "model_module": "@jupyter-widgets/controls",
          "model_name": "HBoxModel",
          "model_module_version": "1.5.0",
          "state": {
            "_dom_classes": [],
            "_model_module": "@jupyter-widgets/controls",
            "_model_module_version": "1.5.0",
            "_model_name": "HBoxModel",
            "_view_count": null,
            "_view_module": "@jupyter-widgets/controls",
            "_view_module_version": "1.5.0",
            "_view_name": "HBoxView",
            "box_style": "",
            "children": [
              "IPY_MODEL_072c9c2a581241efb721d233dd0caae5",
              "IPY_MODEL_8eae35ee40ca49799ff2e97b1a9ea0bf",
              "IPY_MODEL_a644f035c154449fa07518edc47cc9e9"
            ],
            "layout": "IPY_MODEL_5a33accff9594beda2d5557a21c8e458"
          }
        },
        "072c9c2a581241efb721d233dd0caae5": {
          "model_module": "@jupyter-widgets/controls",
          "model_name": "HTMLModel",
          "model_module_version": "1.5.0",
          "state": {
            "_dom_classes": [],
            "_model_module": "@jupyter-widgets/controls",
            "_model_module_version": "1.5.0",
            "_model_name": "HTMLModel",
            "_view_count": null,
            "_view_module": "@jupyter-widgets/controls",
            "_view_module_version": "1.5.0",
            "_view_name": "HTMLView",
            "description": "",
            "description_tooltip": null,
            "layout": "IPY_MODEL_820132245adc48f5b2b8e06744ac08ee",
            "placeholder": "​",
            "style": "IPY_MODEL_71f278ddac454c73b08a89663ac08c1c",
            "value": "Filter: 100%"
          }
        },
        "8eae35ee40ca49799ff2e97b1a9ea0bf": {
          "model_module": "@jupyter-widgets/controls",
          "model_name": "FloatProgressModel",
          "model_module_version": "1.5.0",
          "state": {
            "_dom_classes": [],
            "_model_module": "@jupyter-widgets/controls",
            "_model_module_version": "1.5.0",
            "_model_name": "FloatProgressModel",
            "_view_count": null,
            "_view_module": "@jupyter-widgets/controls",
            "_view_module_version": "1.5.0",
            "_view_name": "ProgressView",
            "bar_style": "success",
            "description": "",
            "description_tooltip": null,
            "layout": "IPY_MODEL_386868275ee74cdda97fb686a1d93bea",
            "max": 9991,
            "min": 0,
            "orientation": "horizontal",
            "style": "IPY_MODEL_95227319c51f480bb2e18cb2030f3a5c",
            "value": 9991
          }
        },
        "a644f035c154449fa07518edc47cc9e9": {
          "model_module": "@jupyter-widgets/controls",
          "model_name": "HTMLModel",
          "model_module_version": "1.5.0",
          "state": {
            "_dom_classes": [],
            "_model_module": "@jupyter-widgets/controls",
            "_model_module_version": "1.5.0",
            "_model_name": "HTMLModel",
            "_view_count": null,
            "_view_module": "@jupyter-widgets/controls",
            "_view_module_version": "1.5.0",
            "_view_name": "HTMLView",
            "description": "",
            "description_tooltip": null,
            "layout": "IPY_MODEL_bcaa0cbb26d94a9f8bf171d556760e30",
            "placeholder": "​",
            "style": "IPY_MODEL_c4cd51d07a0143869ac794e276c32a40",
            "value": " 9991/9991 [00:08&lt;00:00, 1276.48 examples/s]"
          }
        },
        "5a33accff9594beda2d5557a21c8e458": {
          "model_module": "@jupyter-widgets/base",
          "model_name": "LayoutModel",
          "model_module_version": "1.2.0",
          "state": {
            "_model_module": "@jupyter-widgets/base",
            "_model_module_version": "1.2.0",
            "_model_name": "LayoutModel",
            "_view_count": null,
            "_view_module": "@jupyter-widgets/base",
            "_view_module_version": "1.2.0",
            "_view_name": "LayoutView",
            "align_content": null,
            "align_items": null,
            "align_self": null,
            "border": null,
            "bottom": null,
            "display": null,
            "flex": null,
            "flex_flow": null,
            "grid_area": null,
            "grid_auto_columns": null,
            "grid_auto_flow": null,
            "grid_auto_rows": null,
            "grid_column": null,
            "grid_gap": null,
            "grid_row": null,
            "grid_template_areas": null,
            "grid_template_columns": null,
            "grid_template_rows": null,
            "height": null,
            "justify_content": null,
            "justify_items": null,
            "left": null,
            "margin": null,
            "max_height": null,
            "max_width": null,
            "min_height": null,
            "min_width": null,
            "object_fit": null,
            "object_position": null,
            "order": null,
            "overflow": null,
            "overflow_x": null,
            "overflow_y": null,
            "padding": null,
            "right": null,
            "top": null,
            "visibility": null,
            "width": null
          }
        },
        "820132245adc48f5b2b8e06744ac08ee": {
          "model_module": "@jupyter-widgets/base",
          "model_name": "LayoutModel",
          "model_module_version": "1.2.0",
          "state": {
            "_model_module": "@jupyter-widgets/base",
            "_model_module_version": "1.2.0",
            "_model_name": "LayoutModel",
            "_view_count": null,
            "_view_module": "@jupyter-widgets/base",
            "_view_module_version": "1.2.0",
            "_view_name": "LayoutView",
            "align_content": null,
            "align_items": null,
            "align_self": null,
            "border": null,
            "bottom": null,
            "display": null,
            "flex": null,
            "flex_flow": null,
            "grid_area": null,
            "grid_auto_columns": null,
            "grid_auto_flow": null,
            "grid_auto_rows": null,
            "grid_column": null,
            "grid_gap": null,
            "grid_row": null,
            "grid_template_areas": null,
            "grid_template_columns": null,
            "grid_template_rows": null,
            "height": null,
            "justify_content": null,
            "justify_items": null,
            "left": null,
            "margin": null,
            "max_height": null,
            "max_width": null,
            "min_height": null,
            "min_width": null,
            "object_fit": null,
            "object_position": null,
            "order": null,
            "overflow": null,
            "overflow_x": null,
            "overflow_y": null,
            "padding": null,
            "right": null,
            "top": null,
            "visibility": null,
            "width": null
          }
        },
        "71f278ddac454c73b08a89663ac08c1c": {
          "model_module": "@jupyter-widgets/controls",
          "model_name": "DescriptionStyleModel",
          "model_module_version": "1.5.0",
          "state": {
            "_model_module": "@jupyter-widgets/controls",
            "_model_module_version": "1.5.0",
            "_model_name": "DescriptionStyleModel",
            "_view_count": null,
            "_view_module": "@jupyter-widgets/base",
            "_view_module_version": "1.2.0",
            "_view_name": "StyleView",
            "description_width": ""
          }
        },
        "386868275ee74cdda97fb686a1d93bea": {
          "model_module": "@jupyter-widgets/base",
          "model_name": "LayoutModel",
          "model_module_version": "1.2.0",
          "state": {
            "_model_module": "@jupyter-widgets/base",
            "_model_module_version": "1.2.0",
            "_model_name": "LayoutModel",
            "_view_count": null,
            "_view_module": "@jupyter-widgets/base",
            "_view_module_version": "1.2.0",
            "_view_name": "LayoutView",
            "align_content": null,
            "align_items": null,
            "align_self": null,
            "border": null,
            "bottom": null,
            "display": null,
            "flex": null,
            "flex_flow": null,
            "grid_area": null,
            "grid_auto_columns": null,
            "grid_auto_flow": null,
            "grid_auto_rows": null,
            "grid_column": null,
            "grid_gap": null,
            "grid_row": null,
            "grid_template_areas": null,
            "grid_template_columns": null,
            "grid_template_rows": null,
            "height": null,
            "justify_content": null,
            "justify_items": null,
            "left": null,
            "margin": null,
            "max_height": null,
            "max_width": null,
            "min_height": null,
            "min_width": null,
            "object_fit": null,
            "object_position": null,
            "order": null,
            "overflow": null,
            "overflow_x": null,
            "overflow_y": null,
            "padding": null,
            "right": null,
            "top": null,
            "visibility": null,
            "width": null
          }
        },
        "95227319c51f480bb2e18cb2030f3a5c": {
          "model_module": "@jupyter-widgets/controls",
          "model_name": "ProgressStyleModel",
          "model_module_version": "1.5.0",
          "state": {
            "_model_module": "@jupyter-widgets/controls",
            "_model_module_version": "1.5.0",
            "_model_name": "ProgressStyleModel",
            "_view_count": null,
            "_view_module": "@jupyter-widgets/base",
            "_view_module_version": "1.2.0",
            "_view_name": "StyleView",
            "bar_color": null,
            "description_width": ""
          }
        },
        "bcaa0cbb26d94a9f8bf171d556760e30": {
          "model_module": "@jupyter-widgets/base",
          "model_name": "LayoutModel",
          "model_module_version": "1.2.0",
          "state": {
            "_model_module": "@jupyter-widgets/base",
            "_model_module_version": "1.2.0",
            "_model_name": "LayoutModel",
            "_view_count": null,
            "_view_module": "@jupyter-widgets/base",
            "_view_module_version": "1.2.0",
            "_view_name": "LayoutView",
            "align_content": null,
            "align_items": null,
            "align_self": null,
            "border": null,
            "bottom": null,
            "display": null,
            "flex": null,
            "flex_flow": null,
            "grid_area": null,
            "grid_auto_columns": null,
            "grid_auto_flow": null,
            "grid_auto_rows": null,
            "grid_column": null,
            "grid_gap": null,
            "grid_row": null,
            "grid_template_areas": null,
            "grid_template_columns": null,
            "grid_template_rows": null,
            "height": null,
            "justify_content": null,
            "justify_items": null,
            "left": null,
            "margin": null,
            "max_height": null,
            "max_width": null,
            "min_height": null,
            "min_width": null,
            "object_fit": null,
            "object_position": null,
            "order": null,
            "overflow": null,
            "overflow_x": null,
            "overflow_y": null,
            "padding": null,
            "right": null,
            "top": null,
            "visibility": null,
            "width": null
          }
        },
        "c4cd51d07a0143869ac794e276c32a40": {
          "model_module": "@jupyter-widgets/controls",
          "model_name": "DescriptionStyleModel",
          "model_module_version": "1.5.0",
          "state": {
            "_model_module": "@jupyter-widgets/controls",
            "_model_module_version": "1.5.0",
            "_model_name": "DescriptionStyleModel",
            "_view_count": null,
            "_view_module": "@jupyter-widgets/base",
            "_view_module_version": "1.2.0",
            "_view_name": "StyleView",
            "description_width": ""
          }
        }
      }
    }
  },
  "nbformat": 4,
  "nbformat_minor": 0
}