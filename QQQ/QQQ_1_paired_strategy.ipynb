  {
      "cell_type": "code",
      "execution_count": null,
      "metadata": {
        "colab": {
          "base_uri": "https://localhost:8080/",
          "height": 455
        },
        "id": "2Dxvg-V-MgdO",
        "outputId": "2b669123-49c9-4538-cefc-baa607f6b151"
      },
