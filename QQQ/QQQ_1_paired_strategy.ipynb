# This project recreates the paired strategy with a moving linear regression model
# Use the QQQ_history_990310_250505.csv data file in this directory
# Read the CSV file directly from the /raw.githubusercontent.com/ URL
import pandas as pd
url = "https://raw.githubusercontent.com/fengfrankgthb/BUS-41204/main/QQQ/QQQ_history_990310_250505.csv"
df = pd.read_csv(url)
df[2:5] # Display 3rd-5th rows of data. Index=2 is 3rd row included, whereas index=5 is 6th row excluded.
